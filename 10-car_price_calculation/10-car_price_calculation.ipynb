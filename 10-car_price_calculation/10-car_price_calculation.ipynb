{
 "cells": [
  {
   "cell_type": "markdown",
   "metadata": {},
   "source": [
    "В данном проекте на основе исторических данных объявлений о продаже автомобилей построены и проанализированы несколько моделей для предсказания рыночной стоимости автомобилей."
   ]
  },
  {
   "cell_type": "markdown",
   "metadata": {},
   "source": [
    "# 1. Подготовка данных"
   ]
  },
  {
   "cell_type": "markdown",
   "metadata": {},
   "source": [
    "Первым шагом настроим окружение: импортируем все необходимые библиотеки."
   ]
  },
  {
   "cell_type": "code",
   "execution_count": 1,
   "metadata": {},
   "outputs": [],
   "source": [
    "import pandas as pd\n",
    "import numpy as np\n",
    "import seaborn as sns\n",
    "import matplotlib.pyplot as plt\n",
    "from IPython.display import display\n",
    "from sklearn.model_selection import train_test_split\n",
    "from sklearn.preprocessing import StandardScaler\n",
    "from sklearn.metrics import mean_squared_error\n",
    "from sklearn.tree import DecisionTreeRegressor\n",
    "from sklearn.linear_model import LinearRegression\n",
    "from sklearn.ensemble import RandomForestRegressor\n",
    "import lightgbm as lgb\n",
    "import time\n",
    "from sklearn.preprocessing import OrdinalEncoder "
   ]
  },
  {
   "cell_type": "markdown",
   "metadata": {},
   "source": [
    "Сохраним в переменной autos входные исторические данные: технические характеристики, комплектации и цены автомобилей. Выведем первые 5 строк и просмотрим информацию о типах данных датасета."
   ]
  },
  {
   "cell_type": "code",
   "execution_count": 2,
   "metadata": {},
   "outputs": [],
   "source": [
    "autos = pd.read_csv('/datasets/autos.csv')"
   ]
  },
  {
   "cell_type": "code",
   "execution_count": 3,
   "metadata": {},
   "outputs": [
    {
     "data": {
      "text/html": [
       "<div>\n",
       "<style scoped>\n",
       "    .dataframe tbody tr th:only-of-type {\n",
       "        vertical-align: middle;\n",
       "    }\n",
       "\n",
       "    .dataframe tbody tr th {\n",
       "        vertical-align: top;\n",
       "    }\n",
       "\n",
       "    .dataframe thead th {\n",
       "        text-align: right;\n",
       "    }\n",
       "</style>\n",
       "<table border=\"1\" class=\"dataframe\">\n",
       "  <thead>\n",
       "    <tr style=\"text-align: right;\">\n",
       "      <th></th>\n",
       "      <th>DateCrawled</th>\n",
       "      <th>Price</th>\n",
       "      <th>VehicleType</th>\n",
       "      <th>RegistrationYear</th>\n",
       "      <th>Gearbox</th>\n",
       "      <th>Power</th>\n",
       "      <th>Model</th>\n",
       "      <th>Kilometer</th>\n",
       "      <th>RegistrationMonth</th>\n",
       "      <th>FuelType</th>\n",
       "      <th>Brand</th>\n",
       "      <th>NotRepaired</th>\n",
       "      <th>DateCreated</th>\n",
       "      <th>NumberOfPictures</th>\n",
       "      <th>PostalCode</th>\n",
       "      <th>LastSeen</th>\n",
       "    </tr>\n",
       "  </thead>\n",
       "  <tbody>\n",
       "    <tr>\n",
       "      <td>0</td>\n",
       "      <td>2016-03-24 11:52:17</td>\n",
       "      <td>480</td>\n",
       "      <td>NaN</td>\n",
       "      <td>1993</td>\n",
       "      <td>manual</td>\n",
       "      <td>0</td>\n",
       "      <td>golf</td>\n",
       "      <td>150000</td>\n",
       "      <td>0</td>\n",
       "      <td>petrol</td>\n",
       "      <td>volkswagen</td>\n",
       "      <td>NaN</td>\n",
       "      <td>2016-03-24 00:00:00</td>\n",
       "      <td>0</td>\n",
       "      <td>70435</td>\n",
       "      <td>2016-04-07 03:16:57</td>\n",
       "    </tr>\n",
       "    <tr>\n",
       "      <td>1</td>\n",
       "      <td>2016-03-24 10:58:45</td>\n",
       "      <td>18300</td>\n",
       "      <td>coupe</td>\n",
       "      <td>2011</td>\n",
       "      <td>manual</td>\n",
       "      <td>190</td>\n",
       "      <td>NaN</td>\n",
       "      <td>125000</td>\n",
       "      <td>5</td>\n",
       "      <td>gasoline</td>\n",
       "      <td>audi</td>\n",
       "      <td>yes</td>\n",
       "      <td>2016-03-24 00:00:00</td>\n",
       "      <td>0</td>\n",
       "      <td>66954</td>\n",
       "      <td>2016-04-07 01:46:50</td>\n",
       "    </tr>\n",
       "    <tr>\n",
       "      <td>2</td>\n",
       "      <td>2016-03-14 12:52:21</td>\n",
       "      <td>9800</td>\n",
       "      <td>suv</td>\n",
       "      <td>2004</td>\n",
       "      <td>auto</td>\n",
       "      <td>163</td>\n",
       "      <td>grand</td>\n",
       "      <td>125000</td>\n",
       "      <td>8</td>\n",
       "      <td>gasoline</td>\n",
       "      <td>jeep</td>\n",
       "      <td>NaN</td>\n",
       "      <td>2016-03-14 00:00:00</td>\n",
       "      <td>0</td>\n",
       "      <td>90480</td>\n",
       "      <td>2016-04-05 12:47:46</td>\n",
       "    </tr>\n",
       "    <tr>\n",
       "      <td>3</td>\n",
       "      <td>2016-03-17 16:54:04</td>\n",
       "      <td>1500</td>\n",
       "      <td>small</td>\n",
       "      <td>2001</td>\n",
       "      <td>manual</td>\n",
       "      <td>75</td>\n",
       "      <td>golf</td>\n",
       "      <td>150000</td>\n",
       "      <td>6</td>\n",
       "      <td>petrol</td>\n",
       "      <td>volkswagen</td>\n",
       "      <td>no</td>\n",
       "      <td>2016-03-17 00:00:00</td>\n",
       "      <td>0</td>\n",
       "      <td>91074</td>\n",
       "      <td>2016-03-17 17:40:17</td>\n",
       "    </tr>\n",
       "    <tr>\n",
       "      <td>4</td>\n",
       "      <td>2016-03-31 17:25:20</td>\n",
       "      <td>3600</td>\n",
       "      <td>small</td>\n",
       "      <td>2008</td>\n",
       "      <td>manual</td>\n",
       "      <td>69</td>\n",
       "      <td>fabia</td>\n",
       "      <td>90000</td>\n",
       "      <td>7</td>\n",
       "      <td>gasoline</td>\n",
       "      <td>skoda</td>\n",
       "      <td>no</td>\n",
       "      <td>2016-03-31 00:00:00</td>\n",
       "      <td>0</td>\n",
       "      <td>60437</td>\n",
       "      <td>2016-04-06 10:17:21</td>\n",
       "    </tr>\n",
       "  </tbody>\n",
       "</table>\n",
       "</div>"
      ],
      "text/plain": [
       "           DateCrawled  Price VehicleType  RegistrationYear Gearbox  Power  \\\n",
       "0  2016-03-24 11:52:17    480         NaN              1993  manual      0   \n",
       "1  2016-03-24 10:58:45  18300       coupe              2011  manual    190   \n",
       "2  2016-03-14 12:52:21   9800         suv              2004    auto    163   \n",
       "3  2016-03-17 16:54:04   1500       small              2001  manual     75   \n",
       "4  2016-03-31 17:25:20   3600       small              2008  manual     69   \n",
       "\n",
       "   Model  Kilometer  RegistrationMonth  FuelType       Brand NotRepaired  \\\n",
       "0   golf     150000                  0    petrol  volkswagen         NaN   \n",
       "1    NaN     125000                  5  gasoline        audi         yes   \n",
       "2  grand     125000                  8  gasoline        jeep         NaN   \n",
       "3   golf     150000                  6    petrol  volkswagen          no   \n",
       "4  fabia      90000                  7  gasoline       skoda          no   \n",
       "\n",
       "           DateCreated  NumberOfPictures  PostalCode             LastSeen  \n",
       "0  2016-03-24 00:00:00                 0       70435  2016-04-07 03:16:57  \n",
       "1  2016-03-24 00:00:00                 0       66954  2016-04-07 01:46:50  \n",
       "2  2016-03-14 00:00:00                 0       90480  2016-04-05 12:47:46  \n",
       "3  2016-03-17 00:00:00                 0       91074  2016-03-17 17:40:17  \n",
       "4  2016-03-31 00:00:00                 0       60437  2016-04-06 10:17:21  "
      ]
     },
     "metadata": {},
     "output_type": "display_data"
    }
   ],
   "source": [
    "display(autos.head())"
   ]
  },
  {
   "cell_type": "markdown",
   "metadata": {},
   "source": [
    "Приведем к нижнему регистру названия столбцов и просмотрим информацию о типах данных."
   ]
  },
  {
   "cell_type": "code",
   "execution_count": 4,
   "metadata": {},
   "outputs": [],
   "source": [
    "autos.columns = autos.columns.str.lower()"
   ]
  },
  {
   "cell_type": "code",
   "execution_count": 5,
   "metadata": {},
   "outputs": [
    {
     "name": "stdout",
     "output_type": "stream",
     "text": [
      "<class 'pandas.core.frame.DataFrame'>\n",
      "RangeIndex: 354369 entries, 0 to 354368\n",
      "Data columns (total 16 columns):\n",
      "datecrawled          354369 non-null object\n",
      "price                354369 non-null int64\n",
      "vehicletype          316879 non-null object\n",
      "registrationyear     354369 non-null int64\n",
      "gearbox              334536 non-null object\n",
      "power                354369 non-null int64\n",
      "model                334664 non-null object\n",
      "kilometer            354369 non-null int64\n",
      "registrationmonth    354369 non-null int64\n",
      "fueltype             321474 non-null object\n",
      "brand                354369 non-null object\n",
      "notrepaired          283215 non-null object\n",
      "datecreated          354369 non-null object\n",
      "numberofpictures     354369 non-null int64\n",
      "postalcode           354369 non-null int64\n",
      "lastseen             354369 non-null object\n",
      "dtypes: int64(7), object(9)\n",
      "memory usage: 43.3+ MB\n"
     ]
    }
   ],
   "source": [
    "autos.info()"
   ]
  },
  {
   "cell_type": "markdown",
   "metadata": {},
   "source": [
    "Проверим наличие дубликатов в данных и удалим их."
   ]
  },
  {
   "cell_type": "code",
   "execution_count": 6,
   "metadata": {},
   "outputs": [
    {
     "data": {
      "text/html": [
       "<div>\n",
       "<style scoped>\n",
       "    .dataframe tbody tr th:only-of-type {\n",
       "        vertical-align: middle;\n",
       "    }\n",
       "\n",
       "    .dataframe tbody tr th {\n",
       "        vertical-align: top;\n",
       "    }\n",
       "\n",
       "    .dataframe thead th {\n",
       "        text-align: right;\n",
       "    }\n",
       "</style>\n",
       "<table border=\"1\" class=\"dataframe\">\n",
       "  <thead>\n",
       "    <tr style=\"text-align: right;\">\n",
       "      <th></th>\n",
       "      <th>datecrawled</th>\n",
       "      <th>price</th>\n",
       "      <th>vehicletype</th>\n",
       "      <th>registrationyear</th>\n",
       "      <th>gearbox</th>\n",
       "      <th>power</th>\n",
       "      <th>model</th>\n",
       "      <th>kilometer</th>\n",
       "      <th>registrationmonth</th>\n",
       "      <th>fueltype</th>\n",
       "      <th>brand</th>\n",
       "      <th>notrepaired</th>\n",
       "      <th>datecreated</th>\n",
       "      <th>numberofpictures</th>\n",
       "      <th>postalcode</th>\n",
       "      <th>lastseen</th>\n",
       "    </tr>\n",
       "  </thead>\n",
       "  <tbody>\n",
       "    <tr>\n",
       "      <td>171088</td>\n",
       "      <td>2016-03-08 18:42:48</td>\n",
       "      <td>1799</td>\n",
       "      <td>coupe</td>\n",
       "      <td>1999</td>\n",
       "      <td>auto</td>\n",
       "      <td>193</td>\n",
       "      <td>clk</td>\n",
       "      <td>20000</td>\n",
       "      <td>7</td>\n",
       "      <td>petrol</td>\n",
       "      <td>mercedes_benz</td>\n",
       "      <td>no</td>\n",
       "      <td>2016-03-08 00:00:00</td>\n",
       "      <td>0</td>\n",
       "      <td>89518</td>\n",
       "      <td>2016-03-09 09:46:57</td>\n",
       "    </tr>\n",
       "    <tr>\n",
       "      <td>231258</td>\n",
       "      <td>2016-03-28 00:56:10</td>\n",
       "      <td>1000</td>\n",
       "      <td>small</td>\n",
       "      <td>2002</td>\n",
       "      <td>manual</td>\n",
       "      <td>83</td>\n",
       "      <td>other</td>\n",
       "      <td>150000</td>\n",
       "      <td>1</td>\n",
       "      <td>petrol</td>\n",
       "      <td>suzuki</td>\n",
       "      <td>no</td>\n",
       "      <td>2016-03-28 00:00:00</td>\n",
       "      <td>0</td>\n",
       "      <td>66589</td>\n",
       "      <td>2016-03-28 08:46:21</td>\n",
       "    </tr>\n",
       "    <tr>\n",
       "      <td>258109</td>\n",
       "      <td>2016-04-03 09:01:15</td>\n",
       "      <td>4699</td>\n",
       "      <td>coupe</td>\n",
       "      <td>2003</td>\n",
       "      <td>auto</td>\n",
       "      <td>218</td>\n",
       "      <td>clk</td>\n",
       "      <td>125000</td>\n",
       "      <td>6</td>\n",
       "      <td>petrol</td>\n",
       "      <td>mercedes_benz</td>\n",
       "      <td>yes</td>\n",
       "      <td>2016-04-03 00:00:00</td>\n",
       "      <td>0</td>\n",
       "      <td>75196</td>\n",
       "      <td>2016-04-07 09:44:54</td>\n",
       "    </tr>\n",
       "    <tr>\n",
       "      <td>325651</td>\n",
       "      <td>2016-03-18 18:46:15</td>\n",
       "      <td>1999</td>\n",
       "      <td>wagon</td>\n",
       "      <td>2001</td>\n",
       "      <td>manual</td>\n",
       "      <td>131</td>\n",
       "      <td>passat</td>\n",
       "      <td>150000</td>\n",
       "      <td>7</td>\n",
       "      <td>gasoline</td>\n",
       "      <td>volkswagen</td>\n",
       "      <td>no</td>\n",
       "      <td>2016-03-18 00:00:00</td>\n",
       "      <td>0</td>\n",
       "      <td>36391</td>\n",
       "      <td>2016-03-18 18:46:15</td>\n",
       "    </tr>\n",
       "  </tbody>\n",
       "</table>\n",
       "</div>"
      ],
      "text/plain": [
       "                datecrawled  price vehicletype  registrationyear gearbox  \\\n",
       "171088  2016-03-08 18:42:48   1799       coupe              1999    auto   \n",
       "231258  2016-03-28 00:56:10   1000       small              2002  manual   \n",
       "258109  2016-04-03 09:01:15   4699       coupe              2003    auto   \n",
       "325651  2016-03-18 18:46:15   1999       wagon              2001  manual   \n",
       "\n",
       "        power   model  kilometer  registrationmonth  fueltype          brand  \\\n",
       "171088    193     clk      20000                  7    petrol  mercedes_benz   \n",
       "231258     83   other     150000                  1    petrol         suzuki   \n",
       "258109    218     clk     125000                  6    petrol  mercedes_benz   \n",
       "325651    131  passat     150000                  7  gasoline     volkswagen   \n",
       "\n",
       "       notrepaired          datecreated  numberofpictures  postalcode  \\\n",
       "171088          no  2016-03-08 00:00:00                 0       89518   \n",
       "231258          no  2016-03-28 00:00:00                 0       66589   \n",
       "258109         yes  2016-04-03 00:00:00                 0       75196   \n",
       "325651          no  2016-03-18 00:00:00                 0       36391   \n",
       "\n",
       "                   lastseen  \n",
       "171088  2016-03-09 09:46:57  \n",
       "231258  2016-03-28 08:46:21  \n",
       "258109  2016-04-07 09:44:54  \n",
       "325651  2016-03-18 18:46:15  "
      ]
     },
     "metadata": {},
     "output_type": "display_data"
    }
   ],
   "source": [
    "display(autos[autos.duplicated()])"
   ]
  },
  {
   "cell_type": "code",
   "execution_count": 7,
   "metadata": {},
   "outputs": [],
   "source": [
    "autos = autos.drop_duplicates()"
   ]
  },
  {
   "cell_type": "markdown",
   "metadata": {},
   "source": [
    "Удалим столбцы с данными, не влияющие на результат предсказания модели: DateCrawled — дата скачивания анкеты из базы; RegistrationMonth — месяц регистрации автомобиля; DateCreated — дата создания анкеты; NumberOfPictures — количество фотографий автомобиля; PostalCode — почтовый индекс владельца анкеты (пользователя); LastSeen — дата последней активности пользователя."
   ]
  },
  {
   "cell_type": "code",
   "execution_count": 8,
   "metadata": {},
   "outputs": [],
   "source": [
    "autos = autos.drop(['datecrawled', 'registrationmonth',\n",
    "                   'datecreated', 'numberofpictures', 'postalcode', 'lastseen'], axis=1)"
   ]
  },
  {
   "cell_type": "markdown",
   "metadata": {},
   "source": [
    "Просмотрим разброс данных с численными признаками. Построим для каждого столбца диаграмму размаха."
   ]
  },
  {
   "cell_type": "code",
   "execution_count": 9,
   "metadata": {},
   "outputs": [
    {
     "data": {
      "text/html": [
       "<div>\n",
       "<style scoped>\n",
       "    .dataframe tbody tr th:only-of-type {\n",
       "        vertical-align: middle;\n",
       "    }\n",
       "\n",
       "    .dataframe tbody tr th {\n",
       "        vertical-align: top;\n",
       "    }\n",
       "\n",
       "    .dataframe thead th {\n",
       "        text-align: right;\n",
       "    }\n",
       "</style>\n",
       "<table border=\"1\" class=\"dataframe\">\n",
       "  <thead>\n",
       "    <tr style=\"text-align: right;\">\n",
       "      <th></th>\n",
       "      <th>price</th>\n",
       "      <th>registrationyear</th>\n",
       "      <th>power</th>\n",
       "      <th>kilometer</th>\n",
       "    </tr>\n",
       "  </thead>\n",
       "  <tbody>\n",
       "    <tr>\n",
       "      <td>count</td>\n",
       "      <td>354365.000000</td>\n",
       "      <td>354365.000000</td>\n",
       "      <td>354365.000000</td>\n",
       "      <td>354365.000000</td>\n",
       "    </tr>\n",
       "    <tr>\n",
       "      <td>mean</td>\n",
       "      <td>4416.679830</td>\n",
       "      <td>2004.234481</td>\n",
       "      <td>110.093816</td>\n",
       "      <td>128211.363989</td>\n",
       "    </tr>\n",
       "    <tr>\n",
       "      <td>std</td>\n",
       "      <td>4514.176349</td>\n",
       "      <td>90.228466</td>\n",
       "      <td>189.851330</td>\n",
       "      <td>37905.083858</td>\n",
       "    </tr>\n",
       "    <tr>\n",
       "      <td>min</td>\n",
       "      <td>0.000000</td>\n",
       "      <td>1000.000000</td>\n",
       "      <td>0.000000</td>\n",
       "      <td>5000.000000</td>\n",
       "    </tr>\n",
       "    <tr>\n",
       "      <td>25%</td>\n",
       "      <td>1050.000000</td>\n",
       "      <td>1999.000000</td>\n",
       "      <td>69.000000</td>\n",
       "      <td>125000.000000</td>\n",
       "    </tr>\n",
       "    <tr>\n",
       "      <td>50%</td>\n",
       "      <td>2700.000000</td>\n",
       "      <td>2003.000000</td>\n",
       "      <td>105.000000</td>\n",
       "      <td>150000.000000</td>\n",
       "    </tr>\n",
       "    <tr>\n",
       "      <td>75%</td>\n",
       "      <td>6400.000000</td>\n",
       "      <td>2008.000000</td>\n",
       "      <td>143.000000</td>\n",
       "      <td>150000.000000</td>\n",
       "    </tr>\n",
       "    <tr>\n",
       "      <td>max</td>\n",
       "      <td>20000.000000</td>\n",
       "      <td>9999.000000</td>\n",
       "      <td>20000.000000</td>\n",
       "      <td>150000.000000</td>\n",
       "    </tr>\n",
       "  </tbody>\n",
       "</table>\n",
       "</div>"
      ],
      "text/plain": [
       "               price  registrationyear          power      kilometer\n",
       "count  354365.000000     354365.000000  354365.000000  354365.000000\n",
       "mean     4416.679830       2004.234481     110.093816  128211.363989\n",
       "std      4514.176349         90.228466     189.851330   37905.083858\n",
       "min         0.000000       1000.000000       0.000000    5000.000000\n",
       "25%      1050.000000       1999.000000      69.000000  125000.000000\n",
       "50%      2700.000000       2003.000000     105.000000  150000.000000\n",
       "75%      6400.000000       2008.000000     143.000000  150000.000000\n",
       "max     20000.000000       9999.000000   20000.000000  150000.000000"
      ]
     },
     "execution_count": 9,
     "metadata": {},
     "output_type": "execute_result"
    }
   ],
   "source": [
    "autos.describe()"
   ]
  },
  {
   "cell_type": "code",
   "execution_count": 10,
   "metadata": {},
   "outputs": [
    {
     "data": {
      "image/png": "[encoded data removed]",
      "text/plain": [
       "<Figure size 432x288 with 1 Axes>"
      ]
     },
     "metadata": {
      "needs_background": "light"
     },
     "output_type": "display_data"
    },
    {
     "data": {
      "image/png": "[encoded data removed]",
      "text/plain": [
       "<Figure size 432x288 with 1 Axes>"
      ]
     },
     "metadata": {
      "needs_background": "light"
     },
     "output_type": "display_data"
    },
    {
     "data": {
      "image/png": "[encoded data removed]",
      "text/plain": [
       "<Figure size 432x288 with 1 Axes>"
      ]
     },
     "metadata": {
      "needs_background": "light"
     },
     "output_type": "display_data"
    },
    {
     "data": {
      "image/png": "[encoded data removed]",
      "text/plain": [
       "<Figure size 432x288 with 1 Axes>"
      ]
     },
     "metadata": {
      "needs_background": "light"
     },
     "output_type": "display_data"
    }
   ],
   "source": [
    "columns = ['price', 'registrationyear', 'power', 'kilometer']\n",
    "for col in columns:\n",
    "    sns.boxplot(autos[col])\n",
    "    plt.show()"
   ]
  },
  {
   "cell_type": "markdown",
   "metadata": {},
   "source": [
    "Дата создания анкеты приходится на весну 2016 года, тогда курс евро составлял 70-80 рублей, отбросим объявления с ценой автомобиля менее 400 евро, что соответствует ~ 30тыс.руб. Даже для разбитого автомобиля цены являются аномальными. Для остальных столбцов - RegistrationYear — год регистрации автомобиля; Power — мощность (л.с.) - обработаем аномальные значения на основе представленных диаграмм размаха. Построим диаграммы размаха после обработки данных. "
   ]
  },
  {
   "cell_type": "code",
   "execution_count": 11,
   "metadata": {},
   "outputs": [],
   "source": [
    "autos = autos.loc[(autos['price'] > 400) & (autos['price'] < 15000)]\n",
    "autos = autos.loc[(autos['registrationyear'] > 1985) & (autos['registrationyear'] < 2017)]\n",
    "autos = autos.loc[(autos['power'] > 30) & (autos['power'] < 250)]"
   ]
  },
  {
   "cell_type": "code",
   "execution_count": 12,
   "metadata": {},
   "outputs": [
    {
     "data": {
      "image/png": "[encoded data removed]",
      "text/plain": [
       "<Figure size 432x288 with 1 Axes>"
      ]
     },
     "metadata": {
      "needs_background": "light"
     },
     "output_type": "display_data"
    },
    {
     "data": {
      "image/png": "[encoded data removed]",
      "text/plain": [
       "<Figure size 432x288 with 1 Axes>"
      ]
     },
     "metadata": {
      "needs_background": "light"
     },
     "output_type": "display_data"
    },
    {
     "data": {
      "image/png": "[encoded data removed]",
      "text/plain": [
       "<Figure size 432x288 with 1 Axes>"
      ]
     },
     "metadata": {
      "needs_background": "light"
     },
     "output_type": "display_data"
    },
    {
     "data": {
      "image/png": "[encoded data removed]",
      "text/plain": [
       "<Figure size 432x288 with 1 Axes>"
      ]
     },
     "metadata": {
      "needs_background": "light"
     },
     "output_type": "display_data"
    }
   ],
   "source": [
    "columns = ['price', 'registrationyear', 'power', 'kilometer']\n",
    "for col in columns:\n",
    "    sns.boxplot(autos[col])\n",
    "    plt.show()"
   ]
  },
  {
   "cell_type": "markdown",
   "metadata": {},
   "source": [
    "Определим количество и долю пропущенных значений в столбцах датасета."
   ]
  },
  {
   "cell_type": "code",
   "execution_count": 13,
   "metadata": {},
   "outputs": [],
   "source": [
    "Na_sum = autos.isna().sum()"
   ]
  },
  {
   "cell_type": "code",
   "execution_count": 14,
   "metadata": {},
   "outputs": [
    {
     "data": {
      "text/html": [
       "<div>\n",
       "<style scoped>\n",
       "    .dataframe tbody tr th:only-of-type {\n",
       "        vertical-align: middle;\n",
       "    }\n",
       "\n",
       "    .dataframe tbody tr th {\n",
       "        vertical-align: top;\n",
       "    }\n",
       "\n",
       "    .dataframe thead th {\n",
       "        text-align: right;\n",
       "    }\n",
       "</style>\n",
       "<table border=\"1\" class=\"dataframe\">\n",
       "  <thead>\n",
       "    <tr style=\"text-align: right;\">\n",
       "      <th></th>\n",
       "      <th>Доля пропущенных значений, %</th>\n",
       "    </tr>\n",
       "  </thead>\n",
       "  <tbody>\n",
       "    <tr>\n",
       "      <td>notrepaired</td>\n",
       "      <td>13.73</td>\n",
       "    </tr>\n",
       "    <tr>\n",
       "      <td>fueltype</td>\n",
       "      <td>4.77</td>\n",
       "    </tr>\n",
       "    <tr>\n",
       "      <td>model</td>\n",
       "      <td>3.29</td>\n",
       "    </tr>\n",
       "    <tr>\n",
       "      <td>vehicletype</td>\n",
       "      <td>3.21</td>\n",
       "    </tr>\n",
       "    <tr>\n",
       "      <td>gearbox</td>\n",
       "      <td>1.68</td>\n",
       "    </tr>\n",
       "    <tr>\n",
       "      <td>price</td>\n",
       "      <td>0.00</td>\n",
       "    </tr>\n",
       "    <tr>\n",
       "      <td>registrationyear</td>\n",
       "      <td>0.00</td>\n",
       "    </tr>\n",
       "    <tr>\n",
       "      <td>power</td>\n",
       "      <td>0.00</td>\n",
       "    </tr>\n",
       "    <tr>\n",
       "      <td>kilometer</td>\n",
       "      <td>0.00</td>\n",
       "    </tr>\n",
       "    <tr>\n",
       "      <td>brand</td>\n",
       "      <td>0.00</td>\n",
       "    </tr>\n",
       "  </tbody>\n",
       "</table>\n",
       "</div>"
      ],
      "text/plain": [
       "                  Доля пропущенных значений, %\n",
       "notrepaired                              13.73\n",
       "fueltype                                  4.77\n",
       "model                                     3.29\n",
       "vehicletype                               3.21\n",
       "gearbox                                   1.68\n",
       "price                                     0.00\n",
       "registrationyear                          0.00\n",
       "power                                     0.00\n",
       "kilometer                                 0.00\n",
       "brand                                     0.00"
      ]
     },
     "metadata": {},
     "output_type": "display_data"
    }
   ],
   "source": [
    "NaN_fraction = Na_sum * 100 / len(autos)\n",
    "missing_value_df = pd.DataFrame({'Доля пропущенных значений, %': NaN_fraction})\n",
    "missing_value_df.sort_values('Доля пропущенных значений, %', inplace=True, ascending=False)\n",
    "display(missing_value_df.round(decimals=2))"
   ]
  },
  {
   "cell_type": "markdown",
   "metadata": {},
   "source": [
    "Удалим столбцы, в которых доля пропущенных значений составляет < 5%."
   ]
  },
  {
   "cell_type": "code",
   "execution_count": 15,
   "metadata": {},
   "outputs": [],
   "source": [
    "autos.dropna(subset=['fueltype', 'vehicletype', 'model', 'gearbox', 'notrepaired'], inplace=True)"
   ]
  },
  {
   "cell_type": "markdown",
   "metadata": {},
   "source": [
    "Просмотрим информацию о данных после обработки."
   ]
  },
  {
   "cell_type": "code",
   "execution_count": 16,
   "metadata": {},
   "outputs": [
    {
     "name": "stdout",
     "output_type": "stream",
     "text": [
      "<class 'pandas.core.frame.DataFrame'>\n",
      "Int64Index: 206243 entries, 3 to 354367\n",
      "Data columns (total 10 columns):\n",
      "price               206243 non-null int64\n",
      "vehicletype         206243 non-null object\n",
      "registrationyear    206243 non-null int64\n",
      "gearbox             206243 non-null object\n",
      "power               206243 non-null int64\n",
      "model               206243 non-null object\n",
      "kilometer           206243 non-null int64\n",
      "fueltype            206243 non-null object\n",
      "brand               206243 non-null object\n",
      "notrepaired         206243 non-null object\n",
      "dtypes: int64(4), object(6)\n",
      "memory usage: 17.3+ MB\n"
     ]
    }
   ],
   "source": [
    "autos.info()"
   ]
  },
  {
   "cell_type": "markdown",
   "metadata": {},
   "source": [
    "### Вывод\n",
    "В предоставленном наборе данных имеется информация о более 350 тыс. объявлений о продаже автомобилей, которые характеризуются следующими признаками:\n",
    "- DateCrawled — дата скачивания анкеты из базы\n",
    "- VehicleType — тип автомобильного кузова\n",
    "- RegistrationYear — год регистрации автомобиля\n",
    "- Gearbox — тип коробки передач\n",
    "- Power — мощность (л. с.)\n",
    "- Model — модель автомобиля\n",
    "- Kilometer — пробег (км)\n",
    "- RegistrationMonth — месяц регистрации автомобиля\n",
    "- FuelType — тип топлива\n",
    "- Brand — марка автомобиля\n",
    "- NotRepaired — была машина в ремонте или нет\n",
    "- DateCreated — дата создания анкеты\n",
    "- NumberOfPictures — количество фотографий автомобиля\n",
    "- PostalCode — почтовый индекс владельца анкеты (пользователя)\n",
    "- LastSeen — дата последней активности пользователя\n",
    "\n",
    "Целевым признаком является - Price — цена (евро)\n",
    "\n",
    "Проведена предобработка данных:\n",
    "1. Удалены столбцы:\n",
    "DateCrawled — дата скачивания анкеты из базы; RegistrationMonth — месяц регистрации автомобиля; DateCreated — дата создания анкеты; NumberOfPictures — количество фотографий автомобиля; PostalCode — почтовый индекс владельца анкеты (пользователя); LastSeen — дата последней активности пользователя.\n",
    "2. На основе построения диаграмм размаха, от аномальных значений отфильтрованы данные столбцов: цена; год регистрации; пробег(км) и мощность(л.с.) автомобиля.\n",
    "3. Найдены и удалены дубликаты в данных.\n",
    "4. Удалены объявления с пропущенными значениями."
   ]
  },
  {
   "cell_type": "markdown",
   "metadata": {},
   "source": [
    "# 2. Обучение моделей"
   ]
  },
  {
   "cell_type": "markdown",
   "metadata": {},
   "source": [
    "Перед обучением моделей обработаем соответствующие признаки: преобразуем категориальные признаки в количественные, проведем масшиабирование количественных признаков. Рассмотрим несколько моделей для предсказаний стоимости автомобиля: модель линейной регрессии, случайного леса, решающего дерева и модель градиентного бустинга LGBMRegressor. Последняя работает с категориальными признаками напрямую, при обучении модели в аргументе будем передавать категориальные признаки, предварительно изменив тип данных \"object\" на \"category\". Для обучения остальных моделей приведем категориальные признаки к численным с помощью техники OHE."
   ]
  },
  {
   "cell_type": "code",
   "execution_count": 17,
   "metadata": {},
   "outputs": [
    {
     "data": {
      "text/html": [
       "<div>\n",
       "<style scoped>\n",
       "    .dataframe tbody tr th:only-of-type {\n",
       "        vertical-align: middle;\n",
       "    }\n",
       "\n",
       "    .dataframe tbody tr th {\n",
       "        vertical-align: top;\n",
       "    }\n",
       "\n",
       "    .dataframe thead th {\n",
       "        text-align: right;\n",
       "    }\n",
       "</style>\n",
       "<table border=\"1\" class=\"dataframe\">\n",
       "  <thead>\n",
       "    <tr style=\"text-align: right;\">\n",
       "      <th></th>\n",
       "      <th>price</th>\n",
       "      <th>registrationyear</th>\n",
       "      <th>power</th>\n",
       "      <th>kilometer</th>\n",
       "      <th>vehicletype_convertible</th>\n",
       "      <th>vehicletype_coupe</th>\n",
       "      <th>vehicletype_other</th>\n",
       "      <th>vehicletype_sedan</th>\n",
       "      <th>vehicletype_small</th>\n",
       "      <th>vehicletype_suv</th>\n",
       "      <th>...</th>\n",
       "      <th>brand_seat</th>\n",
       "      <th>brand_skoda</th>\n",
       "      <th>brand_smart</th>\n",
       "      <th>brand_subaru</th>\n",
       "      <th>brand_suzuki</th>\n",
       "      <th>brand_toyota</th>\n",
       "      <th>brand_trabant</th>\n",
       "      <th>brand_volkswagen</th>\n",
       "      <th>brand_volvo</th>\n",
       "      <th>notrepaired_yes</th>\n",
       "    </tr>\n",
       "  </thead>\n",
       "  <tbody>\n",
       "    <tr>\n",
       "      <td>3</td>\n",
       "      <td>1500</td>\n",
       "      <td>2001</td>\n",
       "      <td>75</td>\n",
       "      <td>150000</td>\n",
       "      <td>0</td>\n",
       "      <td>0</td>\n",
       "      <td>0</td>\n",
       "      <td>0</td>\n",
       "      <td>1</td>\n",
       "      <td>0</td>\n",
       "      <td>...</td>\n",
       "      <td>0</td>\n",
       "      <td>0</td>\n",
       "      <td>0</td>\n",
       "      <td>0</td>\n",
       "      <td>0</td>\n",
       "      <td>0</td>\n",
       "      <td>0</td>\n",
       "      <td>1</td>\n",
       "      <td>0</td>\n",
       "      <td>0</td>\n",
       "    </tr>\n",
       "    <tr>\n",
       "      <td>4</td>\n",
       "      <td>3600</td>\n",
       "      <td>2008</td>\n",
       "      <td>69</td>\n",
       "      <td>90000</td>\n",
       "      <td>0</td>\n",
       "      <td>0</td>\n",
       "      <td>0</td>\n",
       "      <td>0</td>\n",
       "      <td>1</td>\n",
       "      <td>0</td>\n",
       "      <td>...</td>\n",
       "      <td>0</td>\n",
       "      <td>1</td>\n",
       "      <td>0</td>\n",
       "      <td>0</td>\n",
       "      <td>0</td>\n",
       "      <td>0</td>\n",
       "      <td>0</td>\n",
       "      <td>0</td>\n",
       "      <td>0</td>\n",
       "      <td>0</td>\n",
       "    </tr>\n",
       "    <tr>\n",
       "      <td>5</td>\n",
       "      <td>650</td>\n",
       "      <td>1995</td>\n",
       "      <td>102</td>\n",
       "      <td>150000</td>\n",
       "      <td>0</td>\n",
       "      <td>0</td>\n",
       "      <td>0</td>\n",
       "      <td>1</td>\n",
       "      <td>0</td>\n",
       "      <td>0</td>\n",
       "      <td>...</td>\n",
       "      <td>0</td>\n",
       "      <td>0</td>\n",
       "      <td>0</td>\n",
       "      <td>0</td>\n",
       "      <td>0</td>\n",
       "      <td>0</td>\n",
       "      <td>0</td>\n",
       "      <td>0</td>\n",
       "      <td>0</td>\n",
       "      <td>1</td>\n",
       "    </tr>\n",
       "    <tr>\n",
       "      <td>6</td>\n",
       "      <td>2200</td>\n",
       "      <td>2004</td>\n",
       "      <td>109</td>\n",
       "      <td>150000</td>\n",
       "      <td>1</td>\n",
       "      <td>0</td>\n",
       "      <td>0</td>\n",
       "      <td>0</td>\n",
       "      <td>0</td>\n",
       "      <td>0</td>\n",
       "      <td>...</td>\n",
       "      <td>0</td>\n",
       "      <td>0</td>\n",
       "      <td>0</td>\n",
       "      <td>0</td>\n",
       "      <td>0</td>\n",
       "      <td>0</td>\n",
       "      <td>0</td>\n",
       "      <td>0</td>\n",
       "      <td>0</td>\n",
       "      <td>0</td>\n",
       "    </tr>\n",
       "    <tr>\n",
       "      <td>10</td>\n",
       "      <td>2000</td>\n",
       "      <td>2004</td>\n",
       "      <td>105</td>\n",
       "      <td>150000</td>\n",
       "      <td>0</td>\n",
       "      <td>0</td>\n",
       "      <td>0</td>\n",
       "      <td>1</td>\n",
       "      <td>0</td>\n",
       "      <td>0</td>\n",
       "      <td>...</td>\n",
       "      <td>0</td>\n",
       "      <td>0</td>\n",
       "      <td>0</td>\n",
       "      <td>0</td>\n",
       "      <td>0</td>\n",
       "      <td>0</td>\n",
       "      <td>0</td>\n",
       "      <td>0</td>\n",
       "      <td>0</td>\n",
       "      <td>0</td>\n",
       "    </tr>\n",
       "  </tbody>\n",
       "</table>\n",
       "<p>5 rows × 301 columns</p>\n",
       "</div>"
      ],
      "text/plain": [
       "    price  registrationyear  power  kilometer  vehicletype_convertible  \\\n",
       "3    1500              2001     75     150000                        0   \n",
       "4    3600              2008     69      90000                        0   \n",
       "5     650              1995    102     150000                        0   \n",
       "6    2200              2004    109     150000                        1   \n",
       "10   2000              2004    105     150000                        0   \n",
       "\n",
       "    vehicletype_coupe  vehicletype_other  vehicletype_sedan  \\\n",
       "3                   0                  0                  0   \n",
       "4                   0                  0                  0   \n",
       "5                   0                  0                  1   \n",
       "6                   0                  0                  0   \n",
       "10                  0                  0                  1   \n",
       "\n",
       "    vehicletype_small  vehicletype_suv  ...  brand_seat  brand_skoda  \\\n",
       "3                   1                0  ...           0            0   \n",
       "4                   1                0  ...           0            1   \n",
       "5                   0                0  ...           0            0   \n",
       "6                   0                0  ...           0            0   \n",
       "10                  0                0  ...           0            0   \n",
       "\n",
       "    brand_smart  brand_subaru  brand_suzuki  brand_toyota  brand_trabant  \\\n",
       "3             0             0             0             0              0   \n",
       "4             0             0             0             0              0   \n",
       "5             0             0             0             0              0   \n",
       "6             0             0             0             0              0   \n",
       "10            0             0             0             0              0   \n",
       "\n",
       "    brand_volkswagen  brand_volvo  notrepaired_yes  \n",
       "3                  1            0                0  \n",
       "4                  0            0                0  \n",
       "5                  0            0                1  \n",
       "6                  0            0                0  \n",
       "10                 0            0                0  \n",
       "\n",
       "[5 rows x 301 columns]"
      ]
     },
     "metadata": {},
     "output_type": "display_data"
    }
   ],
   "source": [
    "autos_ohe = pd.get_dummies(autos, drop_first=True)\n",
    "display(autos_ohe.head())"
   ]
  },
  {
   "cell_type": "markdown",
   "metadata": {},
   "source": [
    "Запишем в переменных features и features_ohe признаки для обучения модели градиентного бустинга и остальных моделей, соответственно. В переменной target - целевой признак. Разделим данные на обучающую и валидационную выборки в соотношениие 3:1. Выведем размеры для обучающей и валидационной выборок после разделения данных."
   ]
  },
  {
   "cell_type": "code",
   "execution_count": 18,
   "metadata": {},
   "outputs": [],
   "source": [
    "features_ohe = autos_ohe.drop(['price'], axis = 1)\n",
    "target = autos['price']"
   ]
  },
  {
   "cell_type": "code",
   "execution_count": 19,
   "metadata": {},
   "outputs": [],
   "source": [
    "#закомментировал то ,что было\n",
    "#features_train_ohe, features_valid_ohe, target_train, target_valid = train_test_split\\\n",
    "#(features_ohe, target, test_size=0.25, random_state=12345)\n",
    "\n",
    "# выделим обучающую выборку\n",
    "features_train_ohe, features_valid_test_ohe, target_train, target_valid_test =\\\n",
    "train_test_split(features_ohe, target, test_size=0.4, random_state=12345)\n",
    "\n",
    "# разделим оставшиееся данные на валидационную и тестовую выборки\n",
    "features_valid_ohe, features_test_ohe, target_valid, target_test = \\\n",
    "train_test_split(features_valid_test_ohe, target_valid_test, test_size=0.5, random_state=12345)"
   ]
  },
  {
   "cell_type": "code",
   "execution_count": 20,
   "metadata": {},
   "outputs": [
    {
     "name": "stdout",
     "output_type": "stream",
     "text": [
      "(123745, 300)\n",
      "(123745,)\n",
      "(41249, 300)\n",
      "(41249,)\n",
      "(41249, 300)\n",
      "(41249,)\n"
     ]
    }
   ],
   "source": [
    "print(features_train_ohe.shape)\n",
    "print(target_train.shape)\n",
    "print(features_valid_ohe.shape)\n",
    "print(target_valid.shape)\n",
    "print(features_test_ohe.shape)\n",
    "print(target_test.shape)"
   ]
  },
  {
   "cell_type": "markdown",
   "metadata": {},
   "source": [
    "Создадим переменные с признаками для обучения модели градиентного бустинга."
   ]
  },
  {
   "cell_type": "code",
   "execution_count": 21,
   "metadata": {},
   "outputs": [],
   "source": [
    "features = autos.drop(['price'], axis = 1) "
   ]
  },
  {
   "cell_type": "code",
   "execution_count": 22,
   "metadata": {},
   "outputs": [],
   "source": [
    "categorical_columns = ['vehicletype', 'gearbox', 'model', 'fueltype', 'brand', 'notrepaired']\n",
    "\n",
    "for col in categorical_columns:\n",
    "    features[col] = features[col].astype('category')"
   ]
  },
  {
   "cell_type": "code",
   "execution_count": 23,
   "metadata": {},
   "outputs": [
    {
     "name": "stdout",
     "output_type": "stream",
     "text": [
      "<class 'pandas.core.frame.DataFrame'>\n",
      "Int64Index: 206243 entries, 3 to 354367\n",
      "Data columns (total 9 columns):\n",
      "vehicletype         206243 non-null category\n",
      "registrationyear    206243 non-null int64\n",
      "gearbox             206243 non-null category\n",
      "power               206243 non-null int64\n",
      "model               206243 non-null category\n",
      "kilometer           206243 non-null int64\n",
      "fueltype            206243 non-null category\n",
      "brand               206243 non-null category\n",
      "notrepaired         206243 non-null category\n",
      "dtypes: category(6), int64(3)\n",
      "memory usage: 7.7 MB\n"
     ]
    }
   ],
   "source": [
    "features.info()"
   ]
  },
  {
   "cell_type": "code",
   "execution_count": 24,
   "metadata": {},
   "outputs": [],
   "source": [
    "#было\n",
    "#features_train, features_valid = train_test_split\\\n",
    "#(features, test_size=0.25, random_state=12345)\n",
    "\n",
    "# выделим обучающую выборку\n",
    "features_train, features_valid_test = train_test_split(features, test_size=0.4, random_state=12345)\n",
    "\n",
    "# разделим оставшиееся данные на валидационную и тестовую выборки\n",
    "features_valid, features_test = train_test_split(features_valid_test, test_size=0.5, random_state=12345)"
   ]
  },
  {
   "cell_type": "code",
   "execution_count": 25,
   "metadata": {},
   "outputs": [
    {
     "name": "stdout",
     "output_type": "stream",
     "text": [
      "(123745, 9)\n",
      "(41249, 9)\n",
      "(41249, 9)\n"
     ]
    }
   ],
   "source": [
    "print(features_train.shape)\n",
    "print(features_valid.shape)\n",
    "print(features_test.shape)"
   ]
  },
  {
   "cell_type": "code",
   "execution_count": 26,
   "metadata": {},
   "outputs": [],
   "source": [
    "encoder = OrdinalEncoder()\n",
    "features_ordinal = pd.DataFrame(encoder.fit_transform(features), columns=features.columns)"
   ]
  },
  {
   "cell_type": "code",
   "execution_count": 27,
   "metadata": {},
   "outputs": [],
   "source": [
    "# выделим обучающую выборку\n",
    "features_train_ordinal, features_valid_test_ordinal =\\\n",
    "train_test_split(features_ordinal, test_size=0.4, random_state=12345)\n",
    "\n",
    "# разделим оставшиееся данные на валидационную и тестовую выборки\n",
    "features_valid_ordinal, features_test_ordinal =\\\n",
    "train_test_split(features_valid_test_ordinal, test_size=0.5, random_state=12345)"
   ]
  },
  {
   "cell_type": "code",
   "execution_count": 28,
   "metadata": {},
   "outputs": [
    {
     "name": "stdout",
     "output_type": "stream",
     "text": [
      "(123745, 9)\n",
      "(41249, 9)\n",
      "(41249, 9)\n"
     ]
    }
   ],
   "source": [
    "print(features_train_ordinal.shape)\n",
    "print(features_valid_ordinal.shape)\n",
    "print(features_test_ordinal.shape)"
   ]
  },
  {
   "cell_type": "markdown",
   "metadata": {},
   "source": [
    "Проведем масштабирование численных признаков для обучающей и валидационной выборок методом  стандартизации данных."
   ]
  },
  {
   "cell_type": "code",
   "execution_count": 29,
   "metadata": {},
   "outputs": [
    {
     "name": "stderr",
     "output_type": "stream",
     "text": [
      "/opt/conda/lib/python3.7/site-packages/ipykernel_launcher.py:8: SettingWithCopyWarning: \n",
      "A value is trying to be set on a copy of a slice from a DataFrame.\n",
      "Try using .loc[row_indexer,col_indexer] = value instead\n",
      "\n",
      "See the caveats in the documentation: http://pandas.pydata.org/pandas-docs/stable/user_guide/indexing.html#returning-a-view-versus-a-copy\n",
      "  \n",
      "/opt/conda/lib/python3.7/site-packages/pandas/core/indexing.py:494: SettingWithCopyWarning: \n",
      "A value is trying to be set on a copy of a slice from a DataFrame.\n",
      "Try using .loc[row_indexer,col_indexer] = value instead\n",
      "\n",
      "See the caveats in the documentation: http://pandas.pydata.org/pandas-docs/stable/user_guide/indexing.html#returning-a-view-versus-a-copy\n",
      "  self.obj[item] = s\n",
      "/opt/conda/lib/python3.7/site-packages/ipykernel_launcher.py:9: SettingWithCopyWarning: \n",
      "A value is trying to be set on a copy of a slice from a DataFrame.\n",
      "Try using .loc[row_indexer,col_indexer] = value instead\n",
      "\n",
      "See the caveats in the documentation: http://pandas.pydata.org/pandas-docs/stable/user_guide/indexing.html#returning-a-view-versus-a-copy\n",
      "  if __name__ == '__main__':\n",
      "/opt/conda/lib/python3.7/site-packages/pandas/core/indexing.py:494: SettingWithCopyWarning: \n",
      "A value is trying to be set on a copy of a slice from a DataFrame.\n",
      "Try using .loc[row_indexer,col_indexer] = value instead\n",
      "\n",
      "See the caveats in the documentation: http://pandas.pydata.org/pandas-docs/stable/user_guide/indexing.html#returning-a-view-versus-a-copy\n",
      "  self.obj[item] = s\n",
      "/opt/conda/lib/python3.7/site-packages/ipykernel_launcher.py:10: SettingWithCopyWarning: \n",
      "A value is trying to be set on a copy of a slice from a DataFrame.\n",
      "Try using .loc[row_indexer,col_indexer] = value instead\n",
      "\n",
      "See the caveats in the documentation: http://pandas.pydata.org/pandas-docs/stable/user_guide/indexing.html#returning-a-view-versus-a-copy\n",
      "  # Remove the CWD from sys.path while we load stuff.\n",
      "/opt/conda/lib/python3.7/site-packages/pandas/core/indexing.py:494: SettingWithCopyWarning: \n",
      "A value is trying to be set on a copy of a slice from a DataFrame.\n",
      "Try using .loc[row_indexer,col_indexer] = value instead\n",
      "\n",
      "See the caveats in the documentation: http://pandas.pydata.org/pandas-docs/stable/user_guide/indexing.html#returning-a-view-versus-a-copy\n",
      "  self.obj[item] = s\n",
      "/opt/conda/lib/python3.7/site-packages/ipykernel_launcher.py:11: SettingWithCopyWarning: \n",
      "A value is trying to be set on a copy of a slice from a DataFrame.\n",
      "Try using .loc[row_indexer,col_indexer] = value instead\n",
      "\n",
      "See the caveats in the documentation: http://pandas.pydata.org/pandas-docs/stable/user_guide/indexing.html#returning-a-view-versus-a-copy\n",
      "  # This is added back by InteractiveShellApp.init_path()\n",
      "/opt/conda/lib/python3.7/site-packages/pandas/core/frame.py:3498: SettingWithCopyWarning: \n",
      "A value is trying to be set on a copy of a slice from a DataFrame\n",
      "\n",
      "See the caveats in the documentation: http://pandas.pydata.org/pandas-docs/stable/user_guide/indexing.html#returning-a-view-versus-a-copy\n",
      "  self.loc._setitem_with_indexer((slice(None), indexer), value)\n",
      "/opt/conda/lib/python3.7/site-packages/pandas/core/frame.py:3469: SettingWithCopyWarning: \n",
      "A value is trying to be set on a copy of a slice from a DataFrame\n",
      "\n",
      "See the caveats in the documentation: http://pandas.pydata.org/pandas-docs/stable/user_guide/indexing.html#returning-a-view-versus-a-copy\n",
      "  self._setitem_array(key, value)\n",
      "/opt/conda/lib/python3.7/site-packages/ipykernel_launcher.py:12: SettingWithCopyWarning: \n",
      "A value is trying to be set on a copy of a slice from a DataFrame.\n",
      "Try using .loc[row_indexer,col_indexer] = value instead\n",
      "\n",
      "See the caveats in the documentation: http://pandas.pydata.org/pandas-docs/stable/user_guide/indexing.html#returning-a-view-versus-a-copy\n",
      "  if sys.path[0] == '':\n",
      "/opt/conda/lib/python3.7/site-packages/pandas/core/frame.py:3498: SettingWithCopyWarning: \n",
      "A value is trying to be set on a copy of a slice from a DataFrame\n",
      "\n",
      "See the caveats in the documentation: http://pandas.pydata.org/pandas-docs/stable/user_guide/indexing.html#returning-a-view-versus-a-copy\n",
      "  self.loc._setitem_with_indexer((slice(None), indexer), value)\n",
      "/opt/conda/lib/python3.7/site-packages/pandas/core/frame.py:3469: SettingWithCopyWarning: \n",
      "A value is trying to be set on a copy of a slice from a DataFrame\n",
      "\n",
      "See the caveats in the documentation: http://pandas.pydata.org/pandas-docs/stable/user_guide/indexing.html#returning-a-view-versus-a-copy\n",
      "  self._setitem_array(key, value)\n",
      "/opt/conda/lib/python3.7/site-packages/ipykernel_launcher.py:13: SettingWithCopyWarning: \n",
      "A value is trying to be set on a copy of a slice from a DataFrame.\n",
      "Try using .loc[row_indexer,col_indexer] = value instead\n",
      "\n",
      "See the caveats in the documentation: http://pandas.pydata.org/pandas-docs/stable/user_guide/indexing.html#returning-a-view-versus-a-copy\n",
      "  del sys.path[0]\n",
      "/opt/conda/lib/python3.7/site-packages/pandas/core/frame.py:3498: SettingWithCopyWarning: \n",
      "A value is trying to be set on a copy of a slice from a DataFrame\n",
      "\n",
      "See the caveats in the documentation: http://pandas.pydata.org/pandas-docs/stable/user_guide/indexing.html#returning-a-view-versus-a-copy\n",
      "  self.loc._setitem_with_indexer((slice(None), indexer), value)\n",
      "/opt/conda/lib/python3.7/site-packages/pandas/core/frame.py:3469: SettingWithCopyWarning: \n",
      "A value is trying to be set on a copy of a slice from a DataFrame\n",
      "\n",
      "See the caveats in the documentation: http://pandas.pydata.org/pandas-docs/stable/user_guide/indexing.html#returning-a-view-versus-a-copy\n",
      "  self._setitem_array(key, value)\n",
      "/opt/conda/lib/python3.7/site-packages/ipykernel_launcher.py:14: SettingWithCopyWarning: \n",
      "A value is trying to be set on a copy of a slice from a DataFrame.\n",
      "Try using .loc[row_indexer,col_indexer] = value instead\n",
      "\n",
      "See the caveats in the documentation: http://pandas.pydata.org/pandas-docs/stable/user_guide/indexing.html#returning-a-view-versus-a-copy\n",
      "  \n",
      "/opt/conda/lib/python3.7/site-packages/pandas/core/indexing.py:494: SettingWithCopyWarning: \n",
      "A value is trying to be set on a copy of a slice from a DataFrame.\n",
      "Try using .loc[row_indexer,col_indexer] = value instead\n",
      "\n",
      "See the caveats in the documentation: http://pandas.pydata.org/pandas-docs/stable/user_guide/indexing.html#returning-a-view-versus-a-copy\n",
      "  self.obj[item] = s\n",
      "/opt/conda/lib/python3.7/site-packages/ipykernel_launcher.py:15: SettingWithCopyWarning: \n",
      "A value is trying to be set on a copy of a slice from a DataFrame.\n",
      "Try using .loc[row_indexer,col_indexer] = value instead\n",
      "\n",
      "See the caveats in the documentation: http://pandas.pydata.org/pandas-docs/stable/user_guide/indexing.html#returning-a-view-versus-a-copy\n",
      "  from ipykernel import kernelapp as app\n",
      "/opt/conda/lib/python3.7/site-packages/pandas/core/indexing.py:494: SettingWithCopyWarning: \n",
      "A value is trying to be set on a copy of a slice from a DataFrame.\n",
      "Try using .loc[row_indexer,col_indexer] = value instead\n",
      "\n",
      "See the caveats in the documentation: http://pandas.pydata.org/pandas-docs/stable/user_guide/indexing.html#returning-a-view-versus-a-copy\n",
      "  self.obj[item] = s\n",
      "/opt/conda/lib/python3.7/site-packages/ipykernel_launcher.py:16: SettingWithCopyWarning: \n",
      "A value is trying to be set on a copy of a slice from a DataFrame.\n",
      "Try using .loc[row_indexer,col_indexer] = value instead\n",
      "\n",
      "See the caveats in the documentation: http://pandas.pydata.org/pandas-docs/stable/user_guide/indexing.html#returning-a-view-versus-a-copy\n",
      "  app.launch_new_instance()\n",
      "/opt/conda/lib/python3.7/site-packages/pandas/core/indexing.py:494: SettingWithCopyWarning: \n",
      "A value is trying to be set on a copy of a slice from a DataFrame.\n",
      "Try using .loc[row_indexer,col_indexer] = value instead\n",
      "\n",
      "See the caveats in the documentation: http://pandas.pydata.org/pandas-docs/stable/user_guide/indexing.html#returning-a-view-versus-a-copy\n",
      "  self.obj[item] = s\n"
     ]
    },
    {
     "data": {
      "text/html": [
       "<div>\n",
       "<style scoped>\n",
       "    .dataframe tbody tr th:only-of-type {\n",
       "        vertical-align: middle;\n",
       "    }\n",
       "\n",
       "    .dataframe tbody tr th {\n",
       "        vertical-align: top;\n",
       "    }\n",
       "\n",
       "    .dataframe thead th {\n",
       "        text-align: right;\n",
       "    }\n",
       "</style>\n",
       "<table border=\"1\" class=\"dataframe\">\n",
       "  <thead>\n",
       "    <tr style=\"text-align: right;\">\n",
       "      <th></th>\n",
       "      <th>registrationyear</th>\n",
       "      <th>power</th>\n",
       "      <th>kilometer</th>\n",
       "      <th>vehicletype_convertible</th>\n",
       "      <th>vehicletype_coupe</th>\n",
       "      <th>vehicletype_other</th>\n",
       "      <th>vehicletype_sedan</th>\n",
       "      <th>vehicletype_small</th>\n",
       "      <th>vehicletype_suv</th>\n",
       "      <th>vehicletype_wagon</th>\n",
       "      <th>...</th>\n",
       "      <th>brand_seat</th>\n",
       "      <th>brand_skoda</th>\n",
       "      <th>brand_smart</th>\n",
       "      <th>brand_subaru</th>\n",
       "      <th>brand_suzuki</th>\n",
       "      <th>brand_toyota</th>\n",
       "      <th>brand_trabant</th>\n",
       "      <th>brand_volkswagen</th>\n",
       "      <th>brand_volvo</th>\n",
       "      <th>notrepaired_yes</th>\n",
       "    </tr>\n",
       "  </thead>\n",
       "  <tbody>\n",
       "    <tr>\n",
       "      <td>333569</td>\n",
       "      <td>-0.998239</td>\n",
       "      <td>-1.537217</td>\n",
       "      <td>0.596060</td>\n",
       "      <td>0</td>\n",
       "      <td>0</td>\n",
       "      <td>0</td>\n",
       "      <td>0</td>\n",
       "      <td>1</td>\n",
       "      <td>0</td>\n",
       "      <td>0</td>\n",
       "      <td>...</td>\n",
       "      <td>0</td>\n",
       "      <td>0</td>\n",
       "      <td>0</td>\n",
       "      <td>0</td>\n",
       "      <td>0</td>\n",
       "      <td>0</td>\n",
       "      <td>0</td>\n",
       "      <td>1</td>\n",
       "      <td>0</td>\n",
       "      <td>0</td>\n",
       "    </tr>\n",
       "    <tr>\n",
       "      <td>178707</td>\n",
       "      <td>-1.191312</td>\n",
       "      <td>-0.369814</td>\n",
       "      <td>0.596060</td>\n",
       "      <td>0</td>\n",
       "      <td>0</td>\n",
       "      <td>0</td>\n",
       "      <td>0</td>\n",
       "      <td>1</td>\n",
       "      <td>0</td>\n",
       "      <td>0</td>\n",
       "      <td>...</td>\n",
       "      <td>0</td>\n",
       "      <td>0</td>\n",
       "      <td>0</td>\n",
       "      <td>0</td>\n",
       "      <td>0</td>\n",
       "      <td>0</td>\n",
       "      <td>0</td>\n",
       "      <td>1</td>\n",
       "      <td>0</td>\n",
       "      <td>0</td>\n",
       "    </tr>\n",
       "    <tr>\n",
       "      <td>309931</td>\n",
       "      <td>1.125560</td>\n",
       "      <td>0.522907</td>\n",
       "      <td>-1.393253</td>\n",
       "      <td>0</td>\n",
       "      <td>0</td>\n",
       "      <td>0</td>\n",
       "      <td>0</td>\n",
       "      <td>0</td>\n",
       "      <td>0</td>\n",
       "      <td>0</td>\n",
       "      <td>...</td>\n",
       "      <td>0</td>\n",
       "      <td>0</td>\n",
       "      <td>0</td>\n",
       "      <td>0</td>\n",
       "      <td>0</td>\n",
       "      <td>0</td>\n",
       "      <td>0</td>\n",
       "      <td>0</td>\n",
       "      <td>0</td>\n",
       "      <td>0</td>\n",
       "    </tr>\n",
       "    <tr>\n",
       "      <td>146954</td>\n",
       "      <td>0.932487</td>\n",
       "      <td>0.591577</td>\n",
       "      <td>-0.824878</td>\n",
       "      <td>0</td>\n",
       "      <td>0</td>\n",
       "      <td>0</td>\n",
       "      <td>1</td>\n",
       "      <td>0</td>\n",
       "      <td>0</td>\n",
       "      <td>0</td>\n",
       "      <td>...</td>\n",
       "      <td>0</td>\n",
       "      <td>0</td>\n",
       "      <td>0</td>\n",
       "      <td>0</td>\n",
       "      <td>0</td>\n",
       "      <td>0</td>\n",
       "      <td>0</td>\n",
       "      <td>0</td>\n",
       "      <td>0</td>\n",
       "      <td>0</td>\n",
       "    </tr>\n",
       "    <tr>\n",
       "      <td>62848</td>\n",
       "      <td>0.932487</td>\n",
       "      <td>2.308347</td>\n",
       "      <td>0.596060</td>\n",
       "      <td>0</td>\n",
       "      <td>0</td>\n",
       "      <td>0</td>\n",
       "      <td>0</td>\n",
       "      <td>0</td>\n",
       "      <td>0</td>\n",
       "      <td>1</td>\n",
       "      <td>...</td>\n",
       "      <td>0</td>\n",
       "      <td>0</td>\n",
       "      <td>0</td>\n",
       "      <td>0</td>\n",
       "      <td>0</td>\n",
       "      <td>0</td>\n",
       "      <td>0</td>\n",
       "      <td>0</td>\n",
       "      <td>0</td>\n",
       "      <td>0</td>\n",
       "    </tr>\n",
       "  </tbody>\n",
       "</table>\n",
       "<p>5 rows × 300 columns</p>\n",
       "</div>"
      ],
      "text/plain": [
       "        registrationyear     power  kilometer  vehicletype_convertible  \\\n",
       "333569         -0.998239 -1.537217   0.596060                        0   \n",
       "178707         -1.191312 -0.369814   0.596060                        0   \n",
       "309931          1.125560  0.522907  -1.393253                        0   \n",
       "146954          0.932487  0.591577  -0.824878                        0   \n",
       "62848           0.932487  2.308347   0.596060                        0   \n",
       "\n",
       "        vehicletype_coupe  vehicletype_other  vehicletype_sedan  \\\n",
       "333569                  0                  0                  0   \n",
       "178707                  0                  0                  0   \n",
       "309931                  0                  0                  0   \n",
       "146954                  0                  0                  1   \n",
       "62848                   0                  0                  0   \n",
       "\n",
       "        vehicletype_small  vehicletype_suv  vehicletype_wagon  ...  \\\n",
       "333569                  1                0                  0  ...   \n",
       "178707                  1                0                  0  ...   \n",
       "309931                  0                0                  0  ...   \n",
       "146954                  0                0                  0  ...   \n",
       "62848                   0                0                  1  ...   \n",
       "\n",
       "        brand_seat  brand_skoda  brand_smart  brand_subaru  brand_suzuki  \\\n",
       "333569           0            0            0             0             0   \n",
       "178707           0            0            0             0             0   \n",
       "309931           0            0            0             0             0   \n",
       "146954           0            0            0             0             0   \n",
       "62848            0            0            0             0             0   \n",
       "\n",
       "        brand_toyota  brand_trabant  brand_volkswagen  brand_volvo  \\\n",
       "333569             0              0                 1            0   \n",
       "178707             0              0                 1            0   \n",
       "309931             0              0                 0            0   \n",
       "146954             0              0                 0            0   \n",
       "62848              0              0                 0            0   \n",
       "\n",
       "        notrepaired_yes  \n",
       "333569                0  \n",
       "178707                0  \n",
       "309931                0  \n",
       "146954                0  \n",
       "62848                 0  \n",
       "\n",
       "[5 rows x 300 columns]"
      ]
     },
     "metadata": {},
     "output_type": "display_data"
    },
    {
     "data": {
      "text/html": [
       "<div>\n",
       "<style scoped>\n",
       "    .dataframe tbody tr th:only-of-type {\n",
       "        vertical-align: middle;\n",
       "    }\n",
       "\n",
       "    .dataframe tbody tr th {\n",
       "        vertical-align: top;\n",
       "    }\n",
       "\n",
       "    .dataframe thead th {\n",
       "        text-align: right;\n",
       "    }\n",
       "</style>\n",
       "<table border=\"1\" class=\"dataframe\">\n",
       "  <thead>\n",
       "    <tr style=\"text-align: right;\">\n",
       "      <th></th>\n",
       "      <th>vehicletype</th>\n",
       "      <th>registrationyear</th>\n",
       "      <th>gearbox</th>\n",
       "      <th>power</th>\n",
       "      <th>model</th>\n",
       "      <th>kilometer</th>\n",
       "      <th>fueltype</th>\n",
       "      <th>brand</th>\n",
       "      <th>notrepaired</th>\n",
       "    </tr>\n",
       "  </thead>\n",
       "  <tbody>\n",
       "    <tr>\n",
       "      <td>194146</td>\n",
       "      <td>5.0</td>\n",
       "      <td>-384.440516</td>\n",
       "      <td>1.0</td>\n",
       "      <td>-2.269706</td>\n",
       "      <td>173.0</td>\n",
       "      <td>-3.666412</td>\n",
       "      <td>6.0</td>\n",
       "      <td>37.0</td>\n",
       "      <td>0.0</td>\n",
       "    </tr>\n",
       "    <tr>\n",
       "      <td>103875</td>\n",
       "      <td>5.0</td>\n",
       "      <td>-384.633589</td>\n",
       "      <td>1.0</td>\n",
       "      <td>-1.102302</td>\n",
       "      <td>116.0</td>\n",
       "      <td>-3.666412</td>\n",
       "      <td>6.0</td>\n",
       "      <td>37.0</td>\n",
       "      <td>0.0</td>\n",
       "    </tr>\n",
       "    <tr>\n",
       "      <td>180325</td>\n",
       "      <td>0.0</td>\n",
       "      <td>-382.316717</td>\n",
       "      <td>1.0</td>\n",
       "      <td>-0.209582</td>\n",
       "      <td>244.0</td>\n",
       "      <td>-3.666526</td>\n",
       "      <td>6.0</td>\n",
       "      <td>24.0</td>\n",
       "      <td>0.0</td>\n",
       "    </tr>\n",
       "    <tr>\n",
       "      <td>85538</td>\n",
       "      <td>4.0</td>\n",
       "      <td>-382.509789</td>\n",
       "      <td>1.0</td>\n",
       "      <td>-0.140911</td>\n",
       "      <td>6.0</td>\n",
       "      <td>-3.666469</td>\n",
       "      <td>2.0</td>\n",
       "      <td>2.0</td>\n",
       "      <td>0.0</td>\n",
       "    </tr>\n",
       "    <tr>\n",
       "      <td>36568</td>\n",
       "      <td>7.0</td>\n",
       "      <td>-382.509789</td>\n",
       "      <td>0.0</td>\n",
       "      <td>1.575859</td>\n",
       "      <td>9.0</td>\n",
       "      <td>-3.666412</td>\n",
       "      <td>2.0</td>\n",
       "      <td>4.0</td>\n",
       "      <td>0.0</td>\n",
       "    </tr>\n",
       "  </tbody>\n",
       "</table>\n",
       "</div>"
      ],
      "text/plain": [
       "        vehicletype  registrationyear  gearbox     power  model  kilometer  \\\n",
       "194146          5.0       -384.440516      1.0 -2.269706  173.0  -3.666412   \n",
       "103875          5.0       -384.633589      1.0 -1.102302  116.0  -3.666412   \n",
       "180325          0.0       -382.316717      1.0 -0.209582  244.0  -3.666526   \n",
       "85538           4.0       -382.509789      1.0 -0.140911    6.0  -3.666469   \n",
       "36568           7.0       -382.509789      0.0  1.575859    9.0  -3.666412   \n",
       "\n",
       "        fueltype  brand  notrepaired  \n",
       "194146       6.0   37.0          0.0  \n",
       "103875       6.0   37.0          0.0  \n",
       "180325       6.0   24.0          0.0  \n",
       "85538        2.0    2.0          0.0  \n",
       "36568        2.0    4.0          0.0  "
      ]
     },
     "metadata": {},
     "output_type": "display_data"
    },
    {
     "data": {
      "text/html": [
       "<div>\n",
       "<style scoped>\n",
       "    .dataframe tbody tr th:only-of-type {\n",
       "        vertical-align: middle;\n",
       "    }\n",
       "\n",
       "    .dataframe tbody tr th {\n",
       "        vertical-align: top;\n",
       "    }\n",
       "\n",
       "    .dataframe thead th {\n",
       "        text-align: right;\n",
       "    }\n",
       "</style>\n",
       "<table border=\"1\" class=\"dataframe\">\n",
       "  <thead>\n",
       "    <tr style=\"text-align: right;\">\n",
       "      <th></th>\n",
       "      <th>vehicletype</th>\n",
       "      <th>registrationyear</th>\n",
       "      <th>gearbox</th>\n",
       "      <th>power</th>\n",
       "      <th>model</th>\n",
       "      <th>kilometer</th>\n",
       "      <th>fueltype</th>\n",
       "      <th>brand</th>\n",
       "      <th>notrepaired</th>\n",
       "    </tr>\n",
       "  </thead>\n",
       "  <tbody>\n",
       "    <tr>\n",
       "      <td>333569</td>\n",
       "      <td>small</td>\n",
       "      <td>-0.998239</td>\n",
       "      <td>manual</td>\n",
       "      <td>-1.537217</td>\n",
       "      <td>polo</td>\n",
       "      <td>0.596060</td>\n",
       "      <td>petrol</td>\n",
       "      <td>volkswagen</td>\n",
       "      <td>no</td>\n",
       "    </tr>\n",
       "    <tr>\n",
       "      <td>178707</td>\n",
       "      <td>small</td>\n",
       "      <td>-1.191312</td>\n",
       "      <td>manual</td>\n",
       "      <td>-0.369814</td>\n",
       "      <td>golf</td>\n",
       "      <td>0.596060</td>\n",
       "      <td>petrol</td>\n",
       "      <td>volkswagen</td>\n",
       "      <td>no</td>\n",
       "    </tr>\n",
       "    <tr>\n",
       "      <td>309931</td>\n",
       "      <td>bus</td>\n",
       "      <td>1.125560</td>\n",
       "      <td>manual</td>\n",
       "      <td>0.522907</td>\n",
       "      <td>zafira</td>\n",
       "      <td>-1.393253</td>\n",
       "      <td>petrol</td>\n",
       "      <td>opel</td>\n",
       "      <td>no</td>\n",
       "    </tr>\n",
       "    <tr>\n",
       "      <td>146954</td>\n",
       "      <td>sedan</td>\n",
       "      <td>0.932487</td>\n",
       "      <td>manual</td>\n",
       "      <td>0.591577</td>\n",
       "      <td>1er</td>\n",
       "      <td>-0.824878</td>\n",
       "      <td>gasoline</td>\n",
       "      <td>bmw</td>\n",
       "      <td>no</td>\n",
       "    </tr>\n",
       "    <tr>\n",
       "      <td>62848</td>\n",
       "      <td>wagon</td>\n",
       "      <td>0.932487</td>\n",
       "      <td>auto</td>\n",
       "      <td>2.308347</td>\n",
       "      <td>300c</td>\n",
       "      <td>0.596060</td>\n",
       "      <td>gasoline</td>\n",
       "      <td>chrysler</td>\n",
       "      <td>no</td>\n",
       "    </tr>\n",
       "  </tbody>\n",
       "</table>\n",
       "</div>"
      ],
      "text/plain": [
       "       vehicletype  registrationyear gearbox     power   model  kilometer  \\\n",
       "333569       small         -0.998239  manual -1.537217    polo   0.596060   \n",
       "178707       small         -1.191312  manual -0.369814    golf   0.596060   \n",
       "309931         bus          1.125560  manual  0.522907  zafira  -1.393253   \n",
       "146954       sedan          0.932487  manual  0.591577     1er  -0.824878   \n",
       "62848        wagon          0.932487    auto  2.308347    300c   0.596060   \n",
       "\n",
       "        fueltype       brand notrepaired  \n",
       "333569    petrol  volkswagen          no  \n",
       "178707    petrol  volkswagen          no  \n",
       "309931    petrol        opel          no  \n",
       "146954  gasoline         bmw          no  \n",
       "62848   gasoline    chrysler          no  "
      ]
     },
     "metadata": {},
     "output_type": "display_data"
    }
   ],
   "source": [
    "# выделим численные признаки\n",
    "numeric = ['registrationyear', 'power', 'kilometer']\n",
    "\n",
    "#настроим структуру для стандартизации на обучающих данных\n",
    "scaler = StandardScaler()\n",
    "scaler.fit(features_train[numeric])\n",
    "# преобразуем выборки функцией transform()\n",
    "features_train_ohe[numeric] = scaler.transform(features_train_ohe[numeric])\n",
    "features_valid_ohe[numeric] = scaler.transform(features_valid_ohe[numeric])\n",
    "features_test_ohe[numeric] = scaler.transform(features_test_ohe[numeric])\n",
    "features_train_ordinal[numeric] = scaler.transform(features_train_ordinal[numeric])\n",
    "features_valid_ordinal[numeric] = scaler.transform(features_valid_ordinal[numeric])\n",
    "features_test_ordinal[numeric] = scaler.transform(features_test_ordinal[numeric])\n",
    "features_train[numeric] = scaler.transform(features_train[numeric])\n",
    "features_valid[numeric] = scaler.transform(features_valid[numeric])\n",
    "features_test[numeric] = scaler.transform(features_test[numeric])\n",
    "\n",
    "# просмотрим данные после масштабирования\n",
    "display(features_train_ohe.head())\n",
    "display(features_train_ordinal.head())\n",
    "display(features_train.head())"
   ]
  },
  {
   "cell_type": "markdown",
   "metadata": {},
   "source": [
    "Заказчику важны качество предсказания, скорость предсказания и время обучения. Обучим различные модели, рассчитаем метрику RMSE для предсказаний на валидационной выборке и определим скорость предсказания и время обучения. Создадим список results, в который будем сохранять интересующие заказчика параметры, для дальнейшего анализа моделей."
   ]
  },
  {
   "cell_type": "code",
   "execution_count": 30,
   "metadata": {},
   "outputs": [],
   "source": [
    "#results = []"
   ]
  },
  {
   "cell_type": "markdown",
   "metadata": {},
   "source": [
    "#### 2.1. Модель линейной регрессии"
   ]
  },
  {
   "cell_type": "code",
   "execution_count": 31,
   "metadata": {},
   "outputs": [
    {
     "name": "stdout",
     "output_type": "stream",
     "text": [
      "RMSE модели: 1822.0482843006107\n"
     ]
    }
   ],
   "source": [
    "start = time.time()\n",
    "model = LinearRegression()\n",
    "model.fit(features_train_ohe, target_train)\n",
    "fit_time = time.time() - start\n",
    "\n",
    "start = time.time()\n",
    "predict_valid_ohe = model.predict(features_valid_ohe)\n",
    "predict_time = time.time() - start\n",
    "\n",
    "mse = mean_squared_error(target_valid, predict_valid_ohe)\n",
    "print('RMSE модели:', mse**0.5)\n",
    "\n",
    "#result_LR = fit_time, predict_time, mse**0.5"
   ]
  },
  {
   "cell_type": "code",
   "execution_count": 32,
   "metadata": {},
   "outputs": [],
   "source": [
    "#results.append(result_LR)"
   ]
  },
  {
   "cell_type": "markdown",
   "metadata": {},
   "source": [
    "#### 2.2. Модель решающего дерева"
   ]
  },
  {
   "cell_type": "markdown",
   "metadata": {},
   "source": [
    "Рассмотрим модель решающего дерева. При обучении модели проварьируем гиперпараметр -  глубину дерева. Cохраним модель с лучшим значением метрики accuracy на валидационной выборке."
   ]
  },
  {
   "cell_type": "code",
   "execution_count": 33,
   "metadata": {},
   "outputs": [
    {
     "name": "stdout",
     "output_type": "stream",
     "text": [
      "RMSE модели при max_depth = 10 составляет: 1573.4485392179595\n"
     ]
    }
   ],
   "source": [
    "best_result = 3000\n",
    "best_depth = None\n",
    "best_fit_time = None\n",
    "best_predict_time = None\n",
    "for depth in range(1, 11):\n",
    "    start = time.time()\n",
    "    model = DecisionTreeRegressor(max_depth=depth, random_state=12345)\n",
    "    model.fit(features_train_ordinal, target_train)\n",
    "    fit_time = time.time() - start\n",
    "    \n",
    "    start = time.time()\n",
    "    predict_valid_ordinal = model.predict(features_valid_ordinal)\n",
    "    predict_time = time.time() - start\n",
    "    mse = mean_squared_error(target_valid, predict_valid_ordinal)\n",
    "    result = mse**0.5\n",
    "    if result < best_result:\n",
    "        best_result = result\n",
    "        best_depth = depth\n",
    "        best_fit_time = fit_time\n",
    "        best_predict_time = predict_time\n",
    "    \n",
    "print('RMSE модели при max_depth =', best_depth, 'составляет:', best_result)\n",
    "\n",
    "#result_DTR = best_fit_time, best_predict_time, best_result"
   ]
  },
  {
   "cell_type": "markdown",
   "metadata": {},
   "source": [
    "#### 2.3. Модель случайного леса"
   ]
  },
  {
   "cell_type": "code",
   "execution_count": 35,
   "metadata": {},
   "outputs": [],
   "source": [
    "#for est in range(10, 51, 10):\n",
    "    #model = RandomForestRegressor(n_estimators=est, random_state=12345)\n",
    "    #model.fit(features_train_ohe, target_train_ohe)\n",
    "    #predict_valid_ohe = model.predict(features_valid_ohe)\n",
    "    #mse = mean_squared_error(target_valid_ohe, predict_valid_ohe)\n",
    "    #print('RMSE модели при n_estimators =', est, 'составляет:', mse**0.5)"
   ]
  },
  {
   "cell_type": "markdown",
   "metadata": {},
   "source": [
    "Заказчику важны скорость предсказания и время обучения, модель случайного леса обучается долго, не будем ее рассматривать для дальнейшего анализа."
   ]
  },
  {
   "cell_type": "markdown",
   "metadata": {},
   "source": [
    "#### 2.4. Модель градиентного бустинга LGBMRegressor"
   ]
  },
  {
   "cell_type": "markdown",
   "metadata": {},
   "source": [
    "Построим модель градиентного бустинга LGBMRegressor. Проварьируем параметр n_estimators и сохраним полученные результаты в список results."
   ]
  },
  {
   "cell_type": "code",
   "execution_count": 36,
   "metadata": {},
   "outputs": [
    {
     "name": "stderr",
     "output_type": "stream",
     "text": [
      "/opt/conda/lib/python3.7/site-packages/lightgbm/basic.py:1295: UserWarning: categorical_feature in Dataset is overridden.\n",
      "New categorical_feature is ['brand', 'fueltype', 'gearbox', 'model', 'notrepaired', 'vehicletype']\n",
      "  'New categorical_feature is {}'.format(sorted(list(categorical_feature))))\n"
     ]
    },
    {
     "name": "stdout",
     "output_type": "stream",
     "text": [
      "RMSE модели: 1242.1563098088795\n"
     ]
    }
   ],
   "source": [
    "start = time.time() \n",
    "model = lgb.LGBMRegressor(num_leaves= 31, learning_rate=0.1, max_depth=10, n_estimators=250)\n",
    "model.fit(features_train, target_train, categorical_feature=categorical_columns)\n",
    "fit_time = time.time() - start\n",
    "\n",
    "start = time.time()\n",
    "predicted_valid = model.predict(features_valid)\n",
    "predict_time = time.time() - start\n",
    "\n",
    "mse = mean_squared_error(target_valid, predicted_valid)\n",
    "\n",
    "print('RMSE модели:', mse**0.5)\n",
    "#result_LGBM_n_est_250 = fit_time, predict_time, mse**0.5"
   ]
  },
  {
   "cell_type": "code",
   "execution_count": 37,
   "metadata": {},
   "outputs": [],
   "source": [
    "#results.append(result_LGBM_n_est_250)"
   ]
  },
  {
   "cell_type": "code",
   "execution_count": 38,
   "metadata": {},
   "outputs": [
    {
     "name": "stderr",
     "output_type": "stream",
     "text": [
      "/opt/conda/lib/python3.7/site-packages/lightgbm/basic.py:1295: UserWarning: categorical_feature in Dataset is overridden.\n",
      "New categorical_feature is ['brand', 'fueltype', 'gearbox', 'model', 'notrepaired', 'vehicletype']\n",
      "  'New categorical_feature is {}'.format(sorted(list(categorical_feature))))\n"
     ]
    },
    {
     "name": "stdout",
     "output_type": "stream",
     "text": [
      "RMSE модели: 1270.9887496989281\n"
     ]
    }
   ],
   "source": [
    "start = time.time()\n",
    "model = lgb.LGBMRegressor(num_leaves= 31, learning_rate=0.1, max_depth=10, n_estimators=100)\n",
    "model.fit(features_train, target_train, categorical_feature=categorical_columns)\n",
    "fit_time = time.time() - start\n",
    "\n",
    "start = time.time()\n",
    "predicted_valid = model.predict(features_valid)\n",
    "mse = mean_squared_error(target_valid, predicted_valid)\n",
    "predict_time = time.time() - start\n",
    "\n",
    "print('RMSE модели:', mse**0.5)\n",
    "#result_LGBM_n_est_100 = fit_time, predict_time, mse**0.5"
   ]
  },
  {
   "cell_type": "code",
   "execution_count": 39,
   "metadata": {},
   "outputs": [],
   "source": [
    "#results.append(result_LGBM_n_est_100)"
   ]
  },
  {
   "cell_type": "markdown",
   "metadata": {},
   "source": [
    "# 3. Анализ моделей"
   ]
  },
  {
   "cell_type": "markdown",
   "metadata": {},
   "source": [
    "Создадим список results, в который сохраним интересующие заказчика параметры, и метрику предсказаний модели на тестовой выборке."
   ]
  },
  {
   "cell_type": "code",
   "execution_count": 40,
   "metadata": {},
   "outputs": [],
   "source": [
    "results = []"
   ]
  },
  {
   "cell_type": "markdown",
   "metadata": {},
   "source": [
    "#### 3.1. Модель линейной регрессии"
   ]
  },
  {
   "cell_type": "code",
   "execution_count": 41,
   "metadata": {},
   "outputs": [
    {
     "name": "stdout",
     "output_type": "stream",
     "text": [
      "RMSE модели: 1798.774174055603\n"
     ]
    }
   ],
   "source": [
    "start = time.time()\n",
    "model = LinearRegression()\n",
    "model.fit(features_train_ohe, target_train)\n",
    "fit_time = time.time() - start\n",
    "\n",
    "start = time.time()\n",
    "predict_test_ohe = model.predict(features_test_ohe)\n",
    "predict_time = time.time() - start\n",
    "\n",
    "mse = mean_squared_error(target_test, predict_test_ohe)\n",
    "print('RMSE модели:', mse**0.5)\n",
    "\n",
    "result_LR = fit_time, predict_time, mse**0.5"
   ]
  },
  {
   "cell_type": "code",
   "execution_count": 42,
   "metadata": {},
   "outputs": [],
   "source": [
    "results.append(result_LR)"
   ]
  },
  {
   "cell_type": "markdown",
   "metadata": {},
   "source": [
    "#### 3.2. Модель решающего дерева"
   ]
  },
  {
   "cell_type": "code",
   "execution_count": 43,
   "metadata": {},
   "outputs": [
    {
     "name": "stdout",
     "output_type": "stream",
     "text": [
      "RMSE модели составляет: 1568.2655487832214\n"
     ]
    }
   ],
   "source": [
    "start = time.time()\n",
    "model = DecisionTreeRegressor(max_depth=10, random_state=12345)\n",
    "model.fit(features_train_ordinal, target_train)\n",
    "fit_time = time.time() - start\n",
    "    \n",
    "start = time.time()\n",
    "predict_test_ordinal = model.predict(features_test_ordinal)\n",
    "predict_time = time.time() - start\n",
    "mse = mean_squared_error(target_test, predict_test_ordinal)\n",
    "    \n",
    "print('RMSE модели составляет:', mse**0.5)\n",
    "\n",
    "result_DTR = fit_time, predict_time, mse**0.5"
   ]
  },
  {
   "cell_type": "code",
   "execution_count": 44,
   "metadata": {},
   "outputs": [],
   "source": [
    "results.append(result_DTR)"
   ]
  },
  {
   "cell_type": "markdown",
   "metadata": {},
   "source": [
    "#### 3.3. Модель градиентного бустинга LGBMRegressor"
   ]
  },
  {
   "cell_type": "code",
   "execution_count": 45,
   "metadata": {},
   "outputs": [
    {
     "name": "stderr",
     "output_type": "stream",
     "text": [
      "/opt/conda/lib/python3.7/site-packages/lightgbm/basic.py:1295: UserWarning: categorical_feature in Dataset is overridden.\n",
      "New categorical_feature is ['brand', 'fueltype', 'gearbox', 'model', 'notrepaired', 'vehicletype']\n",
      "  'New categorical_feature is {}'.format(sorted(list(categorical_feature))))\n"
     ]
    },
    {
     "name": "stdout",
     "output_type": "stream",
     "text": [
      "RMSE модели: 1250.061713945851\n"
     ]
    }
   ],
   "source": [
    "start = time.time() \n",
    "model = lgb.LGBMRegressor(num_leaves= 31, learning_rate=0.1, max_depth=10, n_estimators=250)\n",
    "model.fit(features_train, target_train, categorical_feature=categorical_columns)\n",
    "fit_time = time.time() - start\n",
    "\n",
    "start = time.time()\n",
    "predicted_test = model.predict(features_test)\n",
    "predict_time = time.time() - start\n",
    "\n",
    "mse = mean_squared_error(target_test, predicted_test)\n",
    "\n",
    "print('RMSE модели:', mse**0.5)\n",
    "result_LGBM_n_est_250 = fit_time, predict_time, mse**0.5"
   ]
  },
  {
   "cell_type": "code",
   "execution_count": 46,
   "metadata": {},
   "outputs": [],
   "source": [
    "results.append(result_LGBM_n_est_250)"
   ]
  },
  {
   "cell_type": "code",
   "execution_count": 47,
   "metadata": {},
   "outputs": [
    {
     "name": "stderr",
     "output_type": "stream",
     "text": [
      "/opt/conda/lib/python3.7/site-packages/lightgbm/basic.py:1295: UserWarning: categorical_feature in Dataset is overridden.\n",
      "New categorical_feature is ['brand', 'fueltype', 'gearbox', 'model', 'notrepaired', 'vehicletype']\n",
      "  'New categorical_feature is {}'.format(sorted(list(categorical_feature))))\n"
     ]
    },
    {
     "name": "stdout",
     "output_type": "stream",
     "text": [
      "RMSE модели: 1278.049761779094\n"
     ]
    }
   ],
   "source": [
    "start = time.time() \n",
    "model = lgb.LGBMRegressor(num_leaves= 31, learning_rate=0.1, max_depth=10, n_estimators=100)\n",
    "model.fit(features_train, target_train, categorical_feature=categorical_columns)\n",
    "fit_time = time.time() - start\n",
    "\n",
    "start = time.time()\n",
    "predicted_test = model.predict(features_test)\n",
    "predict_time = time.time() - start\n",
    "\n",
    "mse = mean_squared_error(target_test, predicted_test)\n",
    "\n",
    "print('RMSE модели:', mse**0.5)\n",
    "result_LGBM_n_est_100 = fit_time, predict_time, mse**0.5"
   ]
  },
  {
   "cell_type": "code",
   "execution_count": 48,
   "metadata": {},
   "outputs": [],
   "source": [
    "results.append(result_LGBM_n_est_100)"
   ]
  },
  {
   "cell_type": "code",
   "execution_count": 49,
   "metadata": {},
   "outputs": [
    {
     "data": {
      "text/html": [
       "<div>\n",
       "<style scoped>\n",
       "    .dataframe tbody tr th:only-of-type {\n",
       "        vertical-align: middle;\n",
       "    }\n",
       "\n",
       "    .dataframe tbody tr th {\n",
       "        vertical-align: top;\n",
       "    }\n",
       "\n",
       "    .dataframe thead th {\n",
       "        text-align: right;\n",
       "    }\n",
       "</style>\n",
       "<table border=\"1\" class=\"dataframe\">\n",
       "  <thead>\n",
       "    <tr style=\"text-align: right;\">\n",
       "      <th></th>\n",
       "      <th>Время_обучения, s</th>\n",
       "      <th>Время_Предсказания, s</th>\n",
       "      <th>RMSE</th>\n",
       "    </tr>\n",
       "  </thead>\n",
       "  <tbody>\n",
       "    <tr>\n",
       "      <td>LinearRegression</td>\n",
       "      <td>13.497384</td>\n",
       "      <td>0.102750</td>\n",
       "      <td>1798.774174</td>\n",
       "    </tr>\n",
       "    <tr>\n",
       "      <td>DecisionTreeRegressor</td>\n",
       "      <td>0.347692</td>\n",
       "      <td>0.007144</td>\n",
       "      <td>1568.265549</td>\n",
       "    </tr>\n",
       "    <tr>\n",
       "      <td>LGBM_n_est_250</td>\n",
       "      <td>17.004664</td>\n",
       "      <td>1.509689</td>\n",
       "      <td>1250.061714</td>\n",
       "    </tr>\n",
       "    <tr>\n",
       "      <td>LGBM_n_est_100</td>\n",
       "      <td>9.207895</td>\n",
       "      <td>0.694255</td>\n",
       "      <td>1278.049762</td>\n",
       "    </tr>\n",
       "  </tbody>\n",
       "</table>\n",
       "</div>"
      ],
      "text/plain": [
       "                       Время_обучения, s  Время_Предсказания, s         RMSE\n",
       "LinearRegression               13.497384               0.102750  1798.774174\n",
       "DecisionTreeRegressor           0.347692               0.007144  1568.265549\n",
       "LGBM_n_est_250                 17.004664               1.509689  1250.061714\n",
       "LGBM_n_est_100                  9.207895               0.694255  1278.049762"
      ]
     },
     "execution_count": 49,
     "metadata": {},
     "output_type": "execute_result"
    }
   ],
   "source": [
    "pd.DataFrame(data=results,\n",
    "index=['LinearRegression', 'DecisionTreeRegressor', 'LGBM_n_est_250', 'LGBM_n_est_100' ],\n",
    "columns=['Время_обучения, s', 'Время_Предсказания, s', 'RMSE'])"
   ]
  },
  {
   "cell_type": "markdown",
   "metadata": {},
   "source": [
    "### Вывод:\n",
    "На основе исторических данных о продаже автомобилей - технические характеристики, комплектации и цены автомобилей - построены и проанализированы модели линейной регрессии, решающего дерева и модель градиентного бустинга LGBMRegressor для оценки рыночной стоимости автомобилей. Заказчику важны качество предсказания, скорость предсказания и время обучения. По совокупности параметров наиболее оптимальной является модель градиентного бустинга LGBMRegressor с количеством деревьев n_estimators = 100."
   ]
  }
 ],
 "metadata": {
  "kernelspec": {
   "display_name": "Python 3",
   "language": "python",
   "name": "python3"
  },
  "language_info": {
   "codemirror_mode": {
    "name": "ipython",
    "version": 3
   },
   "file_extension": ".py",
   "mimetype": "text/x-python",
   "name": "python",
   "nbconvert_exporter": "python",
   "pygments_lexer": "ipython3",
   "version": "3.7.4"
  },
  "toc": {
   "base_numbering": 1,
   "nav_menu": {},
   "number_sections": true,
   "sideBar": true,
   "skip_h1_title": true,
   "title_cell": "Table of Contents",
   "title_sidebar": "Contents",
   "toc_cell": false,
   "toc_position": {},
   "toc_section_display": true,
   "toc_window_display": false
  }
 },
 "nbformat": 4,
 "nbformat_minor": 2
}
