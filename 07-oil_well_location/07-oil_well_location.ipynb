{
 "cells": [
  {
   "cell_type": "markdown",
   "metadata": {},
   "source": [
    "# 1. Загрузка и подготовка данных"
   ]
  },
  {
   "cell_type": "markdown",
   "metadata": {},
   "source": [
    "Первым шагом настроим окружение: импортируем все необходимые библиотеки."
   ]
  },
  {
   "cell_type": "code",
   "execution_count": 1,
   "metadata": {},
   "outputs": [],
   "source": [
    "import pandas as pd\n",
    "import numpy as np\n",
    "import seaborn as sns\n",
    "import matplotlib.pyplot as plt\n",
    "from numpy.random import RandomState\n",
    "from IPython.display import display\n",
    "from sklearn.model_selection import train_test_split\n",
    "from sklearn.preprocessing import StandardScaler\n",
    "from sklearn.linear_model import LinearRegression\n",
    "from sklearn.metrics import mean_squared_error\n",
    "from sklearn.metrics import r2_score"
   ]
  },
  {
   "cell_type": "markdown",
   "metadata": {},
   "source": [
    "Сохраним в переменных data с индексом региона входные данные по скважинам. Для каждого региона выведем первые 5 строк массива данных и просмотрим информацию о типах данных таблиц."
   ]
  },
  {
   "cell_type": "code",
   "execution_count": 2,
   "metadata": {},
   "outputs": [],
   "source": [
    "data_0 = pd.read_csv('/datasets/geo_data_0.csv')\n",
    "data_1 = pd.read_csv('/datasets/geo_data_1.csv')\n",
    "data_2 = pd.read_csv('/datasets/geo_data_2.csv')"
   ]
  },
  {
   "cell_type": "code",
   "execution_count": 3,
   "metadata": {},
   "outputs": [
    {
     "data": {
      "text/html": [
       "<div>\n",
       "<style scoped>\n",
       "    .dataframe tbody tr th:only-of-type {\n",
       "        vertical-align: middle;\n",
       "    }\n",
       "\n",
       "    .dataframe tbody tr th {\n",
       "        vertical-align: top;\n",
       "    }\n",
       "\n",
       "    .dataframe thead th {\n",
       "        text-align: right;\n",
       "    }\n",
       "</style>\n",
       "<table border=\"1\" class=\"dataframe\">\n",
       "  <thead>\n",
       "    <tr style=\"text-align: right;\">\n",
       "      <th></th>\n",
       "      <th>id</th>\n",
       "      <th>f0</th>\n",
       "      <th>f1</th>\n",
       "      <th>f2</th>\n",
       "      <th>product</th>\n",
       "    </tr>\n",
       "  </thead>\n",
       "  <tbody>\n",
       "    <tr>\n",
       "      <td>0</td>\n",
       "      <td>txEyH</td>\n",
       "      <td>0.705745</td>\n",
       "      <td>-0.497823</td>\n",
       "      <td>1.221170</td>\n",
       "      <td>105.280062</td>\n",
       "    </tr>\n",
       "    <tr>\n",
       "      <td>1</td>\n",
       "      <td>2acmU</td>\n",
       "      <td>1.334711</td>\n",
       "      <td>-0.340164</td>\n",
       "      <td>4.365080</td>\n",
       "      <td>73.037750</td>\n",
       "    </tr>\n",
       "    <tr>\n",
       "      <td>2</td>\n",
       "      <td>409Wp</td>\n",
       "      <td>1.022732</td>\n",
       "      <td>0.151990</td>\n",
       "      <td>1.419926</td>\n",
       "      <td>85.265647</td>\n",
       "    </tr>\n",
       "    <tr>\n",
       "      <td>3</td>\n",
       "      <td>iJLyR</td>\n",
       "      <td>-0.032172</td>\n",
       "      <td>0.139033</td>\n",
       "      <td>2.978566</td>\n",
       "      <td>168.620776</td>\n",
       "    </tr>\n",
       "    <tr>\n",
       "      <td>4</td>\n",
       "      <td>Xdl7t</td>\n",
       "      <td>1.988431</td>\n",
       "      <td>0.155413</td>\n",
       "      <td>4.751769</td>\n",
       "      <td>154.036647</td>\n",
       "    </tr>\n",
       "  </tbody>\n",
       "</table>\n",
       "</div>"
      ],
      "text/plain": [
       "      id        f0        f1        f2     product\n",
       "0  txEyH  0.705745 -0.497823  1.221170  105.280062\n",
       "1  2acmU  1.334711 -0.340164  4.365080   73.037750\n",
       "2  409Wp  1.022732  0.151990  1.419926   85.265647\n",
       "3  iJLyR -0.032172  0.139033  2.978566  168.620776\n",
       "4  Xdl7t  1.988431  0.155413  4.751769  154.036647"
      ]
     },
     "metadata": {},
     "output_type": "display_data"
    },
    {
     "data": {
      "text/html": [
       "<div>\n",
       "<style scoped>\n",
       "    .dataframe tbody tr th:only-of-type {\n",
       "        vertical-align: middle;\n",
       "    }\n",
       "\n",
       "    .dataframe tbody tr th {\n",
       "        vertical-align: top;\n",
       "    }\n",
       "\n",
       "    .dataframe thead th {\n",
       "        text-align: right;\n",
       "    }\n",
       "</style>\n",
       "<table border=\"1\" class=\"dataframe\">\n",
       "  <thead>\n",
       "    <tr style=\"text-align: right;\">\n",
       "      <th></th>\n",
       "      <th>id</th>\n",
       "      <th>f0</th>\n",
       "      <th>f1</th>\n",
       "      <th>f2</th>\n",
       "      <th>product</th>\n",
       "    </tr>\n",
       "  </thead>\n",
       "  <tbody>\n",
       "    <tr>\n",
       "      <td>0</td>\n",
       "      <td>kBEdx</td>\n",
       "      <td>-15.001348</td>\n",
       "      <td>-8.276000</td>\n",
       "      <td>-0.005876</td>\n",
       "      <td>3.179103</td>\n",
       "    </tr>\n",
       "    <tr>\n",
       "      <td>1</td>\n",
       "      <td>62mP7</td>\n",
       "      <td>14.272088</td>\n",
       "      <td>-3.475083</td>\n",
       "      <td>0.999183</td>\n",
       "      <td>26.953261</td>\n",
       "    </tr>\n",
       "    <tr>\n",
       "      <td>2</td>\n",
       "      <td>vyE1P</td>\n",
       "      <td>6.263187</td>\n",
       "      <td>-5.948386</td>\n",
       "      <td>5.001160</td>\n",
       "      <td>134.766305</td>\n",
       "    </tr>\n",
       "    <tr>\n",
       "      <td>3</td>\n",
       "      <td>KcrkZ</td>\n",
       "      <td>-13.081196</td>\n",
       "      <td>-11.506057</td>\n",
       "      <td>4.999415</td>\n",
       "      <td>137.945408</td>\n",
       "    </tr>\n",
       "    <tr>\n",
       "      <td>4</td>\n",
       "      <td>AHL4O</td>\n",
       "      <td>12.702195</td>\n",
       "      <td>-8.147433</td>\n",
       "      <td>5.004363</td>\n",
       "      <td>134.766305</td>\n",
       "    </tr>\n",
       "  </tbody>\n",
       "</table>\n",
       "</div>"
      ],
      "text/plain": [
       "      id         f0         f1        f2     product\n",
       "0  kBEdx -15.001348  -8.276000 -0.005876    3.179103\n",
       "1  62mP7  14.272088  -3.475083  0.999183   26.953261\n",
       "2  vyE1P   6.263187  -5.948386  5.001160  134.766305\n",
       "3  KcrkZ -13.081196 -11.506057  4.999415  137.945408\n",
       "4  AHL4O  12.702195  -8.147433  5.004363  134.766305"
      ]
     },
     "metadata": {},
     "output_type": "display_data"
    },
    {
     "data": {
      "text/html": [
       "<div>\n",
       "<style scoped>\n",
       "    .dataframe tbody tr th:only-of-type {\n",
       "        vertical-align: middle;\n",
       "    }\n",
       "\n",
       "    .dataframe tbody tr th {\n",
       "        vertical-align: top;\n",
       "    }\n",
       "\n",
       "    .dataframe thead th {\n",
       "        text-align: right;\n",
       "    }\n",
       "</style>\n",
       "<table border=\"1\" class=\"dataframe\">\n",
       "  <thead>\n",
       "    <tr style=\"text-align: right;\">\n",
       "      <th></th>\n",
       "      <th>id</th>\n",
       "      <th>f0</th>\n",
       "      <th>f1</th>\n",
       "      <th>f2</th>\n",
       "      <th>product</th>\n",
       "    </tr>\n",
       "  </thead>\n",
       "  <tbody>\n",
       "    <tr>\n",
       "      <td>0</td>\n",
       "      <td>fwXo0</td>\n",
       "      <td>-1.146987</td>\n",
       "      <td>0.963328</td>\n",
       "      <td>-0.828965</td>\n",
       "      <td>27.758673</td>\n",
       "    </tr>\n",
       "    <tr>\n",
       "      <td>1</td>\n",
       "      <td>WJtFt</td>\n",
       "      <td>0.262778</td>\n",
       "      <td>0.269839</td>\n",
       "      <td>-2.530187</td>\n",
       "      <td>56.069697</td>\n",
       "    </tr>\n",
       "    <tr>\n",
       "      <td>2</td>\n",
       "      <td>ovLUW</td>\n",
       "      <td>0.194587</td>\n",
       "      <td>0.289035</td>\n",
       "      <td>-5.586433</td>\n",
       "      <td>62.871910</td>\n",
       "    </tr>\n",
       "    <tr>\n",
       "      <td>3</td>\n",
       "      <td>q6cA6</td>\n",
       "      <td>2.236060</td>\n",
       "      <td>-0.553760</td>\n",
       "      <td>0.930038</td>\n",
       "      <td>114.572842</td>\n",
       "    </tr>\n",
       "    <tr>\n",
       "      <td>4</td>\n",
       "      <td>WPMUX</td>\n",
       "      <td>-0.515993</td>\n",
       "      <td>1.716266</td>\n",
       "      <td>5.899011</td>\n",
       "      <td>149.600746</td>\n",
       "    </tr>\n",
       "  </tbody>\n",
       "</table>\n",
       "</div>"
      ],
      "text/plain": [
       "      id        f0        f1        f2     product\n",
       "0  fwXo0 -1.146987  0.963328 -0.828965   27.758673\n",
       "1  WJtFt  0.262778  0.269839 -2.530187   56.069697\n",
       "2  ovLUW  0.194587  0.289035 -5.586433   62.871910\n",
       "3  q6cA6  2.236060 -0.553760  0.930038  114.572842\n",
       "4  WPMUX -0.515993  1.716266  5.899011  149.600746"
      ]
     },
     "metadata": {},
     "output_type": "display_data"
    }
   ],
   "source": [
    "dataset=[data_0, data_1, data_2]\n",
    "for data in dataset:\n",
    "    display(data.head())"
   ]
  },
  {
   "cell_type": "code",
   "execution_count": 4,
   "metadata": {},
   "outputs": [
    {
     "name": "stdout",
     "output_type": "stream",
     "text": [
      "<class 'pandas.core.frame.DataFrame'>\n",
      "RangeIndex: 100000 entries, 0 to 99999\n",
      "Data columns (total 5 columns):\n",
      "id         100000 non-null object\n",
      "f0         100000 non-null float64\n",
      "f1         100000 non-null float64\n",
      "f2         100000 non-null float64\n",
      "product    100000 non-null float64\n",
      "dtypes: float64(4), object(1)\n",
      "memory usage: 3.8+ MB\n"
     ]
    },
    {
     "data": {
      "text/plain": [
       "None"
      ]
     },
     "metadata": {},
     "output_type": "display_data"
    },
    {
     "name": "stdout",
     "output_type": "stream",
     "text": [
      "<class 'pandas.core.frame.DataFrame'>\n",
      "RangeIndex: 100000 entries, 0 to 99999\n",
      "Data columns (total 5 columns):\n",
      "id         100000 non-null object\n",
      "f0         100000 non-null float64\n",
      "f1         100000 non-null float64\n",
      "f2         100000 non-null float64\n",
      "product    100000 non-null float64\n",
      "dtypes: float64(4), object(1)\n",
      "memory usage: 3.8+ MB\n"
     ]
    },
    {
     "data": {
      "text/plain": [
       "None"
      ]
     },
     "metadata": {},
     "output_type": "display_data"
    },
    {
     "name": "stdout",
     "output_type": "stream",
     "text": [
      "<class 'pandas.core.frame.DataFrame'>\n",
      "RangeIndex: 100000 entries, 0 to 99999\n",
      "Data columns (total 5 columns):\n",
      "id         100000 non-null object\n",
      "f0         100000 non-null float64\n",
      "f1         100000 non-null float64\n",
      "f2         100000 non-null float64\n",
      "product    100000 non-null float64\n",
      "dtypes: float64(4), object(1)\n",
      "memory usage: 3.8+ MB\n"
     ]
    },
    {
     "data": {
      "text/plain": [
       "None"
      ]
     },
     "metadata": {},
     "output_type": "display_data"
    }
   ],
   "source": [
    "for data in dataset:\n",
    "    display(data.info())"
   ]
  },
  {
   "cell_type": "markdown",
   "metadata": {},
   "source": [
    "Построим диаграммы размаха значений объемов запасов в скважине для каждого региона разведки, просмотрим наличие выбросов в данных."
   ]
  },
  {
   "cell_type": "code",
   "execution_count": 5,
   "metadata": {},
   "outputs": [
    {
     "data": {
      "image/png": "[encoded data removed]",
      "text/plain": [
       "<Figure size 432x288 with 1 Axes>"
      ]
     },
     "metadata": {
      "needs_background": "light"
     },
     "output_type": "display_data"
    },
    {
     "data": {
      "text/plain": [
       "count    100000.000000\n",
       "mean         92.500000\n",
       "std          44.288691\n",
       "min           0.000000\n",
       "25%          56.497507\n",
       "50%          91.849972\n",
       "75%         128.564089\n",
       "max         185.364347\n",
       "Name: product, dtype: float64"
      ]
     },
     "metadata": {},
     "output_type": "display_data"
    },
    {
     "data": {
      "image/png": "[encoded data removed]",
      "text/plain": [
       "<Figure size 432x288 with 1 Axes>"
      ]
     },
     "metadata": {
      "needs_background": "light"
     },
     "output_type": "display_data"
    },
    {
     "data": {
      "text/plain": [
       "count    100000.000000\n",
       "mean         68.825000\n",
       "std          45.944423\n",
       "min           0.000000\n",
       "25%          26.953261\n",
       "50%          57.085625\n",
       "75%         107.813044\n",
       "max         137.945408\n",
       "Name: product, dtype: float64"
      ]
     },
     "metadata": {},
     "output_type": "display_data"
    },
    {
     "data": {
      "image/png": "[encoded data removed]",
      "text/plain": [
       "<Figure size 432x288 with 1 Axes>"
      ]
     },
     "metadata": {
      "needs_background": "light"
     },
     "output_type": "display_data"
    },
    {
     "data": {
      "text/plain": [
       "count    100000.000000\n",
       "mean         95.000000\n",
       "std          44.749921\n",
       "min           0.000000\n",
       "25%          59.450441\n",
       "50%          94.925613\n",
       "75%         130.595027\n",
       "max         190.029838\n",
       "Name: product, dtype: float64"
      ]
     },
     "metadata": {},
     "output_type": "display_data"
    }
   ],
   "source": [
    "for data in dataset:\n",
    "    sns.boxplot(data['product'])\n",
    "    plt.title('Диаграмма размаха объём запасов в скважине', size=13)\n",
    "    plt.xlabel('Объем запасов, тыс. баррелей')\n",
    "    plt.show()\n",
    "\n",
    "    display(data['product'].describe())"
   ]
  },
  {
   "cell_type": "code",
   "execution_count": 6,
   "metadata": {},
   "outputs": [
    {
     "name": "stdout",
     "output_type": "stream",
     "text": [
      "10\n",
      "4\n",
      "4\n"
     ]
    }
   ],
   "source": [
    "for data in dataset:\n",
    "    print(data['id'].duplicated().sum())"
   ]
  },
  {
   "cell_type": "markdown",
   "metadata": {},
   "source": [
    "В предоставленных данных есть дублирующие уникальные идентификаторы скважин, для которых значения признаков (f1, f2, f3) и объём запасов в скважине отличаются. Поскольку у нас нет возможности уточнить данные и их количество мало, оставим данные без изменений."
   ]
  },
  {
   "cell_type": "markdown",
   "metadata": {},
   "source": [
    "Создадим переменные для признаков и целевого признака (product — объём запасов в скважине (тыс. баррелей)) для каждого набора данных."
   ]
  },
  {
   "cell_type": "code",
   "execution_count": 7,
   "metadata": {},
   "outputs": [],
   "source": [
    "target_0 = data_0['product']\n",
    "features_0 = data_0.drop(['id', 'product'], axis=1)\n",
    "\n",
    "target_1 = data_1['product']\n",
    "features_1 = data_1.drop(['id', 'product'], axis=1)\n",
    "\n",
    "target_2 = data_2['product']\n",
    "features_2 = data_2.drop(['id', 'product'], axis=1)"
   ]
  },
  {
   "cell_type": "markdown",
   "metadata": {},
   "source": [
    "### Вывод\n",
    "Во входных данных предоставлена информация геологоразведки пробы нефти в трёх регионах с записями о 10000 скважинах, которые характеризуются тремя признаками: f0, f1, f2. Целевым признаком является product — объём запасов в скважине (тыс. баррелей). Выбросы в данных геологоразведки для всех регионов не наблюдается."
   ]
  },
  {
   "cell_type": "markdown",
   "metadata": {},
   "source": [
    "# 2. Обучение и проверка модели"
   ]
  },
  {
   "cell_type": "markdown",
   "metadata": {},
   "source": [
    "Создадим функцию для разделения данных на обучающую и валидационную выборки в соотношении 75:25 и применим ее для каждого региона."
   ]
  },
  {
   "cell_type": "code",
   "execution_count": 8,
   "metadata": {},
   "outputs": [],
   "source": [
    "def data_split(features, target):\n",
    "    features_train, features_valid, target_train, target_valid = train_test_split\\\n",
    "    (features, target, test_size=0.25, random_state=12345)\n",
    "    # выведем размеры для обучающей и валидационной выборок после разделения\n",
    "    print(features_train.shape)\n",
    "    print(target_train.shape)\n",
    "    print(features_valid.shape)\n",
    "    print(target_valid.shape)\n",
    "    # возвращаем данные для признаков и целевого признака для обучающей и валидационной выборок\n",
    "    return features_train, features_valid, target_train, target_valid"
   ]
  },
  {
   "cell_type": "code",
   "execution_count": 9,
   "metadata": {},
   "outputs": [
    {
     "name": "stdout",
     "output_type": "stream",
     "text": [
      "(75000, 3)\n",
      "(75000,)\n",
      "(25000, 3)\n",
      "(25000,)\n"
     ]
    }
   ],
   "source": [
    "# разделим данные для 0 региона\n",
    "features_train_0, features_valid_0, target_train_0, target_valid_0 = data_split(features_0, target_0)"
   ]
  },
  {
   "cell_type": "code",
   "execution_count": 10,
   "metadata": {},
   "outputs": [
    {
     "name": "stdout",
     "output_type": "stream",
     "text": [
      "(75000, 3)\n",
      "(75000,)\n",
      "(25000, 3)\n",
      "(25000,)\n"
     ]
    }
   ],
   "source": [
    "# разделим данные для 1 региона\n",
    "features_train_1, features_valid_1, target_train_1, target_valid_1 = data_split(features_1, target_1)"
   ]
  },
  {
   "cell_type": "code",
   "execution_count": 11,
   "metadata": {},
   "outputs": [
    {
     "name": "stdout",
     "output_type": "stream",
     "text": [
      "(75000, 3)\n",
      "(75000,)\n",
      "(25000, 3)\n",
      "(25000,)\n"
     ]
    }
   ],
   "source": [
    "# разделим данные для 2 региона\n",
    "features_train_2, features_valid_2, target_train_2, target_valid_2 = data_split(features_2, target_2)"
   ]
  },
  {
   "cell_type": "markdown",
   "metadata": {},
   "source": [
    "Для каждого региона обучим модель линейной регрессии и проверим предсказания на валидационной выборке. В модели линейной регрессии укажем агрумент normalize=True для нормализации численных признаков."
   ]
  },
  {
   "cell_type": "code",
   "execution_count": 12,
   "metadata": {},
   "outputs": [],
   "source": [
    "def model_predict(features_train, target_train, features_valid, target_valid):\n",
    "    model = LinearRegression(normalize=True)\n",
    "    model.fit(features_train, target_train)\n",
    "    predict_valid = model.predict(features_valid)\n",
    "    product_pred_mean = predict_valid.mean()\n",
    "    print('Средний запас предсказанного сырья', product_pred_mean)\n",
    "    mse = mean_squared_error(target_valid, predict_valid)\n",
    "    \n",
    "    # проверим качество модели с помощью коэффициента детерминации\n",
    "    print('RMSE модели =', mse**0.5)\n",
    "    print(\"R2 =\", r2_score(target_valid, predict_valid))\n",
    "    return predict_valid"
   ]
  },
  {
   "cell_type": "markdown",
   "metadata": {},
   "source": [
    "Сохраним предсказания модели линейной регрессии на валидационной выборке в переменных predict_valid_x, где x - индекс региона разведки."
   ]
  },
  {
   "cell_type": "code",
   "execution_count": 13,
   "metadata": {},
   "outputs": [
    {
     "name": "stdout",
     "output_type": "stream",
     "text": [
      "Средний запас предсказанного сырья 92.59256778438035\n",
      "RMSE модели = 37.5794217150813\n",
      "R2 = 0.27994321524487786\n"
     ]
    }
   ],
   "source": [
    "predict_valid_0 = model_predict(features_train_0, target_train_0, features_valid_0, target_valid_0)"
   ]
  },
  {
   "cell_type": "code",
   "execution_count": 14,
   "metadata": {},
   "outputs": [
    {
     "name": "stdout",
     "output_type": "stream",
     "text": [
      "Средний запас предсказанного сырья 68.72854689544602\n",
      "RMSE модели = 0.8930992867756158\n",
      "R2 = 0.9996233978805127\n"
     ]
    }
   ],
   "source": [
    "predict_valid_1 = model_predict(features_train_1, target_train_1, features_valid_1, target_valid_1)"
   ]
  },
  {
   "cell_type": "code",
   "execution_count": 15,
   "metadata": {},
   "outputs": [
    {
     "name": "stdout",
     "output_type": "stream",
     "text": [
      "Средний запас предсказанного сырья 94.96504596800489\n",
      "RMSE модели = 40.02970873393434\n",
      "R2 = 0.20524758386040443\n"
     ]
    }
   ],
   "source": [
    "predict_valid_2 = model_predict(features_train_2, target_train_2, features_valid_2, target_valid_2)"
   ]
  },
  {
   "cell_type": "markdown",
   "metadata": {},
   "source": [
    "### Вывод:\n",
    "Средний запас предсказанного сырья с помощью модели линейной регрессии в регионах 0, 1, 2 составляет: 92.6, 68.7, 95.0 тыс.баррелей, соответственно. С наилучшим качеством предсказаний используемая модель работает для 1 региона; RMSE модели составляет 0.89, коэффициент детерминации R2 = ~1. Для остальных регионов качество модели хуже, однако метрика R2 положительная и составлет 0.2 и 0.3 для 2 и 0 региона, соответственно."
   ]
  },
  {
   "cell_type": "markdown",
   "metadata": {},
   "source": [
    "# 3. Подготовка к расчёту прибыли"
   ]
  },
  {
   "cell_type": "raw",
   "metadata": {},
   "source": [
    "Сохраним в отдельных переменных ключевые значения для расчётов прибыли: количество исследуемых точек (total_wells), количество перспективных скважин для разработки (advanced_wells), бюджет на разработку скважин в регионе (region_budget) и доход с каждой единицы продукта (barrel_value)."
   ]
  },
  {
   "cell_type": "code",
   "execution_count": 16,
   "metadata": {},
   "outputs": [],
   "source": [
    "total_wells = 500\n",
    "advanced_wells = 200\n",
    "region_budget = 10**10\n",
    "barrel_value = 450000"
   ]
  },
  {
   "cell_type": "markdown",
   "metadata": {},
   "source": [
    "Рассчитайте достаточный объём сырья для безубыточной разработки новой скважины (breakeven_product). Для этого разделим бюджет на разработку скважин в регионе на количество скважин для разработки и на доход с каждой единицы продукта."
   ]
  },
  {
   "cell_type": "code",
   "execution_count": 17,
   "metadata": {},
   "outputs": [
    {
     "name": "stdout",
     "output_type": "stream",
     "text": [
      "Достаточный объём сырья для безубыточной разработки скважины составляет: 111.1 тыс.баррелей\n"
     ]
    }
   ],
   "source": [
    "breakeven_product = region_budget / advanced_wells / barrel_value\n",
    "print('Достаточный объём сырья для безубыточной разработки скважины составляет: {:.1f} тыс.баррелей'.\\\n",
    "      format(breakeven_product))"
   ]
  },
  {
   "cell_type": "markdown",
   "metadata": {},
   "source": [
    "### Вывод:\n",
    "Видно, что средний запас предсказанного сырья в каждом регионе ниже объема для безубыточной разработки. На следующем этапе с помощью машинного обучения необходимо выбрать 200 точек с самыми высокими оценками значений предсказанного для разработки."
   ]
  },
  {
   "cell_type": "markdown",
   "metadata": {},
   "source": [
    "# 4. Расчёт прибыли и рисков "
   ]
  },
  {
   "cell_type": "markdown",
   "metadata": {},
   "source": [
    "Создадим функцию для расчёта прибыли по выбранным скважинам и предсказаниям модели для каждого региона разведки."
   ]
  },
  {
   "cell_type": "code",
   "execution_count": 18,
   "metadata": {},
   "outputs": [],
   "source": [
    "def calc_revenue(target, predict):\n",
    "    predict_sorted = predict.sort_values(ascending=False)\n",
    "    selected = target[predict_sorted.index][:advanced_wells]\n",
    "    product_sum = selected.sum()\n",
    "    return product_sum * barrel_value - region_budget"
   ]
  },
  {
   "cell_type": "markdown",
   "metadata": {},
   "source": [
    "Применим технику Bootstrap с 1000 выборок, чтобы найти распределение прибыли. Рассчитаем среднюю прибыль, 95%-й доверительный интервал и риск убытков для каждого региона. "
   ]
  },
  {
   "cell_type": "code",
   "execution_count": 19,
   "metadata": {},
   "outputs": [],
   "source": [
    "state = np.random.RandomState(12345)\n",
    "\n",
    "def revenue_bootstrap(target, predict):\n",
    "    predict = pd.Series(predict, index = target.index)\n",
    "    values = []\n",
    "    for i in range(1000):\n",
    "        predict_subsample = predict.sample(n=total_wells, replace=True, random_state=state)\n",
    "        target_subsample = target[predict_subsample.index]\n",
    "    \n",
    "        values.append(calc_revenue(target_subsample, predict_subsample))\n",
    "    \n",
    "    values = pd.Series(values)\n",
    "    mean = values.mean() / 10**6\n",
    "    lower = values.quantile(0.025) / 10**6\n",
    "    upper = values.quantile(0.975) / 10**6\n",
    "    \n",
    "    print('Возможная средняя прибыль при разработке скважин в регионе составляет {:.2f} млн.руб.'.format(mean))\n",
    "    print('95%-ый доверительный интервал возможной прибыли: ({:.2f} - {:.2f}) млн.руб.'.format(lower, upper))\n",
    "    \n",
    "    \n",
    "    # рассчитаем риски убытков\n",
    "    values_loss = values[values<=0].count()\n",
    "    \n",
    "    loss_probability = values_loss/len(values)\n",
    "    \n",
    "    print('Возможный риск убытков при разработке скважин в регионе составляет {:.1%}'.\\\n",
    "          format(loss_probability))"
   ]
  },
  {
   "cell_type": "code",
   "execution_count": 20,
   "metadata": {},
   "outputs": [
    {
     "name": "stdout",
     "output_type": "stream",
     "text": [
      "Возможная средняя прибыль при разработке скважин в регионе составляет 425.94 млн.руб.\n",
      "95%-ый доверительный интервал возможной прибыли: (-102.09 - 947.98) млн.руб.\n",
      "Возможный риск убытков при разработке скважин в регионе составляет 6.0%\n"
     ]
    }
   ],
   "source": [
    "# выведем показатели для 0 региона\n",
    "revenue_bootstrap(target_valid_0, predict_valid_0)"
   ]
  },
  {
   "cell_type": "code",
   "execution_count": 21,
   "metadata": {},
   "outputs": [
    {
     "name": "stdout",
     "output_type": "stream",
     "text": [
      "Возможная средняя прибыль при разработке скважин в регионе составляет 518.26 млн.руб.\n",
      "95%-ый доверительный интервал возможной прибыли: (128.12 - 953.61) млн.руб.\n",
      "Возможный риск убытков при разработке скважин в регионе составляет 0.3%\n"
     ]
    }
   ],
   "source": [
    "# выведем показатели для 1 региона\n",
    "revenue_bootstrap(target_valid_1, predict_valid_1)"
   ]
  },
  {
   "cell_type": "code",
   "execution_count": 22,
   "metadata": {},
   "outputs": [
    {
     "name": "stdout",
     "output_type": "stream",
     "text": [
      "Возможная средняя прибыль при разработке скважин в регионе составляет 420.19 млн.руб.\n",
      "95%-ый доверительный интервал возможной прибыли: (-115.85 - 989.63) млн.руб.\n",
      "Возможный риск убытков при разработке скважин в регионе составляет 6.2%\n"
     ]
    }
   ],
   "source": [
    "# выведем показатели для 2 региона\n",
    "revenue_bootstrap(target_valid_2, predict_valid_2)"
   ]
  },
  {
   "cell_type": "markdown",
   "metadata": {},
   "source": [
    "### Вывод:\n",
    "На основе предсказаний машинного обучения можно сделать предположение, что наиболее перспективным регионом для разработки скважин является регион с данными геологоразведки geo_data_1. По сравнению с другими регионами для него характерна наибольшаяя возможная средняя прибыль (~ 518 млн.руб.) и наиболее ниpкий риск убытков (~ 0.3%). Для остальных регионов показатели возможной средней прибыли и риска убытков при разработке примерно равны и составляют ~420-425 млн.руб. и ~6%, соответственно."
   ]
  }
 ],
 "metadata": {
  "kernelspec": {
   "display_name": "Python 3",
   "language": "python",
   "name": "python3"
  },
  "language_info": {
   "codemirror_mode": {
    "name": "ipython",
    "version": 3
   },
   "file_extension": ".py",
   "mimetype": "text/x-python",
   "name": "python",
   "nbconvert_exporter": "python",
   "pygments_lexer": "ipython3",
   "version": "3.7.4"
  },
  "toc": {
   "base_numbering": 1,
   "nav_menu": {},
   "number_sections": true,
   "sideBar": true,
   "skip_h1_title": true,
   "title_cell": "Table of Contents",
   "title_sidebar": "Contents",
   "toc_cell": false,
   "toc_position": {},
   "toc_section_display": true,
   "toc_window_display": false
  }
 },
 "nbformat": 4,
 "nbformat_minor": 2
}
