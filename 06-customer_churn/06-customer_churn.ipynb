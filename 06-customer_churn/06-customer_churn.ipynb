{
 "cells": [
  {
   "cell_type": "markdown",
   "metadata": {},
   "source": [
    "###### Для достижения поставленной цели разделим данное исследование на несколько частей.\n",
    "#### 1. Подготовка данных\n",
    "- [1.1. Изучение общей информации](#section1.1)\n",
    "- [1.2. Подготовка данных для машинного обучения](#section1.2)\n",
    "\n",
    "#### 2. Исследование задачи\n",
    "- [2.1. Accuracy моделей без учета дисбаланса классов](#section2.1)\n",
    "- [2.2. Матрица ошибок. Метрики точности, полноты и F1-меры моделей без учета дисбаланса классов](#section2.2)\n",
    "#### 3. Борьба с дисбалансом\n",
    "- [3.1. Взвешивание классов](#section3.1)\n",
    "- [3.2. Увеличение выборки](#section3.2)\n",
    "- [3.3. Уменьшение выборки](#section3.3)\n",
    "\n",
    "#### 4. Тестирование модели"
   ]
  },
  {
   "cell_type": "markdown",
   "metadata": {},
   "source": [
    "# 1. Подготовка данных"
   ]
  },
  {
   "cell_type": "markdown",
   "metadata": {},
   "source": [
    "<a id='section1.1'></a>\n",
    "### 1.1. Изучение общей информации"
   ]
  },
  {
   "cell_type": "markdown",
   "metadata": {},
   "source": [
    "Импортируем необходимые библиотеки, функции и структуры данных."
   ]
  },
  {
   "cell_type": "code",
   "execution_count": 1,
   "metadata": {},
   "outputs": [],
   "source": [
    "import pandas as pd\n",
    "import numpy as np\n",
    "from IPython.display import display\n",
    "import matplotlib.pyplot as plt\n",
    "from sklearn.model_selection import train_test_split\n",
    "from sklearn.preprocessing import StandardScaler\n",
    "\n",
    "from sklearn.tree import DecisionTreeClassifier\n",
    "from sklearn.ensemble import RandomForestClassifier\n",
    "from sklearn.linear_model import LogisticRegression\n",
    "\n",
    "from sklearn.metrics import accuracy_score\n",
    "from sklearn.metrics import confusion_matrix\n",
    "from sklearn.metrics import recall_score\n",
    "from sklearn.metrics import precision_score\n",
    "from sklearn.metrics import f1_score\n",
    "from sklearn.metrics import roc_auc_score\n",
    "from sklearn.metrics import roc_curve\n",
    "\n",
    "from sklearn.utils import shuffle"
   ]
  },
  {
   "cell_type": "markdown",
   "metadata": {},
   "source": [
    "Сохраним датасет в переменной data_churn. Выведем первые 5 строк массива данных."
   ]
  },
  {
   "cell_type": "code",
   "execution_count": 2,
   "metadata": {},
   "outputs": [
    {
     "data": {
      "text/html": [
       "<div>\n",
       "<style scoped>\n",
       "    .dataframe tbody tr th:only-of-type {\n",
       "        vertical-align: middle;\n",
       "    }\n",
       "\n",
       "    .dataframe tbody tr th {\n",
       "        vertical-align: top;\n",
       "    }\n",
       "\n",
       "    .dataframe thead th {\n",
       "        text-align: right;\n",
       "    }\n",
       "</style>\n",
       "<table border=\"1\" class=\"dataframe\">\n",
       "  <thead>\n",
       "    <tr style=\"text-align: right;\">\n",
       "      <th></th>\n",
       "      <th>RowNumber</th>\n",
       "      <th>CustomerId</th>\n",
       "      <th>Surname</th>\n",
       "      <th>CreditScore</th>\n",
       "      <th>Geography</th>\n",
       "      <th>Gender</th>\n",
       "      <th>Age</th>\n",
       "      <th>Tenure</th>\n",
       "      <th>Balance</th>\n",
       "      <th>NumOfProducts</th>\n",
       "      <th>HasCrCard</th>\n",
       "      <th>IsActiveMember</th>\n",
       "      <th>EstimatedSalary</th>\n",
       "      <th>Exited</th>\n",
       "    </tr>\n",
       "  </thead>\n",
       "  <tbody>\n",
       "    <tr>\n",
       "      <td>0</td>\n",
       "      <td>1</td>\n",
       "      <td>15634602</td>\n",
       "      <td>Hargrave</td>\n",
       "      <td>619</td>\n",
       "      <td>France</td>\n",
       "      <td>Female</td>\n",
       "      <td>42</td>\n",
       "      <td>2.0</td>\n",
       "      <td>0.00</td>\n",
       "      <td>1</td>\n",
       "      <td>1</td>\n",
       "      <td>1</td>\n",
       "      <td>101348.88</td>\n",
       "      <td>1</td>\n",
       "    </tr>\n",
       "    <tr>\n",
       "      <td>1</td>\n",
       "      <td>2</td>\n",
       "      <td>15647311</td>\n",
       "      <td>Hill</td>\n",
       "      <td>608</td>\n",
       "      <td>Spain</td>\n",
       "      <td>Female</td>\n",
       "      <td>41</td>\n",
       "      <td>1.0</td>\n",
       "      <td>83807.86</td>\n",
       "      <td>1</td>\n",
       "      <td>0</td>\n",
       "      <td>1</td>\n",
       "      <td>112542.58</td>\n",
       "      <td>0</td>\n",
       "    </tr>\n",
       "    <tr>\n",
       "      <td>2</td>\n",
       "      <td>3</td>\n",
       "      <td>15619304</td>\n",
       "      <td>Onio</td>\n",
       "      <td>502</td>\n",
       "      <td>France</td>\n",
       "      <td>Female</td>\n",
       "      <td>42</td>\n",
       "      <td>8.0</td>\n",
       "      <td>159660.80</td>\n",
       "      <td>3</td>\n",
       "      <td>1</td>\n",
       "      <td>0</td>\n",
       "      <td>113931.57</td>\n",
       "      <td>1</td>\n",
       "    </tr>\n",
       "    <tr>\n",
       "      <td>3</td>\n",
       "      <td>4</td>\n",
       "      <td>15701354</td>\n",
       "      <td>Boni</td>\n",
       "      <td>699</td>\n",
       "      <td>France</td>\n",
       "      <td>Female</td>\n",
       "      <td>39</td>\n",
       "      <td>1.0</td>\n",
       "      <td>0.00</td>\n",
       "      <td>2</td>\n",
       "      <td>0</td>\n",
       "      <td>0</td>\n",
       "      <td>93826.63</td>\n",
       "      <td>0</td>\n",
       "    </tr>\n",
       "    <tr>\n",
       "      <td>4</td>\n",
       "      <td>5</td>\n",
       "      <td>15737888</td>\n",
       "      <td>Mitchell</td>\n",
       "      <td>850</td>\n",
       "      <td>Spain</td>\n",
       "      <td>Female</td>\n",
       "      <td>43</td>\n",
       "      <td>2.0</td>\n",
       "      <td>125510.82</td>\n",
       "      <td>1</td>\n",
       "      <td>1</td>\n",
       "      <td>1</td>\n",
       "      <td>79084.10</td>\n",
       "      <td>0</td>\n",
       "    </tr>\n",
       "  </tbody>\n",
       "</table>\n",
       "</div>"
      ],
      "text/plain": [
       "   RowNumber  CustomerId   Surname  CreditScore Geography  Gender  Age  \\\n",
       "0          1    15634602  Hargrave          619    France  Female   42   \n",
       "1          2    15647311      Hill          608     Spain  Female   41   \n",
       "2          3    15619304      Onio          502    France  Female   42   \n",
       "3          4    15701354      Boni          699    France  Female   39   \n",
       "4          5    15737888  Mitchell          850     Spain  Female   43   \n",
       "\n",
       "   Tenure    Balance  NumOfProducts  HasCrCard  IsActiveMember  \\\n",
       "0     2.0       0.00              1          1               1   \n",
       "1     1.0   83807.86              1          0               1   \n",
       "2     8.0  159660.80              3          1               0   \n",
       "3     1.0       0.00              2          0               0   \n",
       "4     2.0  125510.82              1          1               1   \n",
       "\n",
       "   EstimatedSalary  Exited  \n",
       "0        101348.88       1  \n",
       "1        112542.58       0  \n",
       "2        113931.57       1  \n",
       "3         93826.63       0  \n",
       "4         79084.10       0  "
      ]
     },
     "metadata": {},
     "output_type": "display_data"
    }
   ],
   "source": [
    "data_churn = pd.read_csv('/datasets/Churn.csv')\n",
    "display(data_churn.head())"
   ]
  },
  {
   "cell_type": "code",
   "execution_count": 3,
   "metadata": {},
   "outputs": [
    {
     "name": "stdout",
     "output_type": "stream",
     "text": [
      "<class 'pandas.core.frame.DataFrame'>\n",
      "RangeIndex: 10000 entries, 0 to 9999\n",
      "Data columns (total 14 columns):\n",
      "RowNumber          10000 non-null int64\n",
      "CustomerId         10000 non-null int64\n",
      "Surname            10000 non-null object\n",
      "CreditScore        10000 non-null int64\n",
      "Geography          10000 non-null object\n",
      "Gender             10000 non-null object\n",
      "Age                10000 non-null int64\n",
      "Tenure             9091 non-null float64\n",
      "Balance            10000 non-null float64\n",
      "NumOfProducts      10000 non-null int64\n",
      "HasCrCard          10000 non-null int64\n",
      "IsActiveMember     10000 non-null int64\n",
      "EstimatedSalary    10000 non-null float64\n",
      "Exited             10000 non-null int64\n",
      "dtypes: float64(3), int64(8), object(3)\n",
      "memory usage: 1.1+ MB\n"
     ]
    },
    {
     "data": {
      "text/plain": [
       "None"
      ]
     },
     "metadata": {},
     "output_type": "display_data"
    }
   ],
   "source": [
    "display(data_churn.info())"
   ]
  },
  {
   "cell_type": "markdown",
   "metadata": {},
   "source": [
    "### Вывод\n",
    "В предоставленном наборе данных имеется информация о 10000 объектах, которые характеризуются 13 признаками:\n",
    "- RowNumber — индекс строки в данных\n",
    "- CustomerId — уникальный идентификатор клиента\n",
    "- Surname — фамилия\n",
    "- CreditScore — кредитный рейтинг\n",
    "- Geography — страна проживания\n",
    "- Gender — пол\n",
    "- Age — возраст\n",
    "- Tenure — количество недвижимости у клиента\n",
    "- Balance — баланс на счёте\n",
    "- NumOfProducts — количество продуктов банка, используемых клиентом\n",
    "- HasCrCard — наличие кредитной карты\n",
    "- IsActiveMember — активность клиента\n",
    "- EstimatedSalary — предполагаемая зарплата\n",
    "\n",
    "Целевым признаком является — Exited — факт ухода клиента.\n",
    "\n",
    "Требуется обработка признаков и подготовка данных к обучению:\n",
    "1. Обработка столбцов с идентификацией клиента банка;\n",
    "2. Выполнить преобразование данных с категориальными признаками - geography (страна проживания), gender (пол клиента);\n",
    "3. Обработка пропущенных данных в столбце \"tenure\" - количество недвижимости у клиента;\n",
    "4. Разделить входные данные на обучающую, валидационную и тестовую выборки;\n",
    "5. Провести масштабирование количественных признаков."
   ]
  },
  {
   "cell_type": "markdown",
   "metadata": {},
   "source": [
    "<a id='section1.2'></a>\n",
    "### 1.2. Подготовка данных для машинного обучения"
   ]
  },
  {
   "cell_type": "markdown",
   "metadata": {},
   "source": [
    "Для идентификации клиента банка достаточно информации CustomerId — уникальный идентификатор клиента. Удалим столбцы с индексом строки в данных (RowNumber) и фамилией клиента (Surname)."
   ]
  },
  {
   "cell_type": "code",
   "execution_count": 4,
   "metadata": {},
   "outputs": [],
   "source": [
    "data = data_churn.drop(['RowNumber', 'Surname'], axis=1)"
   ]
  },
  {
   "cell_type": "markdown",
   "metadata": {},
   "source": [
    "Приведем названия столбцов к нижнему регистру. Методом info() просмотрим информацию о типах данных и проверим, требуется ли предобработка данных о клиентах банка."
   ]
  },
  {
   "cell_type": "code",
   "execution_count": 5,
   "metadata": {},
   "outputs": [
    {
     "name": "stdout",
     "output_type": "stream",
     "text": [
      "<class 'pandas.core.frame.DataFrame'>\n",
      "RangeIndex: 10000 entries, 0 to 9999\n",
      "Data columns (total 12 columns):\n",
      "customer_id         10000 non-null int64\n",
      "credit_score        10000 non-null int64\n",
      "geography           10000 non-null object\n",
      "gender              10000 non-null object\n",
      "age                 10000 non-null int64\n",
      "tenure              9091 non-null float64\n",
      "balance             10000 non-null float64\n",
      "num_of_products     10000 non-null int64\n",
      "has_cr_card         10000 non-null int64\n",
      "is_active_member    10000 non-null int64\n",
      "estimated_salary    10000 non-null float64\n",
      "exited              10000 non-null int64\n",
      "dtypes: float64(3), int64(7), object(2)\n",
      "memory usage: 937.6+ KB\n"
     ]
    },
    {
     "data": {
      "text/plain": [
       "None"
      ]
     },
     "metadata": {},
     "output_type": "display_data"
    }
   ],
   "source": [
    "data.columns=['customer_id', 'credit_score', 'geography', 'gender','age', 'tenure', 'balance',\\\n",
    "              'num_of_products', 'has_cr_card', 'is_active_member', 'estimated_salary', 'exited']\n",
    "\n",
    "display(data.info())"
   ]
  },
  {
   "cell_type": "markdown",
   "metadata": {},
   "source": [
    "Имеются пропущенные данные в столбце \"tenure\" - количество недвижимости у клиента. Предположим, что если в данных не указано количество объектов недвижимости, значит они отсутствуют. Заполним пропуски нулями и приведем тип данных к целочисленному. При заполнении пропусков медианным и средним арифметическим значениями, значение F1-меры на тестовой выборке после учета дисбаланса классов было ниже, по сравнению с заполнением отсутствующих данных нулями."
   ]
  },
  {
   "cell_type": "code",
   "execution_count": 6,
   "metadata": {
    "scrolled": true
   },
   "outputs": [
    {
     "data": {
      "text/html": [
       "<div>\n",
       "<style scoped>\n",
       "    .dataframe tbody tr th:only-of-type {\n",
       "        vertical-align: middle;\n",
       "    }\n",
       "\n",
       "    .dataframe tbody tr th {\n",
       "        vertical-align: top;\n",
       "    }\n",
       "\n",
       "    .dataframe thead th {\n",
       "        text-align: right;\n",
       "    }\n",
       "</style>\n",
       "<table border=\"1\" class=\"dataframe\">\n",
       "  <thead>\n",
       "    <tr style=\"text-align: right;\">\n",
       "      <th></th>\n",
       "      <th>customer_id</th>\n",
       "      <th>credit_score</th>\n",
       "      <th>geography</th>\n",
       "      <th>gender</th>\n",
       "      <th>age</th>\n",
       "      <th>tenure</th>\n",
       "      <th>balance</th>\n",
       "      <th>num_of_products</th>\n",
       "      <th>has_cr_card</th>\n",
       "      <th>is_active_member</th>\n",
       "      <th>estimated_salary</th>\n",
       "      <th>exited</th>\n",
       "    </tr>\n",
       "  </thead>\n",
       "  <tbody>\n",
       "    <tr>\n",
       "      <td>30</td>\n",
       "      <td>15589475</td>\n",
       "      <td>591</td>\n",
       "      <td>Spain</td>\n",
       "      <td>Female</td>\n",
       "      <td>39</td>\n",
       "      <td>NaN</td>\n",
       "      <td>0.00</td>\n",
       "      <td>3</td>\n",
       "      <td>1</td>\n",
       "      <td>0</td>\n",
       "      <td>140469.38</td>\n",
       "      <td>1</td>\n",
       "    </tr>\n",
       "    <tr>\n",
       "      <td>48</td>\n",
       "      <td>15766205</td>\n",
       "      <td>550</td>\n",
       "      <td>Germany</td>\n",
       "      <td>Male</td>\n",
       "      <td>38</td>\n",
       "      <td>NaN</td>\n",
       "      <td>103391.38</td>\n",
       "      <td>1</td>\n",
       "      <td>0</td>\n",
       "      <td>1</td>\n",
       "      <td>90878.13</td>\n",
       "      <td>0</td>\n",
       "    </tr>\n",
       "    <tr>\n",
       "      <td>51</td>\n",
       "      <td>15768193</td>\n",
       "      <td>585</td>\n",
       "      <td>Germany</td>\n",
       "      <td>Male</td>\n",
       "      <td>36</td>\n",
       "      <td>NaN</td>\n",
       "      <td>146050.97</td>\n",
       "      <td>2</td>\n",
       "      <td>0</td>\n",
       "      <td>0</td>\n",
       "      <td>86424.57</td>\n",
       "      <td>0</td>\n",
       "    </tr>\n",
       "    <tr>\n",
       "      <td>53</td>\n",
       "      <td>15702298</td>\n",
       "      <td>655</td>\n",
       "      <td>Germany</td>\n",
       "      <td>Male</td>\n",
       "      <td>41</td>\n",
       "      <td>NaN</td>\n",
       "      <td>125561.97</td>\n",
       "      <td>1</td>\n",
       "      <td>0</td>\n",
       "      <td>0</td>\n",
       "      <td>164040.94</td>\n",
       "      <td>1</td>\n",
       "    </tr>\n",
       "    <tr>\n",
       "      <td>60</td>\n",
       "      <td>15651280</td>\n",
       "      <td>742</td>\n",
       "      <td>Germany</td>\n",
       "      <td>Male</td>\n",
       "      <td>35</td>\n",
       "      <td>NaN</td>\n",
       "      <td>136857.00</td>\n",
       "      <td>1</td>\n",
       "      <td>0</td>\n",
       "      <td>0</td>\n",
       "      <td>84509.57</td>\n",
       "      <td>0</td>\n",
       "    </tr>\n",
       "  </tbody>\n",
       "</table>\n",
       "</div>"
      ],
      "text/plain": [
       "    customer_id  credit_score geography  gender  age  tenure    balance  \\\n",
       "30     15589475           591     Spain  Female   39     NaN       0.00   \n",
       "48     15766205           550   Germany    Male   38     NaN  103391.38   \n",
       "51     15768193           585   Germany    Male   36     NaN  146050.97   \n",
       "53     15702298           655   Germany    Male   41     NaN  125561.97   \n",
       "60     15651280           742   Germany    Male   35     NaN  136857.00   \n",
       "\n",
       "    num_of_products  has_cr_card  is_active_member  estimated_salary  exited  \n",
       "30                3            1                 0         140469.38       1  \n",
       "48                1            0                 1          90878.13       0  \n",
       "51                2            0                 0          86424.57       0  \n",
       "53                1            0                 0         164040.94       1  \n",
       "60                1            0                 0          84509.57       0  "
      ]
     },
     "metadata": {},
     "output_type": "display_data"
    },
    {
     "name": "stdout",
     "output_type": "stream",
     "text": [
      "<class 'pandas.core.frame.DataFrame'>\n",
      "RangeIndex: 10000 entries, 0 to 9999\n",
      "Data columns (total 12 columns):\n",
      "customer_id         10000 non-null int64\n",
      "credit_score        10000 non-null int64\n",
      "geography           10000 non-null object\n",
      "gender              10000 non-null object\n",
      "age                 10000 non-null int64\n",
      "tenure              10000 non-null int64\n",
      "balance             10000 non-null float64\n",
      "num_of_products     10000 non-null int64\n",
      "has_cr_card         10000 non-null int64\n",
      "is_active_member    10000 non-null int64\n",
      "estimated_salary    10000 non-null float64\n",
      "exited              10000 non-null int64\n",
      "dtypes: float64(2), int64(8), object(2)\n",
      "memory usage: 937.6+ KB\n"
     ]
    },
    {
     "data": {
      "text/plain": [
       "None"
      ]
     },
     "metadata": {},
     "output_type": "display_data"
    }
   ],
   "source": [
    "display(data[data['tenure'].isna()].head())\n",
    "data['tenure'] = data['tenure'].fillna(0).astype('int')\n",
    "display(data.info())"
   ]
  },
  {
   "cell_type": "markdown",
   "metadata": {},
   "source": [
    "Проверим наличие дупликатов в данных."
   ]
  },
  {
   "cell_type": "code",
   "execution_count": 7,
   "metadata": {},
   "outputs": [
    {
     "name": "stdout",
     "output_type": "stream",
     "text": [
      "0\n"
     ]
    }
   ],
   "source": [
    "print(data['customer_id'].duplicated().sum())"
   ]
  },
  {
   "cell_type": "markdown",
   "metadata": {},
   "source": [
    "В данных имеются категориальные признаки: geography (страна проживания), gender (пол клиента). Для обучения модели приведем данные признаки к численным с помощью техники OHE с аргументом drop_first для удаления лишних столбцов."
   ]
  },
  {
   "cell_type": "code",
   "execution_count": 8,
   "metadata": {},
   "outputs": [
    {
     "data": {
      "text/plain": [
       "France     5014\n",
       "Germany    2509\n",
       "Spain      2477\n",
       "Name: geography, dtype: int64"
      ]
     },
     "metadata": {},
     "output_type": "display_data"
    }
   ],
   "source": [
    "# просмотрим уникальные значения в столбце \"страна проживания\" и их кол-во\n",
    "display(data['geography'].value_counts())"
   ]
  },
  {
   "cell_type": "code",
   "execution_count": 9,
   "metadata": {},
   "outputs": [
    {
     "data": {
      "text/html": [
       "<div>\n",
       "<style scoped>\n",
       "    .dataframe tbody tr th:only-of-type {\n",
       "        vertical-align: middle;\n",
       "    }\n",
       "\n",
       "    .dataframe tbody tr th {\n",
       "        vertical-align: top;\n",
       "    }\n",
       "\n",
       "    .dataframe thead th {\n",
       "        text-align: right;\n",
       "    }\n",
       "</style>\n",
       "<table border=\"1\" class=\"dataframe\">\n",
       "  <thead>\n",
       "    <tr style=\"text-align: right;\">\n",
       "      <th></th>\n",
       "      <th>customer_id</th>\n",
       "      <th>credit_score</th>\n",
       "      <th>age</th>\n",
       "      <th>tenure</th>\n",
       "      <th>balance</th>\n",
       "      <th>num_of_products</th>\n",
       "      <th>has_cr_card</th>\n",
       "      <th>is_active_member</th>\n",
       "      <th>estimated_salary</th>\n",
       "      <th>exited</th>\n",
       "      <th>geography_Germany</th>\n",
       "      <th>geography_Spain</th>\n",
       "      <th>gender_Male</th>\n",
       "    </tr>\n",
       "  </thead>\n",
       "  <tbody>\n",
       "    <tr>\n",
       "      <td>0</td>\n",
       "      <td>15634602</td>\n",
       "      <td>619</td>\n",
       "      <td>42</td>\n",
       "      <td>2</td>\n",
       "      <td>0.00</td>\n",
       "      <td>1</td>\n",
       "      <td>1</td>\n",
       "      <td>1</td>\n",
       "      <td>101348.88</td>\n",
       "      <td>1</td>\n",
       "      <td>0</td>\n",
       "      <td>0</td>\n",
       "      <td>0</td>\n",
       "    </tr>\n",
       "    <tr>\n",
       "      <td>1</td>\n",
       "      <td>15647311</td>\n",
       "      <td>608</td>\n",
       "      <td>41</td>\n",
       "      <td>1</td>\n",
       "      <td>83807.86</td>\n",
       "      <td>1</td>\n",
       "      <td>0</td>\n",
       "      <td>1</td>\n",
       "      <td>112542.58</td>\n",
       "      <td>0</td>\n",
       "      <td>0</td>\n",
       "      <td>1</td>\n",
       "      <td>0</td>\n",
       "    </tr>\n",
       "    <tr>\n",
       "      <td>2</td>\n",
       "      <td>15619304</td>\n",
       "      <td>502</td>\n",
       "      <td>42</td>\n",
       "      <td>8</td>\n",
       "      <td>159660.80</td>\n",
       "      <td>3</td>\n",
       "      <td>1</td>\n",
       "      <td>0</td>\n",
       "      <td>113931.57</td>\n",
       "      <td>1</td>\n",
       "      <td>0</td>\n",
       "      <td>0</td>\n",
       "      <td>0</td>\n",
       "    </tr>\n",
       "    <tr>\n",
       "      <td>3</td>\n",
       "      <td>15701354</td>\n",
       "      <td>699</td>\n",
       "      <td>39</td>\n",
       "      <td>1</td>\n",
       "      <td>0.00</td>\n",
       "      <td>2</td>\n",
       "      <td>0</td>\n",
       "      <td>0</td>\n",
       "      <td>93826.63</td>\n",
       "      <td>0</td>\n",
       "      <td>0</td>\n",
       "      <td>0</td>\n",
       "      <td>0</td>\n",
       "    </tr>\n",
       "    <tr>\n",
       "      <td>4</td>\n",
       "      <td>15737888</td>\n",
       "      <td>850</td>\n",
       "      <td>43</td>\n",
       "      <td>2</td>\n",
       "      <td>125510.82</td>\n",
       "      <td>1</td>\n",
       "      <td>1</td>\n",
       "      <td>1</td>\n",
       "      <td>79084.10</td>\n",
       "      <td>0</td>\n",
       "      <td>0</td>\n",
       "      <td>1</td>\n",
       "      <td>0</td>\n",
       "    </tr>\n",
       "  </tbody>\n",
       "</table>\n",
       "</div>"
      ],
      "text/plain": [
       "   customer_id  credit_score  age  tenure    balance  num_of_products  \\\n",
       "0     15634602           619   42       2       0.00                1   \n",
       "1     15647311           608   41       1   83807.86                1   \n",
       "2     15619304           502   42       8  159660.80                3   \n",
       "3     15701354           699   39       1       0.00                2   \n",
       "4     15737888           850   43       2  125510.82                1   \n",
       "\n",
       "   has_cr_card  is_active_member  estimated_salary  exited  geography_Germany  \\\n",
       "0            1                 1         101348.88       1                  0   \n",
       "1            0                 1         112542.58       0                  0   \n",
       "2            1                 0         113931.57       1                  0   \n",
       "3            0                 0          93826.63       0                  0   \n",
       "4            1                 1          79084.10       0                  0   \n",
       "\n",
       "   geography_Spain  gender_Male  \n",
       "0                0            0  \n",
       "1                1            0  \n",
       "2                0            0  \n",
       "3                0            0  \n",
       "4                1            0  "
      ]
     },
     "metadata": {},
     "output_type": "display_data"
    }
   ],
   "source": [
    "data_ohe = pd.get_dummies(data, drop_first=True)\n",
    "display(data_ohe.head())"
   ]
  },
  {
   "cell_type": "markdown",
   "metadata": {},
   "source": [
    "Создадим переменные для признаков и целевого признака (exited — факт ухода клиента) в данных."
   ]
  },
  {
   "cell_type": "code",
   "execution_count": 10,
   "metadata": {},
   "outputs": [],
   "source": [
    "target = data_ohe['exited']\n",
    "features = data_ohe.drop('exited', axis=1)"
   ]
  },
  {
   "cell_type": "markdown",
   "metadata": {},
   "source": [
    "Разделим входные данные на обучающую, валидационную и тестовую выборки в соотношении: 3/1/1."
   ]
  },
  {
   "cell_type": "code",
   "execution_count": 11,
   "metadata": {},
   "outputs": [],
   "source": [
    "# выделим обучающую выборку\n",
    "features_train, features_valid_test, target_train, target_valid_test =\\\n",
    "train_test_split(features, target, test_size=0.4, random_state=12345)\n",
    "\n",
    "# разделим оставшиееся данные на валидационную и тестовую выборки\n",
    "features_valid, features_test, target_valid, target_test = \\\n",
    "train_test_split(features_valid_test, target_valid_test, test_size=0.5, random_state=12345)"
   ]
  },
  {
   "cell_type": "markdown",
   "metadata": {},
   "source": [
    "Просмотрим размеры обучающей, валидационной и тестовой выборок после разделения"
   ]
  },
  {
   "cell_type": "code",
   "execution_count": 12,
   "metadata": {
    "scrolled": true
   },
   "outputs": [
    {
     "name": "stdout",
     "output_type": "stream",
     "text": [
      "(6000, 12)\n",
      "(6000,)\n",
      "(2000, 12)\n",
      "(2000,)\n",
      "(2000, 12)\n",
      "(2000,)\n"
     ]
    }
   ],
   "source": [
    "print(features_train.shape)\n",
    "print(target_train.shape)\n",
    "\n",
    "print(features_valid.shape)\n",
    "print(target_valid.shape)\n",
    "\n",
    "print(features_test.shape)\n",
    "print(target_test.shape)"
   ]
  },
  {
   "cell_type": "markdown",
   "metadata": {},
   "source": [
    "Проведем масштабирование численных признаков для обучающей, валидационной и тестовой выборок методом  стандартизации данных."
   ]
  },
  {
   "cell_type": "code",
   "execution_count": 13,
   "metadata": {
    "scrolled": false
   },
   "outputs": [
    {
     "name": "stderr",
     "output_type": "stream",
     "text": [
      "/opt/conda/lib/python3.7/site-packages/ipykernel_launcher.py:8: SettingWithCopyWarning: \n",
      "A value is trying to be set on a copy of a slice from a DataFrame.\n",
      "Try using .loc[row_indexer,col_indexer] = value instead\n",
      "\n",
      "See the caveats in the documentation: http://pandas.pydata.org/pandas-docs/stable/user_guide/indexing.html#returning-a-view-versus-a-copy\n",
      "  \n",
      "/opt/conda/lib/python3.7/site-packages/pandas/core/indexing.py:494: SettingWithCopyWarning: \n",
      "A value is trying to be set on a copy of a slice from a DataFrame.\n",
      "Try using .loc[row_indexer,col_indexer] = value instead\n",
      "\n",
      "See the caveats in the documentation: http://pandas.pydata.org/pandas-docs/stable/user_guide/indexing.html#returning-a-view-versus-a-copy\n",
      "  self.obj[item] = s\n",
      "/opt/conda/lib/python3.7/site-packages/ipykernel_launcher.py:9: SettingWithCopyWarning: \n",
      "A value is trying to be set on a copy of a slice from a DataFrame.\n",
      "Try using .loc[row_indexer,col_indexer] = value instead\n",
      "\n",
      "See the caveats in the documentation: http://pandas.pydata.org/pandas-docs/stable/user_guide/indexing.html#returning-a-view-versus-a-copy\n",
      "  if __name__ == '__main__':\n",
      "/opt/conda/lib/python3.7/site-packages/pandas/core/indexing.py:494: SettingWithCopyWarning: \n",
      "A value is trying to be set on a copy of a slice from a DataFrame.\n",
      "Try using .loc[row_indexer,col_indexer] = value instead\n",
      "\n",
      "See the caveats in the documentation: http://pandas.pydata.org/pandas-docs/stable/user_guide/indexing.html#returning-a-view-versus-a-copy\n",
      "  self.obj[item] = s\n",
      "/opt/conda/lib/python3.7/site-packages/ipykernel_launcher.py:10: SettingWithCopyWarning: \n",
      "A value is trying to be set on a copy of a slice from a DataFrame.\n",
      "Try using .loc[row_indexer,col_indexer] = value instead\n",
      "\n",
      "See the caveats in the documentation: http://pandas.pydata.org/pandas-docs/stable/user_guide/indexing.html#returning-a-view-versus-a-copy\n",
      "  # Remove the CWD from sys.path while we load stuff.\n",
      "/opt/conda/lib/python3.7/site-packages/pandas/core/indexing.py:494: SettingWithCopyWarning: \n",
      "A value is trying to be set on a copy of a slice from a DataFrame.\n",
      "Try using .loc[row_indexer,col_indexer] = value instead\n",
      "\n",
      "See the caveats in the documentation: http://pandas.pydata.org/pandas-docs/stable/user_guide/indexing.html#returning-a-view-versus-a-copy\n",
      "  self.obj[item] = s\n"
     ]
    },
    {
     "data": {
      "text/html": [
       "<div>\n",
       "<style scoped>\n",
       "    .dataframe tbody tr th:only-of-type {\n",
       "        vertical-align: middle;\n",
       "    }\n",
       "\n",
       "    .dataframe tbody tr th {\n",
       "        vertical-align: top;\n",
       "    }\n",
       "\n",
       "    .dataframe thead th {\n",
       "        text-align: right;\n",
       "    }\n",
       "</style>\n",
       "<table border=\"1\" class=\"dataframe\">\n",
       "  <thead>\n",
       "    <tr style=\"text-align: right;\">\n",
       "      <th></th>\n",
       "      <th>customer_id</th>\n",
       "      <th>credit_score</th>\n",
       "      <th>age</th>\n",
       "      <th>tenure</th>\n",
       "      <th>balance</th>\n",
       "      <th>num_of_products</th>\n",
       "      <th>has_cr_card</th>\n",
       "      <th>is_active_member</th>\n",
       "      <th>estimated_salary</th>\n",
       "      <th>geography_Germany</th>\n",
       "      <th>geography_Spain</th>\n",
       "      <th>gender_Male</th>\n",
       "    </tr>\n",
       "  </thead>\n",
       "  <tbody>\n",
       "    <tr>\n",
       "      <td>7479</td>\n",
       "      <td>15671987</td>\n",
       "      <td>-0.886751</td>\n",
       "      <td>-0.373192</td>\n",
       "      <td>1.104696</td>\n",
       "      <td>1.232271</td>\n",
       "      <td>-0.891560</td>\n",
       "      <td>1</td>\n",
       "      <td>0</td>\n",
       "      <td>-0.187705</td>\n",
       "      <td>0</td>\n",
       "      <td>1</td>\n",
       "      <td>1</td>\n",
       "    </tr>\n",
       "    <tr>\n",
       "      <td>3411</td>\n",
       "      <td>15815628</td>\n",
       "      <td>0.608663</td>\n",
       "      <td>-0.183385</td>\n",
       "      <td>1.104696</td>\n",
       "      <td>0.600563</td>\n",
       "      <td>-0.891560</td>\n",
       "      <td>0</td>\n",
       "      <td>0</td>\n",
       "      <td>-0.333945</td>\n",
       "      <td>0</td>\n",
       "      <td>0</td>\n",
       "      <td>0</td>\n",
       "    </tr>\n",
       "    <tr>\n",
       "      <td>6027</td>\n",
       "      <td>15799494</td>\n",
       "      <td>2.052152</td>\n",
       "      <td>0.480939</td>\n",
       "      <td>-0.503694</td>\n",
       "      <td>1.027098</td>\n",
       "      <td>0.830152</td>\n",
       "      <td>0</td>\n",
       "      <td>1</td>\n",
       "      <td>1.503095</td>\n",
       "      <td>1</td>\n",
       "      <td>0</td>\n",
       "      <td>1</td>\n",
       "    </tr>\n",
       "    <tr>\n",
       "      <td>1247</td>\n",
       "      <td>15711288</td>\n",
       "      <td>-1.457915</td>\n",
       "      <td>-1.417129</td>\n",
       "      <td>0.461340</td>\n",
       "      <td>-1.233163</td>\n",
       "      <td>0.830152</td>\n",
       "      <td>1</td>\n",
       "      <td>0</td>\n",
       "      <td>-1.071061</td>\n",
       "      <td>0</td>\n",
       "      <td>0</td>\n",
       "      <td>1</td>\n",
       "    </tr>\n",
       "    <tr>\n",
       "      <td>3716</td>\n",
       "      <td>15699492</td>\n",
       "      <td>0.130961</td>\n",
       "      <td>-1.132419</td>\n",
       "      <td>-0.825373</td>\n",
       "      <td>1.140475</td>\n",
       "      <td>-0.891560</td>\n",
       "      <td>0</td>\n",
       "      <td>0</td>\n",
       "      <td>1.524268</td>\n",
       "      <td>1</td>\n",
       "      <td>0</td>\n",
       "      <td>0</td>\n",
       "    </tr>\n",
       "  </tbody>\n",
       "</table>\n",
       "</div>"
      ],
      "text/plain": [
       "      customer_id  credit_score       age    tenure   balance  \\\n",
       "7479     15671987     -0.886751 -0.373192  1.104696  1.232271   \n",
       "3411     15815628      0.608663 -0.183385  1.104696  0.600563   \n",
       "6027     15799494      2.052152  0.480939 -0.503694  1.027098   \n",
       "1247     15711288     -1.457915 -1.417129  0.461340 -1.233163   \n",
       "3716     15699492      0.130961 -1.132419 -0.825373  1.140475   \n",
       "\n",
       "      num_of_products  has_cr_card  is_active_member  estimated_salary  \\\n",
       "7479        -0.891560            1                 0         -0.187705   \n",
       "3411        -0.891560            0                 0         -0.333945   \n",
       "6027         0.830152            0                 1          1.503095   \n",
       "1247         0.830152            1                 0         -1.071061   \n",
       "3716        -0.891560            0                 0          1.524268   \n",
       "\n",
       "      geography_Germany  geography_Spain  gender_Male  \n",
       "7479                  0                1            1  \n",
       "3411                  0                0            0  \n",
       "6027                  1                0            1  \n",
       "1247                  0                0            1  \n",
       "3716                  1                0            0  "
      ]
     },
     "metadata": {},
     "output_type": "display_data"
    }
   ],
   "source": [
    "# выделим численные признаки\n",
    "numeric = ['credit_score', 'age', 'tenure', 'balance', 'num_of_products', 'estimated_salary']\n",
    "\n",
    "#настроим структуру для стандартизации на обучающих данных.\n",
    "scaler = StandardScaler()\n",
    "scaler.fit(features_train[numeric])\n",
    "# преобразуем выборки функцией transform()\n",
    "features_train[numeric] = scaler.transform(features_train[numeric])\n",
    "features_valid[numeric] = scaler.transform(features_valid[numeric])\n",
    "features_test[numeric] = scaler.transform(features_test[numeric])\n",
    "\n",
    "# просмотрим данные после масштабирования\n",
    "display(features_train.head())"
   ]
  },
  {
   "cell_type": "markdown",
   "metadata": {},
   "source": [
    "### Вывод:\n",
    "Проведена обработка признаков и данные подготовлены к исследованию задачи прогнозирования оттока клиентов банка:\n",
    "1. Для идентификации клиента банка достаточно информации CustomerId — уникальный идентификатор клиента. Удалены столбцы с признаками - индекс строки в данных (RowNumber) и фамилия клиента (Surname).\n",
    "2. С помощью техники OHE преобразованы данные с категориальными признаками - geography (страна проживания), gender (пол клиента);\n",
    "3. Пропущенные данные в столбце \"tenure\" - количество недвижимости у клиента - заполнены нулями;\n",
    "4. Входные данные о клиентах банка разделены на обучающую, валидационную и тестовую выборки в соотношении 3/1/1;\n",
    "5. Проведено масштабирование численных признаков."
   ]
  },
  {
   "cell_type": "markdown",
   "metadata": {},
   "source": [
    "# 2. Исследование задачи"
   ]
  },
  {
   "cell_type": "markdown",
   "metadata": {},
   "source": [
    "<a id='section2.1'></a>\n",
    "### 2.1. Accuracy моделей без учета дисбаланса классов"
   ]
  },
  {
   "cell_type": "markdown",
   "metadata": {},
   "source": [
    "Рассмотрим 3 модели: решающее дерево, логистическая регрессия и случайный лес. Обучим каждую модель на тренировочной выборке, рассчитаем для каждой модели долю правильных ответов на валидационной выборке."
   ]
  },
  {
   "cell_type": "markdown",
   "metadata": {},
   "source": [
    "Создадим функцию model_accuracy для расчета доли правильных предсказаний модели."
   ]
  },
  {
   "cell_type": "code",
   "execution_count": 14,
   "metadata": {},
   "outputs": [],
   "source": [
    "def model_accuracy(model_select):\n",
    "    model = model_select\n",
    "    model.fit(features_train, target_train)\n",
    "\n",
    "    predicted_valid = model.predict(features_valid)\n",
    "    accuracy = accuracy_score(target_valid, predicted_valid)\n",
    "    \n",
    "    return accuracy"
   ]
  },
  {
   "cell_type": "code",
   "execution_count": 15,
   "metadata": {},
   "outputs": [
    {
     "name": "stdout",
     "output_type": "stream",
     "text": [
      "Доля правильных ответов в результатах предсказаний решающего дерева: 0.7885\n"
     ]
    }
   ],
   "source": [
    "print('Доля правильных ответов в результатах предсказаний решающего дерева:',\\\n",
    "      model_accuracy(DecisionTreeClassifier(random_state=12345)))"
   ]
  },
  {
   "cell_type": "code",
   "execution_count": 16,
   "metadata": {},
   "outputs": [
    {
     "name": "stdout",
     "output_type": "stream",
     "text": [
      "Доля правильных ответов в результатах предсказаний логистической регрессии: 0.791\n"
     ]
    }
   ],
   "source": [
    "print('Доля правильных ответов в результатах предсказаний логистической регрессии:',\\\n",
    "      model_accuracy(LogisticRegression(random_state=12345, solver='liblinear')))"
   ]
  },
  {
   "cell_type": "code",
   "execution_count": 17,
   "metadata": {},
   "outputs": [
    {
     "name": "stdout",
     "output_type": "stream",
     "text": [
      "Доля правильных ответов в результатах предсказаний случайного леса: 0.863\n"
     ]
    }
   ],
   "source": [
    "print('Доля правильных ответов в результатах предсказаний случайного леса:',\\\n",
    "      model_accuracy(RandomForestClassifier(random_state=12345, n_estimators=90, max_depth=10)))"
   ]
  },
  {
   "cell_type": "markdown",
   "metadata": {},
   "source": [
    "Проверим, как часто в целевом признаке встречается класс «1» или «0»."
   ]
  },
  {
   "cell_type": "code",
   "execution_count": 18,
   "metadata": {},
   "outputs": [
    {
     "name": "stdout",
     "output_type": "stream",
     "text": [
      "0    0.7963\n",
      "1    0.2037\n",
      "Name: exited, dtype: float64\n"
     ]
    }
   ],
   "source": [
    "class_frequency = target.value_counts(normalize=True)\n",
    "print(class_frequency)"
   ]
  },
  {
   "cell_type": "markdown",
   "metadata": {},
   "source": [
    "Проанализируем частоты классов в результатах предсказаний решающего дерева, логистической регрессии и случайного леса. Создадим функцию model_class_frequency для расчета данного показателя."
   ]
  },
  {
   "cell_type": "code",
   "execution_count": 19,
   "metadata": {},
   "outputs": [],
   "source": [
    "def model_class_frequency(model_select):\n",
    "    model = model_select\n",
    "    model.fit(features_train, target_train)\n",
    "\n",
    "    predicted_valid = pd.Series(model.predict(features_valid))\n",
    "    class_frequency = predicted_valid.value_counts(normalize=True)\n",
    "    \n",
    "    return class_frequency"
   ]
  },
  {
   "cell_type": "code",
   "execution_count": 20,
   "metadata": {},
   "outputs": [
    {
     "name": "stdout",
     "output_type": "stream",
     "text": [
      "Соотношение классов в результатах предсказаний решающего дерева:\n",
      "0    0.7985\n",
      "1    0.2015\n",
      "dtype: float64\n"
     ]
    }
   ],
   "source": [
    "print('Соотношение классов в результатах предсказаний решающего дерева:')\n",
    "print(model_class_frequency(DecisionTreeClassifier(random_state=12345)))"
   ]
  },
  {
   "cell_type": "code",
   "execution_count": 21,
   "metadata": {},
   "outputs": [
    {
     "name": "stdout",
     "output_type": "stream",
     "text": [
      "Соотношение классов в результатах предсказаний логистической регрессии:\n",
      "0    1.0\n",
      "dtype: float64\n"
     ]
    }
   ],
   "source": [
    "print('Соотношение классов в результатах предсказаний логистической регрессии:')\n",
    "print(model_class_frequency(LogisticRegression(random_state=12345, solver='liblinear')))"
   ]
  },
  {
   "cell_type": "code",
   "execution_count": 22,
   "metadata": {},
   "outputs": [
    {
     "name": "stdout",
     "output_type": "stream",
     "text": [
      "Соотношение классов в результатах предсказаний случайного леса:\n",
      "0    0.889\n",
      "1    0.111\n",
      "dtype: float64\n"
     ]
    }
   ],
   "source": [
    "print('Соотношение классов в результатах предсказаний случайного леса:')\n",
    "print(model_class_frequency(RandomForestClassifier(random_state=12345, n_estimators=90, max_depth=10)))"
   ]
  },
  {
   "cell_type": "markdown",
   "metadata": {},
   "source": [
    "Создадим константную модель, которая прогнозирует любому объекту класс «0»."
   ]
  },
  {
   "cell_type": "code",
   "execution_count": 23,
   "metadata": {},
   "outputs": [
    {
     "name": "stdout",
     "output_type": "stream",
     "text": [
      "Доля правильных ответов в результатах предсказаний константной модели: 0.791\n"
     ]
    }
   ],
   "source": [
    "target_pred_constant = pd.Series(0, index=target_valid.index)\n",
    "\n",
    "print('Доля правильных ответов в результатах предсказаний константной модели:', accuracy_score(target_valid, target_pred_constant))"
   ]
  },
  {
   "cell_type": "markdown",
   "metadata": {},
   "source": [
    "Accuracy решающего дерева, логистической регрессии и константной модели практически совпадают. Модель случайного леса показывает более высокую точность по сравнению с другими моделями. При этом модель логистической регрессии во всех случаях предсказывает \"0\". Проверку на адекватность рассматриваемые модели не прошли. В предоставленных данных наблюдается дисбаланс классов в соотношении **4:1**, что плохо сказывается на обучении модели."
   ]
  },
  {
   "cell_type": "markdown",
   "metadata": {},
   "source": [
    "<a id='section2.2'></a>\n",
    "### 2.2. Матрица ошибок. Метрики точности, полноты и F1-меры моделей без учета дисбаланса классов"
   ]
  },
  {
   "cell_type": "markdown",
   "metadata": {},
   "source": [
    "Представим для каждой модели матрицу ошибок предсказаний, а также результаты вычислений метрик точности, полноты и F1-меры. Создадим функцию model_metrics для расчета метрик рассматриваемых моделей."
   ]
  },
  {
   "cell_type": "code",
   "execution_count": 24,
   "metadata": {},
   "outputs": [],
   "source": [
    "def model_metrics(model_select):\n",
    "    model = model_select\n",
    "    model.fit(features_train, target_train)\n",
    "\n",
    "    predicted_valid = model.predict(features_valid)\n",
    "    probabilities_valid = model.predict_proba(features_valid)\n",
    "    probabilities_one_valid = probabilities_valid[:, 1]\n",
    "    \n",
    "    print('Матрица ошибок в результатах предсказаний модели: \\n', confusion_matrix(target_valid, predicted_valid))\n",
    "    print('Полнота:', recall_score(target_valid, predicted_valid))\n",
    "    print('Точность:', precision_score(target_valid, predicted_valid))\n",
    "    print('F1-мера:', f1_score(target_valid, predicted_valid))\n",
    "    print('AUC-ROC:', roc_auc_score(target_valid, probabilities_one_valid))"
   ]
  },
  {
   "cell_type": "markdown",
   "metadata": {},
   "source": [
    "##### Метрики модели решающего дерева."
   ]
  },
  {
   "cell_type": "code",
   "execution_count": 25,
   "metadata": {},
   "outputs": [
    {
     "name": "stdout",
     "output_type": "stream",
     "text": [
      "Матрица ошибок в результатах предсказаний модели: \n",
      " [[1378  204]\n",
      " [ 219  199]]\n",
      "Полнота: 0.47607655502392343\n",
      "Точность: 0.49379652605459057\n",
      "F1-мера: 0.48477466504263095\n",
      "AUC-ROC: 0.6735629298507734\n"
     ]
    }
   ],
   "source": [
    "model_metrics(DecisionTreeClassifier(random_state=12345))"
   ]
  },
  {
   "cell_type": "markdown",
   "metadata": {},
   "source": [
    "Модель решающего дерева для данной выборки характеризуется низким значением полноты, точности и совокупной характеристики F1-меры (~0.5). Модель с низкой точностью ищет положительные объекты (доля ложноотрицательных ответов составляет более 10%) и выдает ~10% ложноположительных ответов. Значение AUC-ROC составляет 0.67, что говорит о низком качестве модели на данной выборке."
   ]
  },
  {
   "cell_type": "markdown",
   "metadata": {},
   "source": [
    "##### Метрики модели логистической регрессии."
   ]
  },
  {
   "cell_type": "code",
   "execution_count": 26,
   "metadata": {},
   "outputs": [
    {
     "name": "stdout",
     "output_type": "stream",
     "text": [
      "Матрица ошибок в результатах предсказаний модели: \n",
      " [[1582    0]\n",
      " [ 418    0]]\n",
      "Полнота: 0.0\n",
      "Точность: 0.0\n",
      "F1-мера: 0.0\n",
      "AUC-ROC: 0.4930528251441153\n"
     ]
    },
    {
     "name": "stderr",
     "output_type": "stream",
     "text": [
      "/opt/conda/lib/python3.7/site-packages/sklearn/metrics/classification.py:1437: UndefinedMetricWarning: Precision is ill-defined and being set to 0.0 due to no predicted samples.\n",
      "  'precision', 'predicted', average, warn_for)\n",
      "/opt/conda/lib/python3.7/site-packages/sklearn/metrics/classification.py:1437: UndefinedMetricWarning: F-score is ill-defined and being set to 0.0 due to no predicted samples.\n",
      "  'precision', 'predicted', average, warn_for)\n"
     ]
    }
   ],
   "source": [
    "model_metrics(LogisticRegression(random_state=12345, solver='liblinear'))"
   ]
  },
  {
   "cell_type": "markdown",
   "metadata": {},
   "source": [
    "Модель логистической регрессии не ищет положительный класс, проварьируем значение порога классификации и посмотрим, какими станут метрики. Для этого создадим функцию model_logreg."
   ]
  },
  {
   "cell_type": "code",
   "execution_count": 27,
   "metadata": {},
   "outputs": [],
   "source": [
    "def model_logreg(model_select, lgr_features_train, lgr_target_train):\n",
    "    model = model_select\n",
    "    model.fit(lgr_features_train, lgr_target_train)\n",
    "    probabilities_valid = model.predict_proba(features_valid)\n",
    "    probabilities_one_valid = probabilities_valid[:, 1]\n",
    "    \n",
    "    for threshold in np.arange(0, 0.3, 0.02):\n",
    "        predicted_valid = probabilities_one_valid > threshold\n",
    "        precision = precision_score(target_valid, predicted_valid)\n",
    "        recall = recall_score(target_valid, predicted_valid)\n",
    "        f1 = f1_score(target_valid, predicted_valid)\n",
    "        auc_roc = roc_auc_score(target_valid, probabilities_one_valid)\n",
    "        print(\"Порог = {:.2f} | Точность = {:.3f}, Полнота = {:.3f}, F1 = {:.3f}, AUC-ROC = {:.3f}\".\\\n",
    "              format(threshold, precision, recall, f1, auc_roc))"
   ]
  },
  {
   "cell_type": "code",
   "execution_count": 28,
   "metadata": {},
   "outputs": [
    {
     "name": "stdout",
     "output_type": "stream",
     "text": [
      "Порог = 0.00 | Точность = 0.209, Полнота = 1.000, F1 = 0.346, AUC-ROC = 0.493\n",
      "Порог = 0.02 | Точность = 0.209, Полнота = 1.000, F1 = 0.346, AUC-ROC = 0.493\n",
      "Порог = 0.04 | Точность = 0.209, Полнота = 1.000, F1 = 0.346, AUC-ROC = 0.493\n",
      "Порог = 0.06 | Точность = 0.209, Полнота = 1.000, F1 = 0.346, AUC-ROC = 0.493\n",
      "Порог = 0.08 | Точность = 0.209, Полнота = 1.000, F1 = 0.346, AUC-ROC = 0.493\n",
      "Порог = 0.10 | Точность = 0.209, Полнота = 1.000, F1 = 0.346, AUC-ROC = 0.493\n",
      "Порог = 0.12 | Точность = 0.209, Полнота = 1.000, F1 = 0.346, AUC-ROC = 0.493\n",
      "Порог = 0.14 | Точность = 0.209, Полнота = 1.000, F1 = 0.346, AUC-ROC = 0.493\n",
      "Порог = 0.16 | Точность = 0.209, Полнота = 1.000, F1 = 0.346, AUC-ROC = 0.493\n",
      "Порог = 0.18 | Точность = 0.209, Полнота = 1.000, F1 = 0.346, AUC-ROC = 0.493\n",
      "Порог = 0.20 | Точность = 0.207, Полнота = 0.306, F1 = 0.247, AUC-ROC = 0.493\n",
      "Порог = 0.22 | Точность = 0.000, Полнота = 0.000, F1 = 0.000, AUC-ROC = 0.493\n",
      "Порог = 0.24 | Точность = 0.000, Полнота = 0.000, F1 = 0.000, AUC-ROC = 0.493\n",
      "Порог = 0.26 | Точность = 0.000, Полнота = 0.000, F1 = 0.000, AUC-ROC = 0.493\n",
      "Порог = 0.28 | Точность = 0.000, Полнота = 0.000, F1 = 0.000, AUC-ROC = 0.493\n"
     ]
    },
    {
     "name": "stderr",
     "output_type": "stream",
     "text": [
      "/opt/conda/lib/python3.7/site-packages/sklearn/metrics/classification.py:1437: UndefinedMetricWarning: Precision is ill-defined and being set to 0.0 due to no predicted samples.\n",
      "  'precision', 'predicted', average, warn_for)\n",
      "/opt/conda/lib/python3.7/site-packages/sklearn/metrics/classification.py:1437: UndefinedMetricWarning: F-score is ill-defined and being set to 0.0 due to no predicted samples.\n",
      "  'precision', 'predicted', average, warn_for)\n",
      "/opt/conda/lib/python3.7/site-packages/sklearn/metrics/classification.py:1437: UndefinedMetricWarning: Precision is ill-defined and being set to 0.0 due to no predicted samples.\n",
      "  'precision', 'predicted', average, warn_for)\n",
      "/opt/conda/lib/python3.7/site-packages/sklearn/metrics/classification.py:1437: UndefinedMetricWarning: F-score is ill-defined and being set to 0.0 due to no predicted samples.\n",
      "  'precision', 'predicted', average, warn_for)\n",
      "/opt/conda/lib/python3.7/site-packages/sklearn/metrics/classification.py:1437: UndefinedMetricWarning: Precision is ill-defined and being set to 0.0 due to no predicted samples.\n",
      "  'precision', 'predicted', average, warn_for)\n",
      "/opt/conda/lib/python3.7/site-packages/sklearn/metrics/classification.py:1437: UndefinedMetricWarning: F-score is ill-defined and being set to 0.0 due to no predicted samples.\n",
      "  'precision', 'predicted', average, warn_for)\n",
      "/opt/conda/lib/python3.7/site-packages/sklearn/metrics/classification.py:1437: UndefinedMetricWarning: Precision is ill-defined and being set to 0.0 due to no predicted samples.\n",
      "  'precision', 'predicted', average, warn_for)\n",
      "/opt/conda/lib/python3.7/site-packages/sklearn/metrics/classification.py:1437: UndefinedMetricWarning: F-score is ill-defined and being set to 0.0 due to no predicted samples.\n",
      "  'precision', 'predicted', average, warn_for)\n"
     ]
    }
   ],
   "source": [
    "model_logreg(LogisticRegression(random_state=12345, solver='liblinear'), features_train, target_train)"
   ]
  },
  {
   "cell_type": "markdown",
   "metadata": {},
   "source": [
    "Модель логистической регрессии прогнозирует положительные объекты при уровне порога классификации <= 0.2. Значение точности низкое при таком уровне порога и, следовательно, низкое значение f1-меры. Значение AUC-ROC на всех порогах классификации равно 0.5, то есть по качеству модель логистической регрессии не отличается от случайной."
   ]
  },
  {
   "cell_type": "markdown",
   "metadata": {},
   "source": [
    "##### Метрики модели случайного леса."
   ]
  },
  {
   "cell_type": "code",
   "execution_count": 29,
   "metadata": {},
   "outputs": [
    {
     "name": "stdout",
     "output_type": "stream",
     "text": [
      "Матрица ошибок в результатах предсказаний модели: \n",
      " [[1543   39]\n",
      " [ 235  183]]\n",
      "Полнота: 0.43779904306220097\n",
      "Точность: 0.8243243243243243\n",
      "F1-мера: 0.571875\n",
      "AUC-ROC: 0.8477141163447638\n"
     ]
    }
   ],
   "source": [
    "model_metrics(RandomForestClassifier(random_state=12345, n_estimators=90, max_depth=10))"
   ]
  },
  {
   "cell_type": "markdown",
   "metadata": {},
   "source": [
    "В результатах предсказаний случайного леса более 10% ложноотрицательных ответов. Модель с низкой точностью ищет положительные объекты, что подтверждается низким значением полноты и показателя F1-меры. Однако модель с достаточно высокой точностью определяет отрицательные объекты, доля ложноотрицательных ответов составляет ~2%. Значение AUC-ROC составляет ~0.85."
   ]
  },
  {
   "cell_type": "markdown",
   "metadata": {},
   "source": [
    "# 3. Борьба с дисбалансом"
   ]
  },
  {
   "cell_type": "markdown",
   "metadata": {},
   "source": [
    "Создадим функцию для расчета метрик предсказаний модели с учетом дисбаланса классов."
   ]
  },
  {
   "cell_type": "code",
   "execution_count": 30,
   "metadata": {},
   "outputs": [],
   "source": [
    "def model_balanced_metrics(model_select, features, target):\n",
    "    model = model_select\n",
    "    model.fit(features, target)\n",
    "\n",
    "    predicted_valid = model.predict(features_valid)\n",
    "    \n",
    "    probabilities_valid = model.predict_proba(features_valid)\n",
    "    probabilities_one_valid = probabilities_valid[:, 1]\n",
    "    \n",
    "    print('Полнота:', recall_score(target_valid, predicted_valid))\n",
    "    print('Точность:', precision_score(target_valid, predicted_valid))\n",
    "    print('F1-мера:', f1_score(target_valid, predicted_valid))\n",
    "    print('AUC-ROC:', roc_auc_score(target_valid, probabilities_one_valid))"
   ]
  },
  {
   "cell_type": "markdown",
   "metadata": {},
   "source": [
    "<a id='section3.1'></a>\n",
    "### 3.1. Взвешивание классов"
   ]
  },
  {
   "cell_type": "markdown",
   "metadata": {},
   "source": [
    "Придадим объектам редкого класса обучающей выборки больший вес. Добавим аргумент class_weight в алгоритм моделей решающего дерева, логистической регрессии и случайного леса."
   ]
  },
  {
   "cell_type": "markdown",
   "metadata": {},
   "source": [
    "##### Метрики модели решающего дерева."
   ]
  },
  {
   "cell_type": "code",
   "execution_count": 31,
   "metadata": {},
   "outputs": [
    {
     "name": "stdout",
     "output_type": "stream",
     "text": [
      "Полнота: 0.46411483253588515\n",
      "Точность: 0.48743718592964824\n",
      "F1-мера: 0.47549019607843135\n",
      "AUC-ROC: 0.6675820686067542\n"
     ]
    }
   ],
   "source": [
    "model_balanced_metrics(\n",
    "    DecisionTreeClassifier(random_state=12345, class_weight='balanced'),features_train, target_train)"
   ]
  },
  {
   "cell_type": "markdown",
   "metadata": {},
   "source": [
    "##### Метрики модели логистической регрессии."
   ]
  },
  {
   "cell_type": "markdown",
   "metadata": {},
   "source": [
    "Рассчитаем метрики с учетом взвешивания классов."
   ]
  },
  {
   "cell_type": "code",
   "execution_count": 32,
   "metadata": {},
   "outputs": [
    {
     "name": "stdout",
     "output_type": "stream",
     "text": [
      "Порог = 0.00 | Точность = 0.209, Полнота = 1.000, F1 = 0.346, AUC-ROC = 0.493\n",
      "Порог = 0.02 | Точность = 0.209, Полнота = 1.000, F1 = 0.346, AUC-ROC = 0.493\n",
      "Порог = 0.04 | Точность = 0.209, Полнота = 1.000, F1 = 0.346, AUC-ROC = 0.493\n",
      "Порог = 0.06 | Точность = 0.209, Полнота = 1.000, F1 = 0.346, AUC-ROC = 0.493\n",
      "Порог = 0.08 | Точность = 0.209, Полнота = 1.000, F1 = 0.346, AUC-ROC = 0.493\n",
      "Порог = 0.10 | Точность = 0.209, Полнота = 1.000, F1 = 0.346, AUC-ROC = 0.493\n",
      "Порог = 0.12 | Точность = 0.209, Полнота = 1.000, F1 = 0.346, AUC-ROC = 0.493\n",
      "Порог = 0.14 | Точность = 0.209, Полнота = 1.000, F1 = 0.346, AUC-ROC = 0.493\n",
      "Порог = 0.16 | Точность = 0.209, Полнота = 1.000, F1 = 0.346, AUC-ROC = 0.493\n",
      "Порог = 0.18 | Точность = 0.209, Полнота = 1.000, F1 = 0.346, AUC-ROC = 0.493\n",
      "Порог = 0.20 | Точность = 0.209, Полнота = 1.000, F1 = 0.346, AUC-ROC = 0.493\n",
      "Порог = 0.22 | Точность = 0.209, Полнота = 1.000, F1 = 0.346, AUC-ROC = 0.493\n",
      "Порог = 0.24 | Точность = 0.209, Полнота = 1.000, F1 = 0.346, AUC-ROC = 0.493\n",
      "Порог = 0.26 | Точность = 0.209, Полнота = 1.000, F1 = 0.346, AUC-ROC = 0.493\n",
      "Порог = 0.28 | Точность = 0.209, Полнота = 1.000, F1 = 0.346, AUC-ROC = 0.493\n"
     ]
    }
   ],
   "source": [
    "model_logreg(LogisticRegression(random_state=12345, solver='liblinear', class_weight='balanced'),\\\n",
    "             features_train, target_train)"
   ]
  },
  {
   "cell_type": "markdown",
   "metadata": {},
   "source": [
    "В результате взвешивания классов показатели метрик качества логистической модели не изменились."
   ]
  },
  {
   "cell_type": "markdown",
   "metadata": {},
   "source": [
    "##### Метрики модели случайного леса."
   ]
  },
  {
   "cell_type": "code",
   "execution_count": 33,
   "metadata": {},
   "outputs": [
    {
     "name": "stdout",
     "output_type": "stream",
     "text": [
      "Полнота: 0.5909090909090909\n",
      "Точность: 0.6253164556962025\n",
      "F1-мера: 0.6076260762607626\n",
      "AUC-ROC: 0.8535331692062014\n"
     ]
    }
   ],
   "source": [
    "model_balanced_metrics(\n",
    "    RandomForestClassifier(random_state=12345, n_estimators=90, max_depth=10, class_weight='balanced'),\\\n",
    "    features_train, target_train)"
   ]
  },
  {
   "cell_type": "markdown",
   "metadata": {},
   "source": [
    "В результате взвешивания классов значение F1-меры модели решающего дерева практически не изменилась(~0.48), для логистической регрессии осталась равной 0. Для модели случайного леса показатель вырос на ~0.04 (0.61 против 0.57). Уровень AUC-ROC остался прежним."
   ]
  },
  {
   "cell_type": "markdown",
   "metadata": {},
   "source": [
    "<a id='section3.2'></a>\n",
    "### 3.2. Увеличение выборки"
   ]
  },
  {
   "cell_type": "markdown",
   "metadata": {},
   "source": [
    "Устраним несбалансированность отрицательных и положительных классов путем увеличения выборки более редкого класса - \"1\". Создадим функцию upsample."
   ]
  },
  {
   "cell_type": "code",
   "execution_count": 34,
   "metadata": {},
   "outputs": [],
   "source": [
    "def upsample(features, target, repeat):    \n",
    "# разделим выборку на отрицательные и положительные объекты\n",
    "    features_zeros = features[target == 0] \n",
    "    features_ones = features[target == 1] \n",
    "    target_zeros = target[target == 0]\n",
    "    target_ones = target[target == 1]\n",
    "# скопируем положительные объекты\n",
    "    features_upsampled = pd.concat([features_zeros] + [features_ones] * repeat)\n",
    "    target_upsampled = pd.concat([target_zeros] + [target_ones] * repeat)\n",
    "# перемешаем данные\n",
    "    shuffle(features_upsampled, target_upsampled, random_state=12345)\n",
    "    \n",
    "    return features_upsampled, target_upsampled "
   ]
  },
  {
   "cell_type": "markdown",
   "metadata": {},
   "source": [
    "В изначальной обучающей выборке доля отрицательных ответов составляла ~0.8, положительных — ~0.2.\n",
    "Для достижения баланса классов увеличим количество положительных объектов в 4 раза, в функции upsample установим параметр repeat = 4. Просмотрим размер таблиц после применения техники upsampling."
   ]
  },
  {
   "cell_type": "code",
   "execution_count": 35,
   "metadata": {},
   "outputs": [
    {
     "name": "stdout",
     "output_type": "stream",
     "text": [
      "(9588, 12)\n",
      "(9588,)\n",
      "0    0.501043\n",
      "1    0.498957\n",
      "Name: exited, dtype: float64\n"
     ]
    }
   ],
   "source": [
    "features_upsampled, target_upsampled = upsample(features_train, target_train, 4)\n",
    "\n",
    "print(features_upsampled.shape)\n",
    "print(target_upsampled.shape)\n",
    "\n",
    "print(target_upsampled.value_counts(normalize = 1))"
   ]
  },
  {
   "cell_type": "markdown",
   "metadata": {},
   "source": [
    "Обучим на новых данных модели решающего дерева, логистической регрессии и случайного леса. Найдем для каждой модели значение F1-меры."
   ]
  },
  {
   "cell_type": "markdown",
   "metadata": {},
   "source": [
    "##### Метрики модели решающего дерева."
   ]
  },
  {
   "cell_type": "code",
   "execution_count": 36,
   "metadata": {},
   "outputs": [
    {
     "name": "stdout",
     "output_type": "stream",
     "text": [
      "Полнота: 0.4569377990430622\n",
      "Точность: 0.47512437810945274\n",
      "F1-мера: 0.4658536585365854\n",
      "AUC-ROC: 0.6617811624798117\n"
     ]
    }
   ],
   "source": [
    "model_balanced_metrics(\n",
    "    DecisionTreeClassifier(random_state=12345),\\\n",
    "    features_upsampled, target_upsampled)"
   ]
  },
  {
   "cell_type": "markdown",
   "metadata": {},
   "source": [
    "##### Метрики модели логистической регрессии."
   ]
  },
  {
   "cell_type": "code",
   "execution_count": 37,
   "metadata": {},
   "outputs": [
    {
     "name": "stdout",
     "output_type": "stream",
     "text": [
      "Порог = 0.00 | Точность = 0.209, Полнота = 1.000, F1 = 0.346, AUC-ROC = 0.493\n",
      "Порог = 0.02 | Точность = 0.209, Полнота = 1.000, F1 = 0.346, AUC-ROC = 0.493\n",
      "Порог = 0.04 | Точность = 0.209, Полнота = 1.000, F1 = 0.346, AUC-ROC = 0.493\n",
      "Порог = 0.06 | Точность = 0.209, Полнота = 1.000, F1 = 0.346, AUC-ROC = 0.493\n",
      "Порог = 0.08 | Точность = 0.209, Полнота = 1.000, F1 = 0.346, AUC-ROC = 0.493\n",
      "Порог = 0.10 | Точность = 0.209, Полнота = 1.000, F1 = 0.346, AUC-ROC = 0.493\n",
      "Порог = 0.12 | Точность = 0.209, Полнота = 1.000, F1 = 0.346, AUC-ROC = 0.493\n",
      "Порог = 0.14 | Точность = 0.209, Полнота = 1.000, F1 = 0.346, AUC-ROC = 0.493\n",
      "Порог = 0.16 | Точность = 0.209, Полнота = 1.000, F1 = 0.346, AUC-ROC = 0.493\n",
      "Порог = 0.18 | Точность = 0.209, Полнота = 1.000, F1 = 0.346, AUC-ROC = 0.493\n",
      "Порог = 0.20 | Точность = 0.209, Полнота = 1.000, F1 = 0.346, AUC-ROC = 0.493\n",
      "Порог = 0.22 | Точность = 0.209, Полнота = 1.000, F1 = 0.346, AUC-ROC = 0.493\n",
      "Порог = 0.24 | Точность = 0.209, Полнота = 1.000, F1 = 0.346, AUC-ROC = 0.493\n",
      "Порог = 0.26 | Точность = 0.209, Полнота = 1.000, F1 = 0.346, AUC-ROC = 0.493\n",
      "Порог = 0.28 | Точность = 0.209, Полнота = 1.000, F1 = 0.346, AUC-ROC = 0.493\n"
     ]
    }
   ],
   "source": [
    "model_logreg(LogisticRegression(random_state=12345, solver='liblinear'),\\\n",
    "             features_upsampled, target_upsampled)"
   ]
  },
  {
   "cell_type": "markdown",
   "metadata": {},
   "source": [
    "В результате увеличения положительного класса показатели метрик качества логистической модели не изменились."
   ]
  },
  {
   "cell_type": "markdown",
   "metadata": {},
   "source": [
    "##### Метрики модели случайного леса."
   ]
  },
  {
   "cell_type": "code",
   "execution_count": 38,
   "metadata": {},
   "outputs": [
    {
     "name": "stdout",
     "output_type": "stream",
     "text": [
      "Полнота: 0.6770334928229665\n",
      "Точность: 0.5835051546391753\n",
      "F1-мера: 0.6267995570321152\n",
      "AUC-ROC: 0.8522507999685456\n"
     ]
    }
   ],
   "source": [
    "model_balanced_metrics(\n",
    "    RandomForestClassifier(random_state=12345, n_estimators=90, max_depth=10),\\\n",
    "    features_upsampled, target_upsampled)"
   ]
  },
  {
   "cell_type": "markdown",
   "metadata": {},
   "source": [
    "В результате увеличения размера положительного класса выборки значение F1-меры для логистической регрессии осталось равным 0, для модели решающего дерева практически не изменилось (~0.48), для модели случайного леса увеличилось на ~0.06 (0.63 против 0.57). Значения AUC-ROC после применеия техники upsampling практически не изменились для всех моделей."
   ]
  },
  {
   "cell_type": "markdown",
   "metadata": {},
   "source": [
    "<a id='section3.3'></a>\n",
    "### 3.3. Уменьшение выборки"
   ]
  },
  {
   "cell_type": "markdown",
   "metadata": {},
   "source": [
    "Устраним несбалансированность отрицательных и положительных классов путем уменьшения выборки более редкого - отрицательного класса. Создадим функцию downsample."
   ]
  },
  {
   "cell_type": "code",
   "execution_count": 39,
   "metadata": {},
   "outputs": [],
   "source": [
    "def downsample(features, target, fraction):\n",
    "# разделим выборку на отрицательные и положительные объекты\n",
    "    features_zeros = features[target == 0]\n",
    "    features_ones = features[target == 1]\n",
    "    target_zeros = target[target == 0]\n",
    "    target_ones = target[target == 1]\n",
    "# отбросим часть из отрицательных объектов и сформируем новую выборку\n",
    "    features_downsampled = pd.concat(\n",
    "        [features_zeros.sample(frac=fraction, random_state=12345)] + [features_ones])\n",
    "    target_downsampled = pd.concat(\n",
    "        [target_zeros.sample(frac=fraction, random_state=12345)] + [target_ones])\n",
    "# перемешаем данные    \n",
    "    features_downsampled, target_downsampled = shuffle(\n",
    "        features_downsampled, target_downsampled, random_state=12345)\n",
    "    \n",
    "    return features_downsampled, target_downsampled"
   ]
  },
  {
   "cell_type": "markdown",
   "metadata": {},
   "source": [
    "Для достижения баланса классов снизим количество отрицательных объектов в 4 раза, в функции downsample установим параметр frac = 1/4. Просмотрим размер таблиц после применения техники downsampling."
   ]
  },
  {
   "cell_type": "code",
   "execution_count": 40,
   "metadata": {},
   "outputs": [
    {
     "name": "stdout",
     "output_type": "stream",
     "text": [
      "(2397, 12)\n",
      "(2397,)\n",
      "0    0.501043\n",
      "1    0.498957\n",
      "Name: exited, dtype: float64\n"
     ]
    }
   ],
   "source": [
    "features_downsampled, target_downsampled = downsample(features_train, target_train, 0.25)\n",
    "\n",
    "print(features_downsampled.shape)\n",
    "print(target_downsampled.shape)\n",
    "\n",
    "print(target_downsampled.value_counts(normalize = 1))"
   ]
  },
  {
   "cell_type": "markdown",
   "metadata": {},
   "source": [
    "Обучим на новых данных модели решающего дерева, логистической регрессии и случайного леса. Найдем для каждой модели значение F1-меры."
   ]
  },
  {
   "cell_type": "markdown",
   "metadata": {},
   "source": [
    "##### Метрики модели решающего дерева."
   ]
  },
  {
   "cell_type": "code",
   "execution_count": 41,
   "metadata": {},
   "outputs": [
    {
     "name": "stdout",
     "output_type": "stream",
     "text": [
      "Полнота: 0.7057416267942583\n",
      "Точность: 0.371536523929471\n",
      "F1-мера: 0.4867986798679868\n",
      "AUC-ROC: 0.6951590561278498\n"
     ]
    }
   ],
   "source": [
    "model_balanced_metrics(\n",
    "    DecisionTreeClassifier(random_state=12345),\\\n",
    "    features_downsampled, target_downsampled)"
   ]
  },
  {
   "cell_type": "markdown",
   "metadata": {},
   "source": [
    "##### Метрики модели логистической регрессии."
   ]
  },
  {
   "cell_type": "code",
   "execution_count": 42,
   "metadata": {},
   "outputs": [
    {
     "name": "stdout",
     "output_type": "stream",
     "text": [
      "Порог = 0.00 | Точность = 0.209, Полнота = 1.000, F1 = 0.346, AUC-ROC = 0.493\n",
      "Порог = 0.02 | Точность = 0.209, Полнота = 1.000, F1 = 0.346, AUC-ROC = 0.493\n",
      "Порог = 0.04 | Точность = 0.209, Полнота = 1.000, F1 = 0.346, AUC-ROC = 0.493\n",
      "Порог = 0.06 | Точность = 0.209, Полнота = 1.000, F1 = 0.346, AUC-ROC = 0.493\n",
      "Порог = 0.08 | Точность = 0.209, Полнота = 1.000, F1 = 0.346, AUC-ROC = 0.493\n",
      "Порог = 0.10 | Точность = 0.209, Полнота = 1.000, F1 = 0.346, AUC-ROC = 0.493\n",
      "Порог = 0.12 | Точность = 0.209, Полнота = 1.000, F1 = 0.346, AUC-ROC = 0.493\n",
      "Порог = 0.14 | Точность = 0.209, Полнота = 1.000, F1 = 0.346, AUC-ROC = 0.493\n",
      "Порог = 0.16 | Точность = 0.209, Полнота = 1.000, F1 = 0.346, AUC-ROC = 0.493\n",
      "Порог = 0.18 | Точность = 0.209, Полнота = 1.000, F1 = 0.346, AUC-ROC = 0.493\n",
      "Порог = 0.20 | Точность = 0.209, Полнота = 1.000, F1 = 0.346, AUC-ROC = 0.493\n",
      "Порог = 0.22 | Точность = 0.209, Полнота = 1.000, F1 = 0.346, AUC-ROC = 0.493\n",
      "Порог = 0.24 | Точность = 0.209, Полнота = 1.000, F1 = 0.346, AUC-ROC = 0.493\n",
      "Порог = 0.26 | Точность = 0.209, Полнота = 1.000, F1 = 0.346, AUC-ROC = 0.493\n",
      "Порог = 0.28 | Точность = 0.209, Полнота = 1.000, F1 = 0.346, AUC-ROC = 0.493\n"
     ]
    }
   ],
   "source": [
    "model_logreg(LogisticRegression(random_state=12345, solver='liblinear'),\\\n",
    "             features_downsampled, target_downsampled)"
   ]
  },
  {
   "cell_type": "markdown",
   "metadata": {},
   "source": [
    "В результате уменьшения отрицательного класса показатели метрик качества логистической модели не изменились."
   ]
  },
  {
   "cell_type": "markdown",
   "metadata": {},
   "source": [
    "##### Метрики модели случайного леса."
   ]
  },
  {
   "cell_type": "code",
   "execution_count": 43,
   "metadata": {},
   "outputs": [
    {
     "name": "stdout",
     "output_type": "stream",
     "text": [
      "Полнота: 0.7440191387559809\n",
      "Точность: 0.48367029548989116\n",
      "F1-мера: 0.5862393967954761\n",
      "AUC-ROC: 0.8491386350026313\n"
     ]
    }
   ],
   "source": [
    "model_balanced_metrics(\n",
    "    RandomForestClassifier(random_state=12345, n_estimators=90, max_depth=10),\\\n",
    "    features_downsampled, target_downsampled)"
   ]
  },
  {
   "cell_type": "markdown",
   "metadata": {},
   "source": [
    "В результате снижения размера отрицательного класса выборки значение F1-меры для модели решающего дерева повысилось на ~0.01. Для модели случайного леса значение F1-меры увеличилось на ~0.02. Значение метрики AUC-ROC после уменьшения выборки практически не изменилось."
   ]
  },
  {
   "cell_type": "markdown",
   "metadata": {},
   "source": [
    "### Вывод\n",
    "\n",
    "\n",
    "\n",
    "Из рассмотренных методов устранению дисбаланса классов наиболее предпочтительным для данной выборки оказался способ увеличения выборки более редкого класса. Необходимо отметить, что в результате балансировки классов повышается доля положительных ответов среди всех предсказаний модели, но в то же время увеличилась доля ложноположительных ответов. Этот эффект выражен ярче для техники downsampling. По-видимому, данное явление связано с небольшим объемом обучающей выборки, кроме того в случае техники downsampling происходит отбрасывание данных более частого класса.\n",
    "\n",
    "\n",
    "По результатам исследования трех моделей: решающее дерево, случайный лес и логистическая регрессия, наибольшим значением F1-меры характеризуется модель случайного леса с количеством деревьев и максимальной глубиной — 90 и 10, соответственно. Для найденной модели построим ROC-кривую и рассчитаем метрику AUC-ROC."
   ]
  },
  {
   "cell_type": "code",
   "execution_count": 44,
   "metadata": {
    "scrolled": true
   },
   "outputs": [
    {
     "data": {
      "image/png": "[encoded data removed]",
      "text/plain": [
       "<Figure size 432x288 with 1 Axes>"
      ]
     },
     "metadata": {
      "needs_background": "light"
     },
     "output_type": "display_data"
    },
    {
     "name": "stdout",
     "output_type": "stream",
     "text": [
      "AUC-ROC модели случайного леса на валидационной выборке составляет: 0.8522507999685456\n"
     ]
    }
   ],
   "source": [
    "model = RandomForestClassifier(random_state=12345, n_estimators=90, max_depth=10)\n",
    "model.fit(features_upsampled, target_upsampled)\n",
    "\n",
    "probabilities_valid = model.predict_proba(features_valid)\n",
    "probabilities_one_valid = probabilities_valid[:, 1]\n",
    "\n",
    "fpr, tpr, thresholds = roc_curve(target_valid, probabilities_one_valid)\n",
    "\n",
    "plt.figure()\n",
    "plt.plot(fpr, tpr)\n",
    "plt.plot([0, 1], [0, 1], linestyle='--')\n",
    "\n",
    "plt.xlim([0.0, 1.0])\n",
    "plt.ylim([0.0, 1.0])\n",
    "\n",
    "plt.xlabel('False Positive Rate')\n",
    "plt.ylabel('True Positive Rate')\n",
    "plt.title('ROC-кривая для модели случайного леса на валидационной выборке')\n",
    "plt.show()\n",
    "\n",
    "auc_roc = roc_auc_score(target_valid, probabilities_one_valid)\n",
    "\n",
    "print('AUC-ROC модели случайного леса на валидационной выборке составляет:', auc_roc)"
   ]
  },
  {
   "cell_type": "markdown",
   "metadata": {},
   "source": [
    "# 4. Тестирование модели"
   ]
  },
  {
   "cell_type": "markdown",
   "metadata": {},
   "source": [
    "Для правильной оценки найденной модели случайного леса проверим ее на тестовой выборке, опеределим показатель F1-меры, точности и полноты. Построим ROC-кривую и рассчитаем метрику AUC-ROC."
   ]
  },
  {
   "cell_type": "code",
   "execution_count": 45,
   "metadata": {},
   "outputs": [
    {
     "name": "stdout",
     "output_type": "stream",
     "text": [
      "F1: 0.6085059978189749\n",
      "Точность: 0.5647773279352226\n",
      "Полнота: 0.6595744680851063\n"
     ]
    }
   ],
   "source": [
    "model = RandomForestClassifier(n_estimators=90, max_depth=10, random_state=12345)\n",
    "model.fit(features_upsampled, target_upsampled)\n",
    "\n",
    "predicted_test = model.predict(features_test)\n",
    "print(\"F1:\", f1_score(target_test, predicted_test))\n",
    "print('Точность:', precision_score(target_test, predicted_test))\n",
    "print('Полнота:', recall_score(target_test, predicted_test))"
   ]
  },
  {
   "cell_type": "code",
   "execution_count": 46,
   "metadata": {},
   "outputs": [
    {
     "data": {
      "image/png": "[encoded data removed]",
      "text/plain": [
       "<Figure size 432x288 with 1 Axes>"
      ]
     },
     "metadata": {
      "needs_background": "light"
     },
     "output_type": "display_data"
    },
    {
     "name": "stdout",
     "output_type": "stream",
     "text": [
      "AUC-ROC модели случайного леса на тестовой выборке составляет: 0.8561787276017094\n"
     ]
    }
   ],
   "source": [
    "probabilities_test = model.predict_proba(features_test)\n",
    "probabilities_one_test = probabilities_test[:, 1]\n",
    "\n",
    "fpr, tpr, thresholds = roc_curve(target_test, probabilities_one_test)\n",
    "\n",
    "plt.figure()\n",
    "plt.plot(fpr, tpr)\n",
    "plt.plot([0, 1], [0, 1], linestyle='--')\n",
    "\n",
    "plt.xlim([0.0, 1.0])\n",
    "plt.ylim([0.0, 1.0])\n",
    "\n",
    "plt.xlabel('False Positive Rate')\n",
    "plt.ylabel('True Positive Rate')\n",
    "plt.title('ROC-кривая для модели случайного леса на тестовой выборке')\n",
    "plt.show()\n",
    "\n",
    "auc_roc = roc_auc_score(target_test, probabilities_one_test)\n",
    "\n",
    "print('AUC-ROC модели случайного леса на тестовой выборке составляет:', auc_roc)"
   ]
  },
  {
   "cell_type": "markdown",
   "metadata": {},
   "source": [
    "### Вывод:\n",
    "Для решения задачи бинарной классификации для прогнозирования оттока клиентов банка:\n",
    "1. Рассмотрены три моделей (решающее дерево, случайный лес, логистическая регрессия).\n",
    "2. Исследован баланс классов. Обучены рассмотренные модели без учета дисбаланса классов и определены метрики качества предсказаний рассматриваемых моделей - полнота, точность, F1-мера.\n",
    "    - Показатели метрик моделей без учета дисбаланса классов:\n",
    "        - Решающее дерево:\n",
    "             - Полнота: 0.476\n",
    "             - Точность: 0.494\n",
    "             - F1-мера: 0.485\n",
    "             - AUC-ROC: 0.674\n",
    "        \n",
    "        - Логистическая регрессия:\n",
    "             - Полнота: 0.0\n",
    "             - Точность: 0.0\n",
    "             - F1-мера: 0.0\n",
    "             - AUC-ROC: 0.493\n",
    "        \n",
    "        - Случайный лес:\n",
    "            - Полнота: 0.438\n",
    "            - Точность: 0.8243\n",
    "            - F1-мера: 0.572\n",
    "            - AUC-ROC: 0.848       \n",
    "3. Протестированы 3 способа устранения дисбаланса классов: взвешивание классов, увеличение выборки и уменьшение выборки. В каждом случае определены метрики качества моделей. Определено, что на представленных данных наиболее предпочтительным методом балансировки классов является техника upsampling - увеличение выборки более редкого класса.\n",
    "    - Показатели метрик моделей после балансировки классов:\n",
    "      - Решающее дерево:\n",
    "          - Полнота: 0.457\n",
    "          - Точность: 0.475\n",
    "          - F1-мера: 0.466\n",
    "          - AUC-ROC: 0.662\n",
    "      \n",
    "      - Логистическая регрессия:\n",
    "          - Полнота: 1.000\n",
    "          - Точность: 0.209\n",
    "          - F1-мера: 0.346\n",
    "          - AUC-ROC: 0.493\n",
    "      \n",
    "      - Случайный лес:\n",
    "          - Полнота: 0.677\n",
    "          - Точность: 0.584\n",
    "          - F1-мера: 0.627\n",
    "          - AUC-ROC: 0.852\n",
    "      \n",
    "4. Построена модель случайного леса с показателем F1-меры = ~0.61 на тестовой выборке. Пройдена проверка на адекватность полученной модели, значение AUC-ROC составляет ~0.86. Для \"настраивания\" модели путем установления порога классификации необходимо знать требования заказчика по точности и полноте предсказаний, чтобы выбрать баланс между ложноположительными и истинно положительными."
   ]
  }
 ],
 "metadata": {
  "kernelspec": {
   "display_name": "Python 3",
   "language": "python",
   "name": "python3"
  },
  "language_info": {
   "codemirror_mode": {
    "name": "ipython",
    "version": 3
   },
   "file_extension": ".py",
   "mimetype": "text/x-python",
   "name": "python",
   "nbconvert_exporter": "python",
   "pygments_lexer": "ipython3",
   "version": "3.7.4"
  },
  "toc": {
   "base_numbering": 1,
   "nav_menu": {},
   "number_sections": true,
   "sideBar": true,
   "skip_h1_title": true,
   "title_cell": "Table of Contents",
   "title_sidebar": "Contents",
   "toc_cell": false,
   "toc_position": {},
   "toc_section_display": true,
   "toc_window_display": false
  }
 },
 "nbformat": 4,
 "nbformat_minor": 2
}
