{
 "cells": [
  {
   "cell_type": "markdown",
   "metadata": {},
   "source": [
    "## 1. Загрузка данных"
   ]
  },
  {
   "cell_type": "markdown",
   "metadata": {},
   "source": [
    "Настроим окружение: импортируем все необходимые библиотеки."
   ]
  },
  {
   "cell_type": "code",
   "execution_count": 1,
   "metadata": {},
   "outputs": [],
   "source": [
    "import pandas as pd\n",
    "from IPython.display import display\n",
    "import numpy as np\n",
    "from numpy.linalg import inv\n",
    "from sklearn.linear_model import LinearRegression\n",
    "from sklearn.metrics import r2_score"
   ]
  },
  {
   "cell_type": "markdown",
   "metadata": {},
   "source": [
    "Сохраним в переменной data входные данные клиентов, которые необходимо защитить. Просмотрим первые 5 строк массива данных и информацию о типах данных признаков."
   ]
  },
  {
   "cell_type": "code",
   "execution_count": 2,
   "metadata": {},
   "outputs": [],
   "source": [
    "data = pd.read_csv('/datasets/insurance.csv')"
   ]
  },
  {
   "cell_type": "code",
   "execution_count": 3,
   "metadata": {},
   "outputs": [
    {
     "data": {
      "text/html": [
       "<div>\n",
       "<style scoped>\n",
       "    .dataframe tbody tr th:only-of-type {\n",
       "        vertical-align: middle;\n",
       "    }\n",
       "\n",
       "    .dataframe tbody tr th {\n",
       "        vertical-align: top;\n",
       "    }\n",
       "\n",
       "    .dataframe thead th {\n",
       "        text-align: right;\n",
       "    }\n",
       "</style>\n",
       "<table border=\"1\" class=\"dataframe\">\n",
       "  <thead>\n",
       "    <tr style=\"text-align: right;\">\n",
       "      <th></th>\n",
       "      <th>Пол</th>\n",
       "      <th>Возраст</th>\n",
       "      <th>Зарплата</th>\n",
       "      <th>Члены семьи</th>\n",
       "      <th>Страховые выплаты</th>\n",
       "    </tr>\n",
       "  </thead>\n",
       "  <tbody>\n",
       "    <tr>\n",
       "      <td>0</td>\n",
       "      <td>1</td>\n",
       "      <td>41.0</td>\n",
       "      <td>49600.0</td>\n",
       "      <td>1</td>\n",
       "      <td>0</td>\n",
       "    </tr>\n",
       "    <tr>\n",
       "      <td>1</td>\n",
       "      <td>0</td>\n",
       "      <td>46.0</td>\n",
       "      <td>38000.0</td>\n",
       "      <td>1</td>\n",
       "      <td>1</td>\n",
       "    </tr>\n",
       "    <tr>\n",
       "      <td>2</td>\n",
       "      <td>0</td>\n",
       "      <td>29.0</td>\n",
       "      <td>21000.0</td>\n",
       "      <td>0</td>\n",
       "      <td>0</td>\n",
       "    </tr>\n",
       "    <tr>\n",
       "      <td>3</td>\n",
       "      <td>0</td>\n",
       "      <td>21.0</td>\n",
       "      <td>41700.0</td>\n",
       "      <td>2</td>\n",
       "      <td>0</td>\n",
       "    </tr>\n",
       "    <tr>\n",
       "      <td>4</td>\n",
       "      <td>1</td>\n",
       "      <td>28.0</td>\n",
       "      <td>26100.0</td>\n",
       "      <td>0</td>\n",
       "      <td>0</td>\n",
       "    </tr>\n",
       "  </tbody>\n",
       "</table>\n",
       "</div>"
      ],
      "text/plain": [
       "   Пол  Возраст  Зарплата  Члены семьи  Страховые выплаты\n",
       "0    1     41.0   49600.0            1                  0\n",
       "1    0     46.0   38000.0            1                  1\n",
       "2    0     29.0   21000.0            0                  0\n",
       "3    0     21.0   41700.0            2                  0\n",
       "4    1     28.0   26100.0            0                  0"
      ]
     },
     "metadata": {},
     "output_type": "display_data"
    },
    {
     "name": "stdout",
     "output_type": "stream",
     "text": [
      "<class 'pandas.core.frame.DataFrame'>\n",
      "RangeIndex: 5000 entries, 0 to 4999\n",
      "Data columns (total 5 columns):\n",
      "Пол                  5000 non-null int64\n",
      "Возраст              5000 non-null float64\n",
      "Зарплата             5000 non-null float64\n",
      "Члены семьи          5000 non-null int64\n",
      "Страховые выплаты    5000 non-null int64\n",
      "dtypes: float64(2), int64(3)\n",
      "memory usage: 195.4 KB\n"
     ]
    },
    {
     "data": {
      "text/plain": [
       "None"
      ]
     },
     "metadata": {},
     "output_type": "display_data"
    }
   ],
   "source": [
    "display(data.head())\n",
    "display(data.info())"
   ]
  },
  {
   "cell_type": "markdown",
   "metadata": {},
   "source": [
    "Просмотрим уникальные значения целевого признака: количество страховых выплат клиенту за последние 5 лет."
   ]
  },
  {
   "cell_type": "code",
   "execution_count": 4,
   "metadata": {},
   "outputs": [
    {
     "data": {
      "text/plain": [
       "0    4436\n",
       "1     423\n",
       "2     115\n",
       "3      18\n",
       "4       7\n",
       "5       1\n",
       "Name: Страховые выплаты, dtype: int64"
      ]
     },
     "metadata": {},
     "output_type": "display_data"
    }
   ],
   "source": [
    "display(data['Страховые выплаты'].value_counts())"
   ]
  },
  {
   "cell_type": "markdown",
   "metadata": {},
   "source": [
    "## 2. Умножение матриц"
   ]
  },
  {
   "cell_type": "markdown",
   "metadata": {},
   "source": [
    "Введем обозначения:\n",
    "\n",
    "- $X$ — матрица признаков (нулевой столбец состоит из единиц)\n",
    "\n",
    "- $y$ — вектор целевого признака\n",
    "\n",
    "- $P$ — матрица, на которую умножаются признаки\n",
    "\n",
    "- $w$ — вектор весов линейной регрессии (нулевой элемент равен сдвигу)"
   ]
  },
  {
   "cell_type": "markdown",
   "metadata": {},
   "source": [
    "Предсказания:\n",
    "\n",
    "$$\n",
    "a = Xw\n",
    "$$\n",
    "\n",
    "Задача обучения:\n",
    "\n",
    "$$\n",
    "w = \\arg\\min_w MSE(Xw, y)\n",
    "$$\n",
    "\n",
    "Формула обучения:\n",
    "\n",
    "$$\n",
    "w = (X^T X)^{-1} X^T y\n",
    "$$"
   ]
  },
  {
   "cell_type": "markdown",
   "metadata": {},
   "source": [
    "**Ответ:** При умножении матрицы признаков на обратимую матрицу качество линейной регрессии не изменится.\n",
    "\n",
    "**Обоснование:** \n",
    "\n",
    "Допустим, что $X$ и $P$ - обратимые матрицы.\n",
    "\n",
    "Рассчитаем вектор предсказаний $a'$ после умножения матрицы признаков $X$ на обратимую матрицу $P$. Распишем формулу обучения в предсказании для вектора предсказаний $a'$.\n",
    "$$\n",
    "a' = X P ((X P)^T X P)^{-1} (X P)^T y\n",
    "$$\n",
    "\n",
    "Исходя из свойства транспонированных матриц:\n",
    "\n",
    "$$\n",
    "(AB)^{T}=B^{T}A^{T}\n",
    "$$\n",
    "\n",
    "распишем выражение для транспонированного произведения матриц:\n",
    "\n",
    "$$\n",
    "a' = X P ((X P)^T X P)^{-1} (X P)^T y = X P (P^{T} X^{T} X P)^{-1} P^{T} X^{T} y\n",
    "$$\n",
    "\n",
    "На основе свойств обратных матриц для обратимых квадратных матриц и свойств единичной матрицы:\n",
    "\n",
    "$$\n",
    "(AB)^{{-1}}=B^{{-1}}A^{{-1}}\n",
    "$$\n",
    "$$\n",
    "A A^{-1} = E\n",
    "$$\n",
    "$$\n",
    "AE=EA=A\n",
    "$$\n",
    "\n",
    "преобразуем выражение:\n",
    "\n",
    "$$\n",
    "a' = X P ((X P)^T X P)^{-1} (X P)^T y = X P (P^{T} X^{T} X P)^{-1} P^{T} X^{T} y = X P P^{-1} (P^{T} X^{T} X)^{-1} P^{T} X^{T} y = X E (X^{T} X)^{-1} (P^{-1})^{T} P^{T} X^{T} y = X (X^{T} X)^{-1} (P^{-1} P)^{T} X^{T} y = X (X^{T} X)^{-1} E^{T} X^{T} y = X (X^{T} X)^{-1} X^{T} y = Xw\n",
    "$$\n",
    "\n",
    "В итоге получаем, что $a' = a$."
   ]
  },
  {
   "cell_type": "markdown",
   "metadata": {},
   "source": [
    "## 3. Алгоритм преобразования"
   ]
  },
  {
   "cell_type": "markdown",
   "metadata": {},
   "source": [
    "**Алгоритм**\n",
    "\n",
    "Для рещения задачи защиты данных клиентов страховой компании алгоритм преобразования будет содержать следующие шаги:\n",
    "- создание переменных для признаков и целевого признака;\n",
    "- обучение модели линейной регрессии на исходных признаках;\n",
    "- определение коэффициента детерминации r2 для модели до преобразования признаков;\n",
    "- создание случайной обратимой матрицы;\n",
    "- умножение матрицы признаков на случайную обратимую матрицу;\n",
    "- обучение модели линейной регрессии после преобразования признаков;\n",
    "- определение коэффициента детерминации r2 для модели после преобразования;\n",
    "- сравнение метрики предсказаний модели линейной регрессии до и после преобразования признаков."
   ]
  },
  {
   "cell_type": "markdown",
   "metadata": {},
   "source": [
    "**Обоснование**\n",
    "\n",
    "На предыдущем этапе мы доказали, что при умножении матрицы признаков на обратимую матрицу качество предсказаний линейной регрессии не изменится. Запрограммируем предложенный алгоритм преобразований и подтвердим выдвинутое доказательство."
   ]
  },
  {
   "cell_type": "markdown",
   "metadata": {},
   "source": [
    "## 4. Проверка алгоритма"
   ]
  },
  {
   "cell_type": "markdown",
   "metadata": {},
   "source": [
    "Создадим переменные для признаков и целевых признаков, приведем их к матричному типу атрибутом values."
   ]
  },
  {
   "cell_type": "code",
   "execution_count": 5,
   "metadata": {},
   "outputs": [],
   "source": [
    "features = data.drop('Страховые выплаты', axis=1).values\n",
    "target = data['Страховые выплаты'].values"
   ]
  },
  {
   "cell_type": "markdown",
   "metadata": {},
   "source": [
    "Определим размер матрицы признаков."
   ]
  },
  {
   "cell_type": "code",
   "execution_count": 6,
   "metadata": {},
   "outputs": [
    {
     "data": {
      "text/plain": [
       "(5000, 4)"
      ]
     },
     "execution_count": 6,
     "metadata": {},
     "output_type": "execute_result"
    }
   ],
   "source": [
    "features.shape"
   ]
  },
  {
   "cell_type": "markdown",
   "metadata": {},
   "source": [
    "Обучим модель линейной регрессии для исходной матрицы признаков и рассчитаем метрику R2."
   ]
  },
  {
   "cell_type": "code",
   "execution_count": 7,
   "metadata": {},
   "outputs": [],
   "source": [
    "model = LinearRegression()\n",
    "model.fit(features, target)\n",
    "predictions = model.predict(features)\n",
    "initial_r2 = r2_score(target, predictions)"
   ]
  },
  {
   "cell_type": "markdown",
   "metadata": {},
   "source": [
    "Создадим случайную квадратную матрицу $P$ размером, равным ширине матрицы признаков features. Выведем матрицу на экран."
   ]
  },
  {
   "cell_type": "code",
   "execution_count": 8,
   "metadata": {},
   "outputs": [
    {
     "data": {
      "text/plain": [
       "array([[0.15420363, 0.75352295, 0.70505824, 0.58211924],\n",
       "       [0.0795655 , 0.88506067, 0.77001956, 0.32799892],\n",
       "       [0.30879119, 0.48405765, 0.05255135, 0.31744872],\n",
       "       [0.23749144, 0.77065356, 0.88968031, 0.83039584]])"
      ]
     },
     "metadata": {},
     "output_type": "display_data"
    }
   ],
   "source": [
    "matrix_P = np.random.rand(4,4)\n",
    "display(matrix_P)"
   ]
  },
  {
   "cell_type": "markdown",
   "metadata": {},
   "source": [
    "Проверим обратимость матрицы $P$."
   ]
  },
  {
   "cell_type": "code",
   "execution_count": 9,
   "metadata": {},
   "outputs": [
    {
     "data": {
      "text/plain": [
       "array([[-22.19995933,   6.9183142 ,   3.78843315,  11.38154862],\n",
       "       [  7.85683809,  -1.28085093,   0.3589444 ,  -5.13904951],\n",
       "       [-11.65375795,   4.40097584,  -0.36901606,   6.57217295],\n",
       "       [ 11.54331287,  -5.50509695,  -1.02124293,  -4.32290991]])"
      ]
     },
     "metadata": {},
     "output_type": "display_data"
    }
   ],
   "source": [
    "inv_matrix_P = inv(matrix_P)\n",
    "display(inv_matrix_P)"
   ]
  },
  {
   "cell_type": "markdown",
   "metadata": {},
   "source": [
    "Умножим матрицу признаков features на обратимую матрицу $P$. Обучим модель линейной регрессии для преобразованной матрицы признаков и рассчитаем метрику R2."
   ]
  },
  {
   "cell_type": "code",
   "execution_count": 10,
   "metadata": {},
   "outputs": [],
   "source": [
    "features_transform = features.dot(matrix_P)\n",
    "model.fit(features_transform, target)\n",
    "predictions = model.predict(features_transform)\n",
    "transform_r2 = r2_score(target, predictions)"
   ]
  },
  {
   "cell_type": "markdown",
   "metadata": {},
   "source": [
    "Выведем на экран и сравним качества модели до и после преобразования."
   ]
  },
  {
   "cell_type": "code",
   "execution_count": 11,
   "metadata": {},
   "outputs": [
    {
     "name": "stdout",
     "output_type": "stream",
     "text": [
      "Коэффициент детерминации R2 модели на исходных признаках: 0.42494550286668\n",
      "Коэффициент детерминации R2 модели на преобразованных признаках: 0.4249455028666739\n"
     ]
    }
   ],
   "source": [
    "print('Коэффициент детерминации R2 модели на исходных признаках:', initial_r2)\n",
    "print('Коэффициент детерминации R2 модели на преобразованных признаках:', transform_r2)"
   ]
  },
  {
   "cell_type": "markdown",
   "metadata": {},
   "source": [
    "### Вывод:\n",
    "Предложен алгоритм преобразования данных, благодаря которому сложно восстановить персональные данные клиентов страховой компании «Хоть потоп». Обоснована корректность его работы и показано, что после выполнения алгоритма преобразований качество модели линейной регрессии не ухудшилось. Коэффициент детерминации **R2** линейной регрессии до и после преобразование составляет **~0.425**."
   ]
  }
 ],
 "metadata": {
  "kernelspec": {
   "display_name": "Python 3",
   "language": "python",
   "name": "python3"
  },
  "language_info": {
   "codemirror_mode": {
    "name": "ipython",
    "version": 3
   },
   "file_extension": ".py",
   "mimetype": "text/x-python",
   "name": "python",
   "nbconvert_exporter": "python",
   "pygments_lexer": "ipython3",
   "version": "3.7.4"
  },
  "toc": {
   "base_numbering": 1,
   "nav_menu": {},
   "number_sections": true,
   "sideBar": true,
   "skip_h1_title": true,
   "title_cell": "Table of Contents",
   "title_sidebar": "Contents",
   "toc_cell": false,
   "toc_position": {},
   "toc_section_display": true,
   "toc_window_display": false
  }
 },
 "nbformat": 4,
 "nbformat_minor": 2
}
