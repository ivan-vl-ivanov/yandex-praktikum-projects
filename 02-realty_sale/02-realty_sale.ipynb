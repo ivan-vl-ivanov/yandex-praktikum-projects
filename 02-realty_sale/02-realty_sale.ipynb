{
 "cells": [
  {
   "cell_type": "markdown",
   "metadata": {},
   "source": [
    "## 1. Сохранение данных и изучение общей информации "
   ]
  },
  {
   "cell_type": "markdown",
   "metadata": {},
   "source": [
    "Первым шагом настроим окружение: импортируем все необходимые библиотеки.\n",
    "\n",
    "Просмотрим представленную информацию архива объявлений о продаже квартир в Санкт-Петербурге и области."
   ]
  },
  {
   "cell_type": "code",
   "execution_count": 1,
   "metadata": {},
   "outputs": [
    {
     "data": {
      "text/html": [
       "<div>\n",
       "<style scoped>\n",
       "    .dataframe tbody tr th:only-of-type {\n",
       "        vertical-align: middle;\n",
       "    }\n",
       "\n",
       "    .dataframe tbody tr th {\n",
       "        vertical-align: top;\n",
       "    }\n",
       "\n",
       "    .dataframe thead th {\n",
       "        text-align: right;\n",
       "    }\n",
       "</style>\n",
       "<table border=\"1\" class=\"dataframe\">\n",
       "  <thead>\n",
       "    <tr style=\"text-align: right;\">\n",
       "      <th></th>\n",
       "      <th>total_images</th>\n",
       "      <th>last_price</th>\n",
       "      <th>total_area</th>\n",
       "      <th>first_day_exposition</th>\n",
       "      <th>rooms</th>\n",
       "      <th>ceiling_height</th>\n",
       "      <th>floors_total</th>\n",
       "      <th>living_area</th>\n",
       "      <th>floor</th>\n",
       "      <th>is_apartment</th>\n",
       "      <th>...</th>\n",
       "      <th>kitchen_area</th>\n",
       "      <th>balcony</th>\n",
       "      <th>locality_name</th>\n",
       "      <th>airports_nearest</th>\n",
       "      <th>cityCenters_nearest</th>\n",
       "      <th>parks_around3000</th>\n",
       "      <th>parks_nearest</th>\n",
       "      <th>ponds_around3000</th>\n",
       "      <th>ponds_nearest</th>\n",
       "      <th>days_exposition</th>\n",
       "    </tr>\n",
       "  </thead>\n",
       "  <tbody>\n",
       "    <tr>\n",
       "      <td>0</td>\n",
       "      <td>20</td>\n",
       "      <td>13000000.0</td>\n",
       "      <td>108.00</td>\n",
       "      <td>2019-03-07T00:00:00</td>\n",
       "      <td>3</td>\n",
       "      <td>2.70</td>\n",
       "      <td>16.0</td>\n",
       "      <td>51.0</td>\n",
       "      <td>8</td>\n",
       "      <td>NaN</td>\n",
       "      <td>...</td>\n",
       "      <td>25.00</td>\n",
       "      <td>NaN</td>\n",
       "      <td>Санкт-Петербург</td>\n",
       "      <td>18863.0</td>\n",
       "      <td>16028.0</td>\n",
       "      <td>1.0</td>\n",
       "      <td>482.0</td>\n",
       "      <td>2.0</td>\n",
       "      <td>755.0</td>\n",
       "      <td>NaN</td>\n",
       "    </tr>\n",
       "    <tr>\n",
       "      <td>1</td>\n",
       "      <td>7</td>\n",
       "      <td>3350000.0</td>\n",
       "      <td>40.40</td>\n",
       "      <td>2018-12-04T00:00:00</td>\n",
       "      <td>1</td>\n",
       "      <td>NaN</td>\n",
       "      <td>11.0</td>\n",
       "      <td>18.6</td>\n",
       "      <td>1</td>\n",
       "      <td>NaN</td>\n",
       "      <td>...</td>\n",
       "      <td>11.00</td>\n",
       "      <td>2.0</td>\n",
       "      <td>посёлок Шушары</td>\n",
       "      <td>12817.0</td>\n",
       "      <td>18603.0</td>\n",
       "      <td>0.0</td>\n",
       "      <td>NaN</td>\n",
       "      <td>0.0</td>\n",
       "      <td>NaN</td>\n",
       "      <td>81.0</td>\n",
       "    </tr>\n",
       "    <tr>\n",
       "      <td>2</td>\n",
       "      <td>10</td>\n",
       "      <td>5196000.0</td>\n",
       "      <td>56.00</td>\n",
       "      <td>2015-08-20T00:00:00</td>\n",
       "      <td>2</td>\n",
       "      <td>NaN</td>\n",
       "      <td>5.0</td>\n",
       "      <td>34.3</td>\n",
       "      <td>4</td>\n",
       "      <td>NaN</td>\n",
       "      <td>...</td>\n",
       "      <td>8.30</td>\n",
       "      <td>0.0</td>\n",
       "      <td>Санкт-Петербург</td>\n",
       "      <td>21741.0</td>\n",
       "      <td>13933.0</td>\n",
       "      <td>1.0</td>\n",
       "      <td>90.0</td>\n",
       "      <td>2.0</td>\n",
       "      <td>574.0</td>\n",
       "      <td>558.0</td>\n",
       "    </tr>\n",
       "    <tr>\n",
       "      <td>3</td>\n",
       "      <td>0</td>\n",
       "      <td>64900000.0</td>\n",
       "      <td>159.00</td>\n",
       "      <td>2015-07-24T00:00:00</td>\n",
       "      <td>3</td>\n",
       "      <td>NaN</td>\n",
       "      <td>14.0</td>\n",
       "      <td>NaN</td>\n",
       "      <td>9</td>\n",
       "      <td>NaN</td>\n",
       "      <td>...</td>\n",
       "      <td>NaN</td>\n",
       "      <td>0.0</td>\n",
       "      <td>Санкт-Петербург</td>\n",
       "      <td>28098.0</td>\n",
       "      <td>6800.0</td>\n",
       "      <td>2.0</td>\n",
       "      <td>84.0</td>\n",
       "      <td>3.0</td>\n",
       "      <td>234.0</td>\n",
       "      <td>424.0</td>\n",
       "    </tr>\n",
       "    <tr>\n",
       "      <td>4</td>\n",
       "      <td>2</td>\n",
       "      <td>10000000.0</td>\n",
       "      <td>100.00</td>\n",
       "      <td>2018-06-19T00:00:00</td>\n",
       "      <td>2</td>\n",
       "      <td>3.03</td>\n",
       "      <td>14.0</td>\n",
       "      <td>32.0</td>\n",
       "      <td>13</td>\n",
       "      <td>NaN</td>\n",
       "      <td>...</td>\n",
       "      <td>41.00</td>\n",
       "      <td>NaN</td>\n",
       "      <td>Санкт-Петербург</td>\n",
       "      <td>31856.0</td>\n",
       "      <td>8098.0</td>\n",
       "      <td>2.0</td>\n",
       "      <td>112.0</td>\n",
       "      <td>1.0</td>\n",
       "      <td>48.0</td>\n",
       "      <td>121.0</td>\n",
       "    </tr>\n",
       "    <tr>\n",
       "      <td>...</td>\n",
       "      <td>...</td>\n",
       "      <td>...</td>\n",
       "      <td>...</td>\n",
       "      <td>...</td>\n",
       "      <td>...</td>\n",
       "      <td>...</td>\n",
       "      <td>...</td>\n",
       "      <td>...</td>\n",
       "      <td>...</td>\n",
       "      <td>...</td>\n",
       "      <td>...</td>\n",
       "      <td>...</td>\n",
       "      <td>...</td>\n",
       "      <td>...</td>\n",
       "      <td>...</td>\n",
       "      <td>...</td>\n",
       "      <td>...</td>\n",
       "      <td>...</td>\n",
       "      <td>...</td>\n",
       "      <td>...</td>\n",
       "      <td>...</td>\n",
       "    </tr>\n",
       "    <tr>\n",
       "      <td>23694</td>\n",
       "      <td>9</td>\n",
       "      <td>9700000.0</td>\n",
       "      <td>133.81</td>\n",
       "      <td>2017-03-21T00:00:00</td>\n",
       "      <td>3</td>\n",
       "      <td>3.70</td>\n",
       "      <td>5.0</td>\n",
       "      <td>73.3</td>\n",
       "      <td>3</td>\n",
       "      <td>NaN</td>\n",
       "      <td>...</td>\n",
       "      <td>13.83</td>\n",
       "      <td>NaN</td>\n",
       "      <td>Санкт-Петербург</td>\n",
       "      <td>24665.0</td>\n",
       "      <td>4232.0</td>\n",
       "      <td>1.0</td>\n",
       "      <td>796.0</td>\n",
       "      <td>3.0</td>\n",
       "      <td>381.0</td>\n",
       "      <td>NaN</td>\n",
       "    </tr>\n",
       "    <tr>\n",
       "      <td>23695</td>\n",
       "      <td>14</td>\n",
       "      <td>3100000.0</td>\n",
       "      <td>59.00</td>\n",
       "      <td>2018-01-15T00:00:00</td>\n",
       "      <td>3</td>\n",
       "      <td>NaN</td>\n",
       "      <td>5.0</td>\n",
       "      <td>38.0</td>\n",
       "      <td>4</td>\n",
       "      <td>NaN</td>\n",
       "      <td>...</td>\n",
       "      <td>8.50</td>\n",
       "      <td>NaN</td>\n",
       "      <td>Тосно</td>\n",
       "      <td>NaN</td>\n",
       "      <td>NaN</td>\n",
       "      <td>NaN</td>\n",
       "      <td>NaN</td>\n",
       "      <td>NaN</td>\n",
       "      <td>NaN</td>\n",
       "      <td>45.0</td>\n",
       "    </tr>\n",
       "    <tr>\n",
       "      <td>23696</td>\n",
       "      <td>18</td>\n",
       "      <td>2500000.0</td>\n",
       "      <td>56.70</td>\n",
       "      <td>2018-02-11T00:00:00</td>\n",
       "      <td>2</td>\n",
       "      <td>NaN</td>\n",
       "      <td>3.0</td>\n",
       "      <td>29.7</td>\n",
       "      <td>1</td>\n",
       "      <td>NaN</td>\n",
       "      <td>...</td>\n",
       "      <td>NaN</td>\n",
       "      <td>NaN</td>\n",
       "      <td>село Рождествено</td>\n",
       "      <td>NaN</td>\n",
       "      <td>NaN</td>\n",
       "      <td>NaN</td>\n",
       "      <td>NaN</td>\n",
       "      <td>NaN</td>\n",
       "      <td>NaN</td>\n",
       "      <td>NaN</td>\n",
       "    </tr>\n",
       "    <tr>\n",
       "      <td>23697</td>\n",
       "      <td>13</td>\n",
       "      <td>11475000.0</td>\n",
       "      <td>76.75</td>\n",
       "      <td>2017-03-28T00:00:00</td>\n",
       "      <td>2</td>\n",
       "      <td>3.00</td>\n",
       "      <td>17.0</td>\n",
       "      <td>NaN</td>\n",
       "      <td>12</td>\n",
       "      <td>NaN</td>\n",
       "      <td>...</td>\n",
       "      <td>23.30</td>\n",
       "      <td>2.0</td>\n",
       "      <td>Санкт-Петербург</td>\n",
       "      <td>39140.0</td>\n",
       "      <td>10364.0</td>\n",
       "      <td>2.0</td>\n",
       "      <td>173.0</td>\n",
       "      <td>3.0</td>\n",
       "      <td>196.0</td>\n",
       "      <td>602.0</td>\n",
       "    </tr>\n",
       "    <tr>\n",
       "      <td>23698</td>\n",
       "      <td>4</td>\n",
       "      <td>1350000.0</td>\n",
       "      <td>32.30</td>\n",
       "      <td>2017-07-21T00:00:00</td>\n",
       "      <td>1</td>\n",
       "      <td>2.50</td>\n",
       "      <td>5.0</td>\n",
       "      <td>12.3</td>\n",
       "      <td>1</td>\n",
       "      <td>NaN</td>\n",
       "      <td>...</td>\n",
       "      <td>9.00</td>\n",
       "      <td>NaN</td>\n",
       "      <td>поселок Новый Учхоз</td>\n",
       "      <td>NaN</td>\n",
       "      <td>NaN</td>\n",
       "      <td>NaN</td>\n",
       "      <td>NaN</td>\n",
       "      <td>NaN</td>\n",
       "      <td>NaN</td>\n",
       "      <td>NaN</td>\n",
       "    </tr>\n",
       "  </tbody>\n",
       "</table>\n",
       "<p>23699 rows × 22 columns</p>\n",
       "</div>"
      ],
      "text/plain": [
       "       total_images  last_price  total_area first_day_exposition  rooms  \\\n",
       "0                20  13000000.0      108.00  2019-03-07T00:00:00      3   \n",
       "1                 7   3350000.0       40.40  2018-12-04T00:00:00      1   \n",
       "2                10   5196000.0       56.00  2015-08-20T00:00:00      2   \n",
       "3                 0  64900000.0      159.00  2015-07-24T00:00:00      3   \n",
       "4                 2  10000000.0      100.00  2018-06-19T00:00:00      2   \n",
       "...             ...         ...         ...                  ...    ...   \n",
       "23694             9   9700000.0      133.81  2017-03-21T00:00:00      3   \n",
       "23695            14   3100000.0       59.00  2018-01-15T00:00:00      3   \n",
       "23696            18   2500000.0       56.70  2018-02-11T00:00:00      2   \n",
       "23697            13  11475000.0       76.75  2017-03-28T00:00:00      2   \n",
       "23698             4   1350000.0       32.30  2017-07-21T00:00:00      1   \n",
       "\n",
       "       ceiling_height  floors_total  living_area  floor is_apartment  ...  \\\n",
       "0                2.70          16.0         51.0      8          NaN  ...   \n",
       "1                 NaN          11.0         18.6      1          NaN  ...   \n",
       "2                 NaN           5.0         34.3      4          NaN  ...   \n",
       "3                 NaN          14.0          NaN      9          NaN  ...   \n",
       "4                3.03          14.0         32.0     13          NaN  ...   \n",
       "...               ...           ...          ...    ...          ...  ...   \n",
       "23694            3.70           5.0         73.3      3          NaN  ...   \n",
       "23695             NaN           5.0         38.0      4          NaN  ...   \n",
       "23696             NaN           3.0         29.7      1          NaN  ...   \n",
       "23697            3.00          17.0          NaN     12          NaN  ...   \n",
       "23698            2.50           5.0         12.3      1          NaN  ...   \n",
       "\n",
       "       kitchen_area  balcony        locality_name  airports_nearest  \\\n",
       "0             25.00      NaN      Санкт-Петербург           18863.0   \n",
       "1             11.00      2.0       посёлок Шушары           12817.0   \n",
       "2              8.30      0.0      Санкт-Петербург           21741.0   \n",
       "3               NaN      0.0      Санкт-Петербург           28098.0   \n",
       "4             41.00      NaN      Санкт-Петербург           31856.0   \n",
       "...             ...      ...                  ...               ...   \n",
       "23694         13.83      NaN      Санкт-Петербург           24665.0   \n",
       "23695          8.50      NaN                Тосно               NaN   \n",
       "23696           NaN      NaN     село Рождествено               NaN   \n",
       "23697         23.30      2.0      Санкт-Петербург           39140.0   \n",
       "23698          9.00      NaN  поселок Новый Учхоз               NaN   \n",
       "\n",
       "      cityCenters_nearest  parks_around3000  parks_nearest  ponds_around3000  \\\n",
       "0                 16028.0               1.0          482.0               2.0   \n",
       "1                 18603.0               0.0            NaN               0.0   \n",
       "2                 13933.0               1.0           90.0               2.0   \n",
       "3                  6800.0               2.0           84.0               3.0   \n",
       "4                  8098.0               2.0          112.0               1.0   \n",
       "...                   ...               ...            ...               ...   \n",
       "23694              4232.0               1.0          796.0               3.0   \n",
       "23695                 NaN               NaN            NaN               NaN   \n",
       "23696                 NaN               NaN            NaN               NaN   \n",
       "23697             10364.0               2.0          173.0               3.0   \n",
       "23698                 NaN               NaN            NaN               NaN   \n",
       "\n",
       "       ponds_nearest  days_exposition  \n",
       "0              755.0              NaN  \n",
       "1                NaN             81.0  \n",
       "2              574.0            558.0  \n",
       "3              234.0            424.0  \n",
       "4               48.0            121.0  \n",
       "...              ...              ...  \n",
       "23694          381.0              NaN  \n",
       "23695            NaN             45.0  \n",
       "23696            NaN              NaN  \n",
       "23697          196.0            602.0  \n",
       "23698            NaN              NaN  \n",
       "\n",
       "[23699 rows x 22 columns]"
      ]
     },
     "metadata": {},
     "output_type": "display_data"
    },
    {
     "name": "stdout",
     "output_type": "stream",
     "text": [
      "<class 'pandas.core.frame.DataFrame'>\n",
      "RangeIndex: 23699 entries, 0 to 23698\n",
      "Data columns (total 22 columns):\n",
      "total_images            23699 non-null int64\n",
      "last_price              23699 non-null float64\n",
      "total_area              23699 non-null float64\n",
      "first_day_exposition    23699 non-null object\n",
      "rooms                   23699 non-null int64\n",
      "ceiling_height          14504 non-null float64\n",
      "floors_total            23613 non-null float64\n",
      "living_area             21796 non-null float64\n",
      "floor                   23699 non-null int64\n",
      "is_apartment            2775 non-null object\n",
      "studio                  23699 non-null bool\n",
      "open_plan               23699 non-null bool\n",
      "kitchen_area            21421 non-null float64\n",
      "balcony                 12180 non-null float64\n",
      "locality_name           23650 non-null object\n",
      "airports_nearest        18157 non-null float64\n",
      "cityCenters_nearest     18180 non-null float64\n",
      "parks_around3000        18181 non-null float64\n",
      "parks_nearest           8079 non-null float64\n",
      "ponds_around3000        18181 non-null float64\n",
      "ponds_nearest           9110 non-null float64\n",
      "days_exposition         20518 non-null float64\n",
      "dtypes: bool(2), float64(14), int64(3), object(3)\n",
      "memory usage: 3.7+ MB\n"
     ]
    }
   ],
   "source": [
    "import pandas as pd\n",
    "import matplotlib.pyplot as plt\n",
    "import seaborn as sns\n",
    "from IPython.display import display\n",
    "\n",
    "realty_ya = pd.read_csv('/datasets/real_estate_data.csv', sep='\\t')\n",
    "display(realty_ya)\n",
    "realty_ya.info()"
   ]
  },
  {
   "cell_type": "markdown",
   "metadata": {},
   "source": [
    "### Вывод"
   ]
  },
  {
   "cell_type": "markdown",
   "metadata": {},
   "source": [
    "Архив объявлений о продаже квартир сервиса Яндекс.Недвижимость в Санкт-Петербурге и соседних населённых пунктах содержит данные 23699 объектов недвижимости, которые описываются 22 характеристиками. Для корректного исследования объявлений о продаже квартир массив данных требует обработки пропущенных значений и приведения к соответствующему типу данные даты публикации, этажности дома, является ли объект недвижимости апартаментами."
   ]
  },
  {
   "cell_type": "markdown",
   "metadata": {},
   "source": [
    "## 2. Предобработка данных"
   ]
  },
  {
   "cell_type": "markdown",
   "metadata": {},
   "source": [
    "Выявим в каких столбцах из представленного массива данных имеются пропуски и последовательно их обработаем. \n",
    "Создадим функцию для отображения доли пропущенных значений."
   ]
  },
  {
   "cell_type": "code",
   "execution_count": 2,
   "metadata": {},
   "outputs": [],
   "source": [
    "def missed_data_fraction(column):\n",
    "    NaN_fraction = realty_ya[column].isnull().sum() / len(realty_ya)\n",
    "    print('Доля пропущенных значений составляет: {:.1%}'.format(NaN_fraction))"
   ]
  },
  {
   "cell_type": "markdown",
   "metadata": {},
   "source": [
    "##### 2.1. Число балконов"
   ]
  },
  {
   "cell_type": "markdown",
   "metadata": {},
   "source": [
    "Предположим, если не указано число балконов, то вероятно их нет. Такие пропуски заменим на 0."
   ]
  },
  {
   "cell_type": "code",
   "execution_count": 3,
   "metadata": {},
   "outputs": [],
   "source": [
    "# заменяем пропуски в столбце \"число балконов\" нулями и переводим тип данных в целочисленный\n",
    "realty_ya['balcony'] = realty_ya['balcony'].fillna(0).astype('int')\n",
    "\n",
    "# проверяем работу методов\n",
    "#realty_ya.info()"
   ]
  },
  {
   "cell_type": "markdown",
   "metadata": {},
   "source": [
    "##### 2.2. Этажность дома"
   ]
  },
  {
   "cell_type": "code",
   "execution_count": 4,
   "metadata": {},
   "outputs": [],
   "source": [
    "# Просмотр строк с пропущенными значениями\n",
    "realty_ya[realty_ya['floors_total'].isnull()].head()\n",
    "\n",
    "# заменяем пропуски в столбце \"всего этажей в доме\" -1 и переводим тип данных в целочисленный\n",
    "realty_ya['floors_total'] = realty_ya['floors_total'].fillna(-1).astype('int')\n",
    "\n",
    "#realty_ya.info()"
   ]
  },
  {
   "cell_type": "markdown",
   "metadata": {},
   "source": [
    "##### 2.3. Высота потолков помещений\n",
    "Предположим, что высота потолков квартир зависит от серии проекта застройки жилых домов. Для каждой серии характерно конкретное количество этажей. Предлагается сгруппировать данные по количеству этажей и для каждой группы найти медианное значение высоты потолков. Далее заменим пропущенные значения в столбце на соответствующие медианы. "
   ]
  },
  {
   "cell_type": "code",
   "execution_count": 5,
   "metadata": {},
   "outputs": [
    {
     "data": {
      "text/html": [
       "<div>\n",
       "<style scoped>\n",
       "    .dataframe tbody tr th:only-of-type {\n",
       "        vertical-align: middle;\n",
       "    }\n",
       "\n",
       "    .dataframe tbody tr th {\n",
       "        vertical-align: top;\n",
       "    }\n",
       "\n",
       "    .dataframe thead th {\n",
       "        text-align: right;\n",
       "    }\n",
       "</style>\n",
       "<table border=\"1\" class=\"dataframe\">\n",
       "  <thead>\n",
       "    <tr style=\"text-align: right;\">\n",
       "      <th></th>\n",
       "      <th>total_images</th>\n",
       "      <th>last_price</th>\n",
       "      <th>total_area</th>\n",
       "      <th>first_day_exposition</th>\n",
       "      <th>rooms</th>\n",
       "      <th>ceiling_height</th>\n",
       "      <th>floors_total</th>\n",
       "      <th>living_area</th>\n",
       "      <th>floor</th>\n",
       "      <th>is_apartment</th>\n",
       "      <th>...</th>\n",
       "      <th>kitchen_area</th>\n",
       "      <th>balcony</th>\n",
       "      <th>locality_name</th>\n",
       "      <th>airports_nearest</th>\n",
       "      <th>cityCenters_nearest</th>\n",
       "      <th>parks_around3000</th>\n",
       "      <th>parks_nearest</th>\n",
       "      <th>ponds_around3000</th>\n",
       "      <th>ponds_nearest</th>\n",
       "      <th>days_exposition</th>\n",
       "    </tr>\n",
       "  </thead>\n",
       "  <tbody>\n",
       "    <tr>\n",
       "      <td>0</td>\n",
       "      <td>20</td>\n",
       "      <td>13000000.0</td>\n",
       "      <td>108.0</td>\n",
       "      <td>2019-03-07T00:00:00</td>\n",
       "      <td>3</td>\n",
       "      <td>2.70</td>\n",
       "      <td>16</td>\n",
       "      <td>51.0</td>\n",
       "      <td>8</td>\n",
       "      <td>NaN</td>\n",
       "      <td>...</td>\n",
       "      <td>25.0</td>\n",
       "      <td>0</td>\n",
       "      <td>Санкт-Петербург</td>\n",
       "      <td>18863.0</td>\n",
       "      <td>16028.0</td>\n",
       "      <td>1.0</td>\n",
       "      <td>482.0</td>\n",
       "      <td>2.0</td>\n",
       "      <td>755.0</td>\n",
       "      <td>NaN</td>\n",
       "    </tr>\n",
       "    <tr>\n",
       "      <td>1</td>\n",
       "      <td>7</td>\n",
       "      <td>3350000.0</td>\n",
       "      <td>40.4</td>\n",
       "      <td>2018-12-04T00:00:00</td>\n",
       "      <td>1</td>\n",
       "      <td>2.75</td>\n",
       "      <td>11</td>\n",
       "      <td>18.6</td>\n",
       "      <td>1</td>\n",
       "      <td>NaN</td>\n",
       "      <td>...</td>\n",
       "      <td>11.0</td>\n",
       "      <td>2</td>\n",
       "      <td>посёлок Шушары</td>\n",
       "      <td>12817.0</td>\n",
       "      <td>18603.0</td>\n",
       "      <td>0.0</td>\n",
       "      <td>NaN</td>\n",
       "      <td>0.0</td>\n",
       "      <td>NaN</td>\n",
       "      <td>81.0</td>\n",
       "    </tr>\n",
       "    <tr>\n",
       "      <td>2</td>\n",
       "      <td>10</td>\n",
       "      <td>5196000.0</td>\n",
       "      <td>56.0</td>\n",
       "      <td>2015-08-20T00:00:00</td>\n",
       "      <td>2</td>\n",
       "      <td>2.55</td>\n",
       "      <td>5</td>\n",
       "      <td>34.3</td>\n",
       "      <td>4</td>\n",
       "      <td>NaN</td>\n",
       "      <td>...</td>\n",
       "      <td>8.3</td>\n",
       "      <td>0</td>\n",
       "      <td>Санкт-Петербург</td>\n",
       "      <td>21741.0</td>\n",
       "      <td>13933.0</td>\n",
       "      <td>1.0</td>\n",
       "      <td>90.0</td>\n",
       "      <td>2.0</td>\n",
       "      <td>574.0</td>\n",
       "      <td>558.0</td>\n",
       "    </tr>\n",
       "    <tr>\n",
       "      <td>3</td>\n",
       "      <td>0</td>\n",
       "      <td>64900000.0</td>\n",
       "      <td>159.0</td>\n",
       "      <td>2015-07-24T00:00:00</td>\n",
       "      <td>3</td>\n",
       "      <td>2.60</td>\n",
       "      <td>14</td>\n",
       "      <td>NaN</td>\n",
       "      <td>9</td>\n",
       "      <td>NaN</td>\n",
       "      <td>...</td>\n",
       "      <td>NaN</td>\n",
       "      <td>0</td>\n",
       "      <td>Санкт-Петербург</td>\n",
       "      <td>28098.0</td>\n",
       "      <td>6800.0</td>\n",
       "      <td>2.0</td>\n",
       "      <td>84.0</td>\n",
       "      <td>3.0</td>\n",
       "      <td>234.0</td>\n",
       "      <td>424.0</td>\n",
       "    </tr>\n",
       "    <tr>\n",
       "      <td>4</td>\n",
       "      <td>2</td>\n",
       "      <td>10000000.0</td>\n",
       "      <td>100.0</td>\n",
       "      <td>2018-06-19T00:00:00</td>\n",
       "      <td>2</td>\n",
       "      <td>3.03</td>\n",
       "      <td>14</td>\n",
       "      <td>32.0</td>\n",
       "      <td>13</td>\n",
       "      <td>NaN</td>\n",
       "      <td>...</td>\n",
       "      <td>41.0</td>\n",
       "      <td>0</td>\n",
       "      <td>Санкт-Петербург</td>\n",
       "      <td>31856.0</td>\n",
       "      <td>8098.0</td>\n",
       "      <td>2.0</td>\n",
       "      <td>112.0</td>\n",
       "      <td>1.0</td>\n",
       "      <td>48.0</td>\n",
       "      <td>121.0</td>\n",
       "    </tr>\n",
       "  </tbody>\n",
       "</table>\n",
       "<p>5 rows × 22 columns</p>\n",
       "</div>"
      ],
      "text/plain": [
       "   total_images  last_price  total_area first_day_exposition  rooms  \\\n",
       "0            20  13000000.0       108.0  2019-03-07T00:00:00      3   \n",
       "1             7   3350000.0        40.4  2018-12-04T00:00:00      1   \n",
       "2            10   5196000.0        56.0  2015-08-20T00:00:00      2   \n",
       "3             0  64900000.0       159.0  2015-07-24T00:00:00      3   \n",
       "4             2  10000000.0       100.0  2018-06-19T00:00:00      2   \n",
       "\n",
       "   ceiling_height  floors_total  living_area  floor is_apartment  ...  \\\n",
       "0            2.70            16         51.0      8          NaN  ...   \n",
       "1            2.75            11         18.6      1          NaN  ...   \n",
       "2            2.55             5         34.3      4          NaN  ...   \n",
       "3            2.60            14          NaN      9          NaN  ...   \n",
       "4            3.03            14         32.0     13          NaN  ...   \n",
       "\n",
       "   kitchen_area  balcony    locality_name  airports_nearest  \\\n",
       "0          25.0        0  Санкт-Петербург           18863.0   \n",
       "1          11.0        2   посёлок Шушары           12817.0   \n",
       "2           8.3        0  Санкт-Петербург           21741.0   \n",
       "3           NaN        0  Санкт-Петербург           28098.0   \n",
       "4          41.0        0  Санкт-Петербург           31856.0   \n",
       "\n",
       "  cityCenters_nearest  parks_around3000  parks_nearest  ponds_around3000  \\\n",
       "0             16028.0               1.0          482.0               2.0   \n",
       "1             18603.0               0.0            NaN               0.0   \n",
       "2             13933.0               1.0           90.0               2.0   \n",
       "3              6800.0               2.0           84.0               3.0   \n",
       "4              8098.0               2.0          112.0               1.0   \n",
       "\n",
       "   ponds_nearest  days_exposition  \n",
       "0          755.0              NaN  \n",
       "1            NaN             81.0  \n",
       "2          574.0            558.0  \n",
       "3          234.0            424.0  \n",
       "4           48.0            121.0  \n",
       "\n",
       "[5 rows x 22 columns]"
      ]
     },
     "metadata": {},
     "output_type": "display_data"
    },
    {
     "name": "stdout",
     "output_type": "stream",
     "text": [
      "False    23698\n",
      "True         1\n",
      "Name: ceiling_height, dtype: int64\n",
      "       total_images  last_price  total_area first_day_exposition  rooms  \\\n",
      "11575             9   9900000.0       101.0  2016-04-28T00:00:00      3   \n",
      "\n",
      "       ceiling_height  floors_total  living_area  floor is_apartment  ...  \\\n",
      "11575             NaN            33         53.0     32        False  ...   \n",
      "\n",
      "       kitchen_area  balcony    locality_name  airports_nearest  \\\n",
      "11575          21.0        0  Санкт-Петербург           18732.0   \n",
      "\n",
      "      cityCenters_nearest  parks_around3000  parks_nearest  ponds_around3000  \\\n",
      "11575             20444.0               0.0            NaN               3.0   \n",
      "\n",
      "       ponds_nearest  days_exposition  \n",
      "11575           80.0             53.0  \n",
      "\n",
      "[1 rows x 22 columns]\n"
     ]
    }
   ],
   "source": [
    "# заполняем пропущенные данные в столбце \"высота потолков\" на медиану,\n",
    "# сгруппировав данные по этажности дома\n",
    "realty_ya['ceiling_height'] = realty_ya['ceiling_height']. \\\n",
    "fillna(realty_ya.groupby('floors_total')['ceiling_height'].transform('median'))\n",
    "\n",
    "# вывод первых строк массива для проверки корректности выполнения метода \n",
    "display(realty_ya.head())\n",
    "print(realty_ya['ceiling_height'].isna().value_counts())\n",
    "\n",
    "# одно значение NaN не заполнилось медианой, просмотр строки на предмет удаления\n",
    "print(realty_ya[realty_ya['ceiling_height'].isnull()])\n",
    "\n",
    "# удаление строки, поскольку квартиры 33-этажном в доме не присутствую в данной выборке\n",
    "realty_ya.dropna(subset = ['ceiling_height'], inplace = True)"
   ]
  },
  {
   "cell_type": "markdown",
   "metadata": {},
   "source": [
    "##### 2.4. Жилая площадь помещений"
   ]
  },
  {
   "cell_type": "code",
   "execution_count": 6,
   "metadata": {},
   "outputs": [
    {
     "name": "stdout",
     "output_type": "stream",
     "text": [
      "Доля пропущенных значений составляет: 8.0%\n"
     ]
    }
   ],
   "source": [
    "# рассчитаем долю пропущенных значений\n",
    "missed_data_fraction('living_area')"
   ]
  },
  {
   "cell_type": "markdown",
   "metadata": {},
   "source": [
    "Для пропущенных значений в категории жилой площади помещений нет подходящего значения для заполнения. Необходимо уточнять информацию у отдела, отвечающего за сбор данных, либо по крайней мере знать, какого года постройки дом, чтобы примерно оценить типичную жилую площадь помещений для каждой серии жилых строений. Оставим пропуски без изменений, так как доля пропущенных значений составляет **8.0%**, удаление строк повлечет за собой уменьшение объема интересующих нас данных других характеристик объявлений."
   ]
  },
  {
   "cell_type": "markdown",
   "metadata": {},
   "source": [
    "##### 2.5. Площадь кухни"
   ]
  },
  {
   "cell_type": "markdown",
   "metadata": {},
   "source": [
    "Для квартир-студий нет чёткого разделения на жилую площадь и площадь кухни, поэтому заменим соответствующие пропуски нулями."
   ]
  },
  {
   "cell_type": "code",
   "execution_count": 7,
   "metadata": {},
   "outputs": [
    {
     "name": "stdout",
     "output_type": "stream",
     "text": [
      "Доля пропущенных значений составляет: 9.0%\n"
     ]
    }
   ],
   "source": [
    "# для квартир-студий заполним пропущенные значения нулями\n",
    "realty_ya.loc[realty_ya['studio'] == True, 'kitchen_area'] = 0\n",
    "\n",
    "# рассчитаем долю пропусков в данных\n",
    "missed_data_fraction('kitchen_area')"
   ]
  },
  {
   "cell_type": "markdown",
   "metadata": {},
   "source": [
    "Оставшиеся пропущенные значения, как и в случае с жилой площадь помещений, затруднительно заполнить корректными данными, кроме того их доля велика (**9.0%**). Поэтому отсутствующие данные не обрабатывались."
   ]
  },
  {
   "cell_type": "markdown",
   "metadata": {},
   "source": [
    "##### 2.6. Тип помещения: апартаменты/квартира"
   ]
  },
  {
   "cell_type": "markdown",
   "metadata": {},
   "source": [
    "Предположим, что если в объявлении о продаже не указан тип помещения - апартаменты, то недвижимость относится к типу - квартира. Заменим соответствующие пропущенные значения на False."
   ]
  },
  {
   "cell_type": "code",
   "execution_count": 8,
   "metadata": {},
   "outputs": [
    {
     "name": "stdout",
     "output_type": "stream",
     "text": [
      "False    2724\n",
      "True       50\n",
      "Name: is_apartment, dtype: int64\n"
     ]
    }
   ],
   "source": [
    "print(realty_ya['is_apartment'].value_counts())\n",
    "\n",
    "realty_ya['is_apartment'] = realty_ya['is_apartment'].fillna(value = False)"
   ]
  },
  {
   "cell_type": "markdown",
   "metadata": {},
   "source": [
    "##### 2.7. Название населенного пункта"
   ]
  },
  {
   "cell_type": "markdown",
   "metadata": {},
   "source": [
    "На основании представленных данных мы не можем с уверенностью судить, к какому городу относятся данные с пропущенными значениями. Поскольку доля пропущенных значений незначительна (**0.2%**), принято решение удалить строки с пропусками."
   ]
  },
  {
   "cell_type": "code",
   "execution_count": 9,
   "metadata": {},
   "outputs": [
    {
     "name": "stdout",
     "output_type": "stream",
     "text": [
      "Доля пропущенных значений составляет: 0.2%\n"
     ]
    }
   ],
   "source": [
    "missed_data_fraction('locality_name')\n",
    "\n",
    "# удаляем пропуски в столбце \"locality_name\"\n",
    "realty_ya.dropna(subset = ['locality_name'], inplace = True)"
   ]
  },
  {
   "cell_type": "markdown",
   "metadata": {},
   "source": [
    "##### 2.8. Расстояние до центра населенного пункта"
   ]
  },
  {
   "cell_type": "markdown",
   "metadata": {},
   "source": [
    "Для анализа зависимости цены квартиры от удаленности от центра нас интересуют только данные, предоставленные для Санкт-Петербурга. Изучим и обработаем пропущенные данные, относящиеся к северной столице. Доля пропущенных значений для СПб незначительная (**0.3%**), на результат исследования влиять не будет, поэтому в массиве данных удалены соответствующие строки."
   ]
  },
  {
   "cell_type": "code",
   "execution_count": 10,
   "metadata": {},
   "outputs": [
    {
     "name": "stdout",
     "output_type": "stream",
     "text": [
      "Доля пропущенных значений составляет: 0.3%\n"
     ]
    }
   ],
   "source": [
    "# рассчитаем долю пропущенных значений расстояния до центра для Санкт-Петербурга\n",
    "NaN_Spb_fraction = (len(realty_ya[(realty_ya['cityCenters_nearest'].isnull()) \\\n",
    "                & (realty_ya['locality_name'] == 'Санкт-Петербург')])) / len(realty_ya)\n",
    "print('Доля пропущенных значений составляет: {:.1%}'.format(NaN_Spb_fraction))\n",
    "\n",
    "# удалим пропуски\n",
    "index_names = realty_ya[ (realty_ya['cityCenters_nearest'].isnull()) & (realty_ya['locality_name'] == 'Санкт-Петербург')].index\n",
    "realty_ya.drop(index_names, inplace = True)"
   ]
  },
  {
   "cell_type": "markdown",
   "metadata": {},
   "source": [
    "##### 2.9. Расстояние до ближайшего аэропорта, число парков в радиусе 3 км, расстояние до ближайшего парка, число водоёмов в радиусе 3 км, расстояние до ближайшего водоёма.\n",
    "Данные представленных столбцов не учитываются в исследовании объявлений о продаже квартир. Имеющиеся пропущенные значения не обрабатывались. "
   ]
  },
  {
   "cell_type": "markdown",
   "metadata": {},
   "source": [
    "##### 2.10. Дата публикации объявления\n",
    "Переведем значения в столбце \"дата публикации\" в формат даты."
   ]
  },
  {
   "cell_type": "code",
   "execution_count": 11,
   "metadata": {},
   "outputs": [],
   "source": [
    "realty_ya['first_day_exposition'] = \\\n",
    "pd.to_datetime(realty_ya['first_day_exposition'], format = '%Y-%m-%dT%H:%M:%S')\n",
    "#realty_ya.info()"
   ]
  },
  {
   "cell_type": "markdown",
   "metadata": {},
   "source": [
    "##### 2.11. Длительность размещения объявления\n",
    "Посчитаем долю пропущенных значений и заменим пропуски на медиану. Далее заменим тип данных на целочисленный."
   ]
  },
  {
   "cell_type": "code",
   "execution_count": 12,
   "metadata": {},
   "outputs": [
    {
     "name": "stdout",
     "output_type": "stream",
     "text": [
      "Доля пропущенных значений составляет: 13.3%\n"
     ]
    }
   ],
   "source": [
    "# рассчитаем долю пропущенных значений\n",
    "missed_data_fraction('days_exposition')\n",
    "\n",
    "# расчет медианы столбца \"days_exposition\" и замена пропущенных значений в столбце, соответственно\n",
    "days_exp_median = realty_ya['days_exposition'].median()\n",
    "realty_ya['days_exposition'] = realty_ya['days_exposition'].fillna(value = days_exp_median)\n",
    "\n",
    "# заменим тип данных на целочисленный\n",
    "realty_ya['days_exposition'] = realty_ya['days_exposition'].astype('int')"
   ]
  },
  {
   "cell_type": "markdown",
   "metadata": {},
   "source": [
    "##### 2.12. Число комнат\n",
    "Проверим, к какому числу комнат в наборе данных отнесена категория \"студии\". Просмотрим какие имеются уникальные значения и посчитаем их количество методом value_counts()."
   ]
  },
  {
   "cell_type": "code",
   "execution_count": 13,
   "metadata": {},
   "outputs": [
    {
     "data": {
      "text/plain": [
       "0    138\n",
       "1     11\n",
       "Name: rooms, dtype: int64"
      ]
     },
     "execution_count": 13,
     "metadata": {},
     "output_type": "execute_result"
    }
   ],
   "source": [
    "realty_ya[realty_ya['studio'] == True]['rooms'].value_counts()"
   ]
  },
  {
   "cell_type": "markdown",
   "metadata": {},
   "source": [
    "Примем, что в случае объявлений по продаже квартир-студий количество комнат будем считать равным нулю. Обобщим данные."
   ]
  },
  {
   "cell_type": "code",
   "execution_count": 14,
   "metadata": {},
   "outputs": [],
   "source": [
    "realty_ya.loc[realty_ya['studio'] == True, 'rooms'] = 0\n",
    "#realty_ya[realty_ya['studio'] == True]['rooms'].value_counts()"
   ]
  },
  {
   "cell_type": "markdown",
   "metadata": {},
   "source": [
    "***Просморим информацию о наборе данных после всех преобразований.***"
   ]
  },
  {
   "cell_type": "code",
   "execution_count": 15,
   "metadata": {},
   "outputs": [
    {
     "name": "stdout",
     "output_type": "stream",
     "text": [
      "<class 'pandas.core.frame.DataFrame'>\n",
      "Int64Index: 23588 entries, 0 to 23698\n",
      "Data columns (total 22 columns):\n",
      "total_images            23588 non-null int64\n",
      "last_price              23588 non-null float64\n",
      "total_area              23588 non-null float64\n",
      "first_day_exposition    23588 non-null datetime64[ns]\n",
      "rooms                   23588 non-null int64\n",
      "ceiling_height          23588 non-null float64\n",
      "floors_total            23588 non-null int64\n",
      "living_area             21706 non-null float64\n",
      "floor                   23588 non-null int64\n",
      "is_apartment            23588 non-null bool\n",
      "studio                  23588 non-null bool\n",
      "open_plan               23588 non-null bool\n",
      "kitchen_area            21484 non-null float64\n",
      "balcony                 23588 non-null int64\n",
      "locality_name           23588 non-null object\n",
      "airports_nearest        18115 non-null float64\n",
      "cityCenters_nearest     18138 non-null float64\n",
      "parks_around3000        18139 non-null float64\n",
      "parks_nearest           8064 non-null float64\n",
      "ponds_around3000        18139 non-null float64\n",
      "ponds_nearest           9084 non-null float64\n",
      "days_exposition         23588 non-null int64\n",
      "dtypes: bool(3), datetime64[ns](1), float64(11), int64(6), object(1)\n",
      "memory usage: 3.7+ MB\n"
     ]
    }
   ],
   "source": [
    "realty_ya.info()"
   ]
  },
  {
   "cell_type": "markdown",
   "metadata": {},
   "source": [
    "### Вывод\n",
    "Изучена информация архива объявлений сервиса Яндекс.Недвижимость о продаже квартир в Санкт-Петербурге и соседних населённых пунктах.\n",
    "###### 1. Данные даты публикации объявления о продаже переведены в формат даты.\n",
    "###### 2. Выявлены и изучены пропущенные значения в столбцах:\n",
    "   - *`Число балконов.`* Пропуски заменены на 0. Вещественный тип данных изменен на целочисленный;\n",
    "   - *`Всего этажей в доме.`* Пропущенные значения не заполнялись, так как подходящего значения на замену нет;\n",
    "   - *`Высота потолков помещения.`* Отсутствующие данные в строках заполнены медианами для сгруппированных данных по общему количеству этажей. Такой метод заполнения был выбран исходя их предположения, что высота потолков связана с типовой серией домов, которая косвенно согласуется с количеством этажей;\n",
    "   - *`Жилая площадь помещения в квадратных метрах.`* Доля пропущенных значений составляет **8.0%**. Отсутствующие данные не обрабатывались, так как затруднительно с достаточной точностью оценить среднюю площадь жилых помещений и заполнить пропуски соответствующими значениями. В то же время доля пропусков велика и удаление строк приведет к снижению данных выборки для других признаков квартир, которые участвуют в анализе.\n",
    "   - *`Площадь кухни в квадратных метрах.`* Для квартир-студий пропущенные значения заполнены нулями, так как в таком типе квартир нет разделения на жилую площадь и площадь кухни;\n",
    "   - *`Тип помещения: апартаменты/квартира.`* Пропущенные значения заменены на False на основании предположения, что пропуски относятся к типу - квартира;\n",
    "   - *`Название населённого пункта.`* Доля строк с пропущенными значениями составляет ***0.2%***, принято решение удалить эти строки;\n",
    "   - *`Расстояние до центра города.`* Для анализа нас интересуют только данные для Санкт-Петербурга. Пропущенные значения в данных составляют **0.3%**, строки с пропущенными значениями расстояния до центра Петербурга удалены;\n",
    "   - *`Расстояние до ближайшего аэропорта, число парков в радиусе 3 км, расстояние до ближайшего парка, число водоёмов в радиусе 3 км, расстояние до ближайшего водоёма.`* Данные не рассматриваются в дальнейшем для исследовательского анализа данных и остались без изменений;\n",
    "   - *`Длительность размещения объявления.`* Доля пропущенных значений длительности размещения объявления составляет ***13.5%***. Пропуски заменены на медиану и далее тип данных заменен на целочисленный;\n",
    "   - *`Число комнат в квартире.`* Для квартир-студий установили число комнат равными нулю."
   ]
  },
  {
   "cell_type": "markdown",
   "metadata": {},
   "source": [
    "## 3. Расчет параметров и дополнение данных таблицы"
   ]
  },
  {
   "cell_type": "markdown",
   "metadata": {},
   "source": [
    "###### 3.1. Добавим в таблицу столбец со стоимостью 1 квадратного метра."
   ]
  },
  {
   "cell_type": "code",
   "execution_count": 16,
   "metadata": {},
   "outputs": [],
   "source": [
    "realty_ya['price_per_m2'] = (realty_ya['last_price'] / realty_ya['total_area']).round(decimals = 1)"
   ]
  },
  {
   "cell_type": "markdown",
   "metadata": {},
   "source": [
    "###### 3.2. Добавим в таблицу столбцы: день недели, месяц, год публикации объявления о продаже."
   ]
  },
  {
   "cell_type": "code",
   "execution_count": 17,
   "metadata": {},
   "outputs": [],
   "source": [
    "realty_ya['weekday'] = realty_ya['first_day_exposition'].dt.weekday\n",
    "realty_ya['month'] = realty_ya['first_day_exposition'].dt.month\n",
    "realty_ya['year'] = realty_ya['first_day_exposition'].dt.year"
   ]
  },
  {
   "cell_type": "markdown",
   "metadata": {},
   "source": [
    "###### 3.3. Добавим столбец с этажом квартиры: первый, последний, другой"
   ]
  },
  {
   "cell_type": "code",
   "execution_count": 18,
   "metadata": {},
   "outputs": [],
   "source": [
    "def what_floor(row):\n",
    "    if row['floor'] == 1:\n",
    "        return 'Первый'\n",
    "    if row['floor'] == row['floors_total']:\n",
    "        return 'Последний'\n",
    "    else:\n",
    "        return 'Другой'\n",
    "\n",
    "    \n",
    "realty_ya['floor_group'] = realty_ya.apply(what_floor, axis=1)"
   ]
  },
  {
   "cell_type": "markdown",
   "metadata": {},
   "source": [
    "###### 3.4. Рассчитаем и добавим в таблицу столбцы с соотношением жилой и общей площади, а также отношением площади кухни к общей, соответственно."
   ]
  },
  {
   "cell_type": "code",
   "execution_count": 19,
   "metadata": {},
   "outputs": [
    {
     "data": {
      "text/html": [
       "<div>\n",
       "<style scoped>\n",
       "    .dataframe tbody tr th:only-of-type {\n",
       "        vertical-align: middle;\n",
       "    }\n",
       "\n",
       "    .dataframe tbody tr th {\n",
       "        vertical-align: top;\n",
       "    }\n",
       "\n",
       "    .dataframe thead th {\n",
       "        text-align: right;\n",
       "    }\n",
       "</style>\n",
       "<table border=\"1\" class=\"dataframe\">\n",
       "  <thead>\n",
       "    <tr style=\"text-align: right;\">\n",
       "      <th></th>\n",
       "      <th>total_images</th>\n",
       "      <th>last_price</th>\n",
       "      <th>total_area</th>\n",
       "      <th>first_day_exposition</th>\n",
       "      <th>rooms</th>\n",
       "      <th>ceiling_height</th>\n",
       "      <th>floors_total</th>\n",
       "      <th>living_area</th>\n",
       "      <th>floor</th>\n",
       "      <th>is_apartment</th>\n",
       "      <th>...</th>\n",
       "      <th>ponds_around3000</th>\n",
       "      <th>ponds_nearest</th>\n",
       "      <th>days_exposition</th>\n",
       "      <th>price_per_m2</th>\n",
       "      <th>weekday</th>\n",
       "      <th>month</th>\n",
       "      <th>year</th>\n",
       "      <th>floor_group</th>\n",
       "      <th>living_area_part</th>\n",
       "      <th>kitchen_area_part</th>\n",
       "    </tr>\n",
       "  </thead>\n",
       "  <tbody>\n",
       "    <tr>\n",
       "      <td>0</td>\n",
       "      <td>20</td>\n",
       "      <td>13000000.0</td>\n",
       "      <td>108.0</td>\n",
       "      <td>2019-03-07</td>\n",
       "      <td>3</td>\n",
       "      <td>2.70</td>\n",
       "      <td>16</td>\n",
       "      <td>51.0</td>\n",
       "      <td>8</td>\n",
       "      <td>False</td>\n",
       "      <td>...</td>\n",
       "      <td>2.0</td>\n",
       "      <td>755.0</td>\n",
       "      <td>95</td>\n",
       "      <td>120370.4</td>\n",
       "      <td>3</td>\n",
       "      <td>3</td>\n",
       "      <td>2019</td>\n",
       "      <td>Другой</td>\n",
       "      <td>0.47</td>\n",
       "      <td>0.23</td>\n",
       "    </tr>\n",
       "    <tr>\n",
       "      <td>1</td>\n",
       "      <td>7</td>\n",
       "      <td>3350000.0</td>\n",
       "      <td>40.4</td>\n",
       "      <td>2018-12-04</td>\n",
       "      <td>1</td>\n",
       "      <td>2.75</td>\n",
       "      <td>11</td>\n",
       "      <td>18.6</td>\n",
       "      <td>1</td>\n",
       "      <td>False</td>\n",
       "      <td>...</td>\n",
       "      <td>0.0</td>\n",
       "      <td>NaN</td>\n",
       "      <td>81</td>\n",
       "      <td>82920.8</td>\n",
       "      <td>1</td>\n",
       "      <td>12</td>\n",
       "      <td>2018</td>\n",
       "      <td>Первый</td>\n",
       "      <td>0.46</td>\n",
       "      <td>0.27</td>\n",
       "    </tr>\n",
       "    <tr>\n",
       "      <td>2</td>\n",
       "      <td>10</td>\n",
       "      <td>5196000.0</td>\n",
       "      <td>56.0</td>\n",
       "      <td>2015-08-20</td>\n",
       "      <td>2</td>\n",
       "      <td>2.55</td>\n",
       "      <td>5</td>\n",
       "      <td>34.3</td>\n",
       "      <td>4</td>\n",
       "      <td>False</td>\n",
       "      <td>...</td>\n",
       "      <td>2.0</td>\n",
       "      <td>574.0</td>\n",
       "      <td>558</td>\n",
       "      <td>92785.7</td>\n",
       "      <td>3</td>\n",
       "      <td>8</td>\n",
       "      <td>2015</td>\n",
       "      <td>Другой</td>\n",
       "      <td>0.61</td>\n",
       "      <td>0.15</td>\n",
       "    </tr>\n",
       "    <tr>\n",
       "      <td>3</td>\n",
       "      <td>0</td>\n",
       "      <td>64900000.0</td>\n",
       "      <td>159.0</td>\n",
       "      <td>2015-07-24</td>\n",
       "      <td>3</td>\n",
       "      <td>2.60</td>\n",
       "      <td>14</td>\n",
       "      <td>NaN</td>\n",
       "      <td>9</td>\n",
       "      <td>False</td>\n",
       "      <td>...</td>\n",
       "      <td>3.0</td>\n",
       "      <td>234.0</td>\n",
       "      <td>424</td>\n",
       "      <td>408176.1</td>\n",
       "      <td>4</td>\n",
       "      <td>7</td>\n",
       "      <td>2015</td>\n",
       "      <td>Другой</td>\n",
       "      <td>NaN</td>\n",
       "      <td>NaN</td>\n",
       "    </tr>\n",
       "    <tr>\n",
       "      <td>4</td>\n",
       "      <td>2</td>\n",
       "      <td>10000000.0</td>\n",
       "      <td>100.0</td>\n",
       "      <td>2018-06-19</td>\n",
       "      <td>2</td>\n",
       "      <td>3.03</td>\n",
       "      <td>14</td>\n",
       "      <td>32.0</td>\n",
       "      <td>13</td>\n",
       "      <td>False</td>\n",
       "      <td>...</td>\n",
       "      <td>1.0</td>\n",
       "      <td>48.0</td>\n",
       "      <td>121</td>\n",
       "      <td>100000.0</td>\n",
       "      <td>1</td>\n",
       "      <td>6</td>\n",
       "      <td>2018</td>\n",
       "      <td>Другой</td>\n",
       "      <td>0.32</td>\n",
       "      <td>0.41</td>\n",
       "    </tr>\n",
       "  </tbody>\n",
       "</table>\n",
       "<p>5 rows × 29 columns</p>\n",
       "</div>"
      ],
      "text/plain": [
       "   total_images  last_price  total_area first_day_exposition  rooms  \\\n",
       "0            20  13000000.0       108.0           2019-03-07      3   \n",
       "1             7   3350000.0        40.4           2018-12-04      1   \n",
       "2            10   5196000.0        56.0           2015-08-20      2   \n",
       "3             0  64900000.0       159.0           2015-07-24      3   \n",
       "4             2  10000000.0       100.0           2018-06-19      2   \n",
       "\n",
       "   ceiling_height  floors_total  living_area  floor  is_apartment  ...  \\\n",
       "0            2.70            16         51.0      8         False  ...   \n",
       "1            2.75            11         18.6      1         False  ...   \n",
       "2            2.55             5         34.3      4         False  ...   \n",
       "3            2.60            14          NaN      9         False  ...   \n",
       "4            3.03            14         32.0     13         False  ...   \n",
       "\n",
       "   ponds_around3000  ponds_nearest  days_exposition  price_per_m2 weekday  \\\n",
       "0               2.0          755.0               95      120370.4       3   \n",
       "1               0.0            NaN               81       82920.8       1   \n",
       "2               2.0          574.0              558       92785.7       3   \n",
       "3               3.0          234.0              424      408176.1       4   \n",
       "4               1.0           48.0              121      100000.0       1   \n",
       "\n",
       "   month  year  floor_group  living_area_part  kitchen_area_part  \n",
       "0      3  2019       Другой              0.47               0.23  \n",
       "1     12  2018       Первый              0.46               0.27  \n",
       "2      8  2015       Другой              0.61               0.15  \n",
       "3      7  2015       Другой               NaN                NaN  \n",
       "4      6  2018       Другой              0.32               0.41  \n",
       "\n",
       "[5 rows x 29 columns]"
      ]
     },
     "metadata": {},
     "output_type": "display_data"
    }
   ],
   "source": [
    "realty_ya['living_area_part'] = (realty_ya['living_area'] / realty_ya['total_area']).round(decimals = 2)\n",
    "realty_ya['kitchen_area_part'] = (realty_ya['kitchen_area'] / realty_ya['total_area']).round(decimals = 2)\n",
    "\n",
    "# проверим работу выполненных на шаге 3 действий и выведем первые 5 строк массива\n",
    "display(realty_ya.head())"
   ]
  },
  {
   "cell_type": "markdown",
   "metadata": {},
   "source": [
    "## 4. Исследовательский анализ данных"
   ]
  },
  {
   "cell_type": "markdown",
   "metadata": {},
   "source": [
    "#### 4.1. Исследуем следующие параметры объектов недвижимости:\n",
    "```\n",
    "площадь\n",
    "цена\n",
    "число комнат\n",
    "высота потолков\n",
    "время продажи квартиры\n",
    "```\n",
    "Изучим распределение данных, построим гистограммы для каждого параметра."
   ]
  },
  {
   "cell_type": "markdown",
   "metadata": {},
   "source": [
    "###### 4.1.1. Площадь квартиры\n",
    "Построим и изучим гистограмму распределения объявлений в сервисе Яндекс.Недвижимость по общей площади квартир."
   ]
  },
  {
   "cell_type": "code",
   "execution_count": 20,
   "metadata": {},
   "outputs": [
    {
     "data": {
      "image/png": "[encoded data removed]",
      "text/plain": [
       "<Figure size 432x288 with 1 Axes>"
      ]
     },
     "metadata": {
      "needs_background": "light"
     },
     "output_type": "display_data"
    }
   ],
   "source": [
    "# display(realty_ya.sort_values('total_area', ascending = False))\n",
    "realty_ya.hist('total_area', bins = 40, range = (0, 400))\n",
    "plt.title('Распределение объявлений по общей площади квартир в продаже, кв.м.')\n",
    "plt.show()"
   ]
  },
  {
   "cell_type": "markdown",
   "metadata": {},
   "source": [
    "Из гистограммы видно, что пик значений соответствует площади квартир 40-55 кв.м. Эти данные выглядят вполне логично, так как соответствуют основной доле предложения на рынке недвижимости. Также наблюдаем крайне малое количество объявлений квартир с площадью более 200 кв.м. \n",
    "\n",
    "Для визуальной оценки характеристик распределения воспользуемся методом boxplot() и построим диаграмму размаха. Методом describe() определим числовые характеристики распределения."
   ]
  },
  {
   "cell_type": "code",
   "execution_count": 21,
   "metadata": {
    "scrolled": false
   },
   "outputs": [
    {
     "data": {
      "image/png": "[encoded data removed]",
      "text/plain": [
       "<Figure size 432x288 with 1 Axes>"
      ]
     },
     "metadata": {
      "needs_background": "light"
     },
     "output_type": "display_data"
    },
    {
     "data": {
      "text/plain": [
       "count    23588.000000\n",
       "mean        60.253936\n",
       "std         35.493574\n",
       "min         12.000000\n",
       "25%         40.000000\n",
       "50%         52.000000\n",
       "75%         69.700000\n",
       "max        900.000000\n",
       "Name: total_area, dtype: float64"
      ]
     },
     "metadata": {},
     "output_type": "display_data"
    }
   ],
   "source": [
    "realty_ya.boxplot('total_area')\n",
    "plt.ylim(0, 150)\n",
    "plt.show()\n",
    "\n",
    "display(realty_ya['total_area'].describe())"
   ]
  },
  {
   "cell_type": "markdown",
   "metadata": {},
   "source": [
    "Основное количество значений площади квартир находится в интервале 40-70 кв.м. Нижний \"ус\" упирается в минимальное значение (12 кв.м.). Значения выброса находятся выше 115 кв.м. Количество выбросов достаточно велико, отдельные значения сливаются в сплошную линию. Однако, поскольку медиана не стремится к длинному хвосту, можно считать, что в выборке значения выбросов не в подавляющем количестве.\n",
    "\n",
    "О значительном разбросе и наличии аномалий в наборе данных общей площади квартир также свидетельствуют результаты числового описания данных:\n",
    "- высокое значение стандартного отклонения(***~36***);\n",
    "- среднее арифметическое значение на ***~15%*** больше медианы.\n",
    "\n",
    "На диаграмме разброса имеются отдельные выбросы до 900 кв.м."
   ]
  },
  {
   "cell_type": "markdown",
   "metadata": {},
   "source": [
    "**Проведем вышеуказанную последовательность действий и для других параметров.**"
   ]
  },
  {
   "cell_type": "markdown",
   "metadata": {},
   "source": [
    "###### 4.1.2. Цена продажи квартиры на момент снятия публикации"
   ]
  },
  {
   "cell_type": "code",
   "execution_count": 22,
   "metadata": {},
   "outputs": [
    {
     "data": {
      "image/png": "[encoded data removed]",
      "text/plain": [
       "<Figure size 432x288 with 1 Axes>"
      ]
     },
     "metadata": {
      "needs_background": "light"
     },
     "output_type": "display_data"
    }
   ],
   "source": [
    "realty_ya.hist('last_price', bins = 40, range = (0, 30000000))\n",
    "plt.title('Распределение объявлений по цене продажи квартир')\n",
    "plt.xlabel('Стоимость квартир, 10 млн.руб.')\n",
    "\n",
    "plt.show()"
   ]
  },
  {
   "cell_type": "markdown",
   "metadata": {},
   "source": [
    "Максимум распределения приходится на стоимость квартир в диапазоне 3-5 млн.р. Квартир со стоимостью более 15 млн.руб. существенно меньше. "
   ]
  },
  {
   "cell_type": "code",
   "execution_count": 23,
   "metadata": {},
   "outputs": [
    {
     "data": {
      "image/png": "[encoded data removed]",
      "text/plain": [
       "<Figure size 432x288 with 1 Axes>"
      ]
     },
     "metadata": {
      "needs_background": "light"
     },
     "output_type": "display_data"
    },
    {
     "data": {
      "text/plain": [
       "count    2.358800e+04\n",
       "mean     6.517316e+06\n",
       "std      1.085333e+07\n",
       "min      1.219000e+04\n",
       "25%      3.400000e+06\n",
       "50%      4.626540e+06\n",
       "75%      6.750000e+06\n",
       "max      7.630000e+08\n",
       "Name: last_price, dtype: float64"
      ]
     },
     "metadata": {},
     "output_type": "display_data"
    }
   ],
   "source": [
    "realty_ya.boxplot('last_price')\n",
    "plt.ylim(0, 15000000)\n",
    "plt.show()\n",
    "\n",
    "display(realty_ya['last_price'].describe())"
   ]
  },
  {
   "cell_type": "markdown",
   "metadata": {},
   "source": [
    "Из гистограммы и диаграммы размаха можно судить, что основное предложение на рынке составляют квартиры стоимостью 3.5-7 млн.р. При этом в архиве объявлений разброс стоимости квартир значительный, средняя цена на ~40% выше медианы, более того стандартное отклонение превышает среднее арифметическое в ~1.6 раз. Разница между максимальным и минимальным значениями цен составляет 4 порядка. Имеются выбросы, соответствующие стоимости квартир более 12 млн.р. Также имеется выброс при стоимости квартиры 12 тыс.р. Возможно, в выборку попало объявление о помесячной сдаче квартиры."
   ]
  },
  {
   "cell_type": "markdown",
   "metadata": {},
   "source": [
    "###### 4.1.3. Распределение объявлений по числу комнат"
   ]
  },
  {
   "cell_type": "markdown",
   "metadata": {},
   "source": [
    "Для наглядности распределения по числу комнат построим столбчатую диаграмму."
   ]
  },
  {
   "cell_type": "code",
   "execution_count": 24,
   "metadata": {},
   "outputs": [
    {
     "data": {
      "image/png": "[encoded data removed]",
      "text/plain": [
       "<Figure size 432x288 with 1 Axes>"
      ]
     },
     "metadata": {
      "needs_background": "light"
     },
     "output_type": "display_data"
    }
   ],
   "source": [
    "realty_ya['rooms'].value_counts().plot(kind='bar')\n",
    "plt.title('Распределение объявлений по числу комнат')\n",
    "\n",
    "plt.show()"
   ]
  },
  {
   "cell_type": "markdown",
   "metadata": {},
   "source": [
    "Имеется тенденция снижения предложения квартир с увеличением количества комнат. Однокомнатные и двухкомнатные квартиры наиболее популярны на рынке жилья. Наблюдается низкое предложение студий, объявлений о продаже квартир с более чем 6 комнат практически нет."
   ]
  },
  {
   "cell_type": "code",
   "execution_count": 25,
   "metadata": {
    "scrolled": false
   },
   "outputs": [
    {
     "data": {
      "image/png": "[encoded data removed]",
      "text/plain": [
       "<Figure size 432x288 with 1 Axes>"
      ]
     },
     "metadata": {
      "needs_background": "light"
     },
     "output_type": "display_data"
    },
    {
     "data": {
      "text/plain": [
       "count    23588.000000\n",
       "mean         2.068976\n",
       "std          1.078132\n",
       "min          0.000000\n",
       "25%          1.000000\n",
       "50%          2.000000\n",
       "75%          3.000000\n",
       "max         19.000000\n",
       "Name: rooms, dtype: float64"
      ]
     },
     "metadata": {},
     "output_type": "display_data"
    }
   ],
   "source": [
    "realty_ya.boxplot('rooms')\n",
    "plt.ylim(0, 10)\n",
    "plt.show()\n",
    "\n",
    "display(realty_ya['rooms'].describe())"
   ]
  },
  {
   "cell_type": "markdown",
   "metadata": {},
   "source": [
    "Большая часть объявлений относится к продаже одно-, двух- и трехкомнатных квартир, что выглядит правдоподобно. Объявления о продаже квартир с количеством комнат более 6 являются редкими и выбивающимися. Вместе с тем в выборке имеются единичные квартиры с аномально высоким числом комнат до 19."
   ]
  },
  {
   "cell_type": "markdown",
   "metadata": {},
   "source": [
    "###### 4.1.4. Распределение предложений продажи квартир по высоте потолков"
   ]
  },
  {
   "cell_type": "code",
   "execution_count": 26,
   "metadata": {},
   "outputs": [
    {
     "data": {
      "image/png": "[encoded data removed]",
      "text/plain": [
       "<Figure size 432x288 with 1 Axes>"
      ]
     },
     "metadata": {
      "needs_background": "light"
     },
     "output_type": "display_data"
    }
   ],
   "source": [
    "realty_ya.hist('ceiling_height', bins = 20, range = (2, 4))\n",
    "plt.title('Распределение квартир по высоте потолков')\n",
    "\n",
    "plt.show()"
   ]
  },
  {
   "cell_type": "markdown",
   "metadata": {},
   "source": [
    "Закономерно, что наиболее часто встречаются квартиры с высотой потолков ~ 2.5 и 2.75 м. Необходимо отметить, что четверть от максимального значения приходится на квартиры с потолками 3-3.1 м. Можно предположить, что такое явление связано с достаточной популярностью в Санкт-Петербурге \"сталинских\" домов, для которых характерны такие высокие потолки. Также вероятно присутствие в выборке предложения жилья бизнес- и премиум-класса."
   ]
  },
  {
   "cell_type": "code",
   "execution_count": 27,
   "metadata": {},
   "outputs": [
    {
     "data": {
      "image/png": "[encoded data removed]",
      "text/plain": [
       "<Figure size 432x288 with 1 Axes>"
      ]
     },
     "metadata": {
      "needs_background": "light"
     },
     "output_type": "display_data"
    },
    {
     "data": {
      "text/plain": [
       "count    23588.000000\n",
       "mean         2.735694\n",
       "std          0.996410\n",
       "min          1.000000\n",
       "25%          2.550000\n",
       "50%          2.650000\n",
       "75%          2.750000\n",
       "max        100.000000\n",
       "Name: ceiling_height, dtype: float64"
      ]
     },
     "metadata": {},
     "output_type": "display_data"
    }
   ],
   "source": [
    "realty_ya.boxplot('ceiling_height')\n",
    "plt.ylim(2, 3.5)\n",
    "\n",
    "plt.show()\n",
    "\n",
    "display(realty_ya['ceiling_height'].describe())"
   ]
  },
  {
   "cell_type": "markdown",
   "metadata": {},
   "source": [
    "Среднее по выборке и медиана близки между собой, но высокое значение стандартного отклонения (~1) и разница между максимальным и минимальным значением в 2 порядка свидетельствуют о существенном разбросе величин. Присутствуют объявления о продаже квартир с высотой потолков до 100 м, что не соответствует действительности. Выбросами можно считать объявления с высотой потолков более 3.1 м. Следует указать, что нижний \"ус\" соответсвует значению ~ 2.25 м., более того в выборке имеются значения высоты потолков до 1 м. На эту аномалию следует обратить внимание, так как согласно санитарно-гигиеническим требованиям п.5.8 СНиП 31-01-2003 высота жилых помещений от пола до потолка должна быть не менее 2.5 м."
   ]
  },
  {
   "cell_type": "markdown",
   "metadata": {},
   "source": [
    "###### 4.1.5. Распределение объявлений по времени продажи квартиры"
   ]
  },
  {
   "cell_type": "code",
   "execution_count": 28,
   "metadata": {},
   "outputs": [
    {
     "data": {
      "image/png": "[encoded data removed]",
      "text/plain": [
       "<Figure size 432x288 with 1 Axes>"
      ]
     },
     "metadata": {
      "needs_background": "light"
     },
     "output_type": "display_data"
    }
   ],
   "source": [
    "realty_ya.hist('days_exposition', bins = 40, range = (0, 800))\n",
    "\n",
    "plt.show()"
   ]
  },
  {
   "cell_type": "markdown",
   "metadata": {},
   "source": [
    "Из представленной гистограммы видно, что чаще всего квартиры продаются в районе 3 месяцев (~95-100 дней). Довольно подозрительно выглядят объявления со сроком размещения более 400 дней, то есть более одного года. Что может быть связано с особенностями работы агенств по недвижимости для привлечения покупателей."
   ]
  },
  {
   "cell_type": "code",
   "execution_count": 29,
   "metadata": {},
   "outputs": [
    {
     "data": {
      "image/png": "[encoded data removed]",
      "text/plain": [
       "<Figure size 432x288 with 1 Axes>"
      ]
     },
     "metadata": {
      "needs_background": "light"
     },
     "output_type": "display_data"
    },
    {
     "data": {
      "text/plain": [
       "count    23588.000000\n",
       "mean       169.353103\n",
       "std        206.721462\n",
       "min          1.000000\n",
       "25%         45.000000\n",
       "50%         95.000000\n",
       "75%        199.000000\n",
       "max       1580.000000\n",
       "Name: days_exposition, dtype: float64"
      ]
     },
     "metadata": {},
     "output_type": "display_data"
    }
   ],
   "source": [
    "realty_ya.boxplot('days_exposition')\n",
    "plt.ylim(0, 450)\n",
    "plt.show()\n",
    "\n",
    "display(realty_ya['days_exposition'].describe())"
   ]
  },
  {
   "cell_type": "markdown",
   "metadata": {},
   "source": [
    "Обычно продажа квартир занимает 45-200 дней. Разброс времени публикации объявлений в сервисе Яндекс.Недвижимость значительный, среднее время превышают медиану практически в 2 раза. Быстрой продажей является срок менее полутора месяцев. Нижний \"ус\" стремится к минимальному значению. В случае, когда квартира была продана более чем за 400 дней (~13 месяцев), можно считать аномально долгой продажей. Максимальный срок размещения достигает более 4 лет (1580 дней), что выглядит неправдоподобно."
   ]
  },
  {
   "cell_type": "markdown",
   "metadata": {},
   "source": [
    "### Вывод\n",
    "\n",
    "На основе исследованных параметров недвижимости архива объявлений о продаже квартир в Санкт-Петербурге и области  - площадь, цена, число комнат, высота потолков, срок продажи - среднестатистическая квартира, опубликованная в объявлении, характеризуется следующими параметрами:\n",
    "```\n",
    "двухкомнатная квартира площадью ~52 м²;\n",
    "высота потолков: 2.65 м;\n",
    "срок продажи: ~3 месяца (95-100 дней);\n",
    "стоимость: ~ 4.6 млн рублей.\n",
    "```\n",
    "Выявлены редкие и аномальные характеристики квартир в архиве объявлений:\n",
    "```\n",
    "площадь квартиры: более 115 м²;\n",
    "количество комнат: более 6;\n",
    "высота потолков: более 3.1 м и менее 2.25 м;\n",
    "срок продажи: более 430 дней (~13 месяцев);\n",
    "стоимость: более 12 млн.р.\n",
    "```"
   ]
  },
  {
   "cell_type": "markdown",
   "metadata": {},
   "source": [
    "#### 4.2. Удаление редких и выбивающихся значений."
   ]
  },
  {
   "cell_type": "markdown",
   "metadata": {},
   "source": [
    "Уберем с помощью метода query() выявленные редкие и аномальные значения: площади, цены, числа комнат, высоты потолков и времени продажи квартир."
   ]
  },
  {
   "cell_type": "code",
   "execution_count": 30,
   "metadata": {},
   "outputs": [
    {
     "data": {
      "text/html": [
       "<div>\n",
       "<style scoped>\n",
       "    .dataframe tbody tr th:only-of-type {\n",
       "        vertical-align: middle;\n",
       "    }\n",
       "\n",
       "    .dataframe tbody tr th {\n",
       "        vertical-align: top;\n",
       "    }\n",
       "\n",
       "    .dataframe thead th {\n",
       "        text-align: right;\n",
       "    }\n",
       "</style>\n",
       "<table border=\"1\" class=\"dataframe\">\n",
       "  <thead>\n",
       "    <tr style=\"text-align: right;\">\n",
       "      <th></th>\n",
       "      <th>total_images</th>\n",
       "      <th>last_price</th>\n",
       "      <th>total_area</th>\n",
       "      <th>first_day_exposition</th>\n",
       "      <th>rooms</th>\n",
       "      <th>ceiling_height</th>\n",
       "      <th>floors_total</th>\n",
       "      <th>living_area</th>\n",
       "      <th>floor</th>\n",
       "      <th>is_apartment</th>\n",
       "      <th>...</th>\n",
       "      <th>ponds_around3000</th>\n",
       "      <th>ponds_nearest</th>\n",
       "      <th>days_exposition</th>\n",
       "      <th>price_per_m2</th>\n",
       "      <th>weekday</th>\n",
       "      <th>month</th>\n",
       "      <th>year</th>\n",
       "      <th>floor_group</th>\n",
       "      <th>living_area_part</th>\n",
       "      <th>kitchen_area_part</th>\n",
       "    </tr>\n",
       "  </thead>\n",
       "  <tbody>\n",
       "    <tr>\n",
       "      <td>1</td>\n",
       "      <td>7</td>\n",
       "      <td>3350000.0</td>\n",
       "      <td>40.4</td>\n",
       "      <td>2018-12-04</td>\n",
       "      <td>1</td>\n",
       "      <td>2.75</td>\n",
       "      <td>11</td>\n",
       "      <td>18.6</td>\n",
       "      <td>1</td>\n",
       "      <td>False</td>\n",
       "      <td>...</td>\n",
       "      <td>0.0</td>\n",
       "      <td>NaN</td>\n",
       "      <td>81</td>\n",
       "      <td>82920.8</td>\n",
       "      <td>1</td>\n",
       "      <td>12</td>\n",
       "      <td>2018</td>\n",
       "      <td>Первый</td>\n",
       "      <td>0.46</td>\n",
       "      <td>0.27</td>\n",
       "    </tr>\n",
       "    <tr>\n",
       "      <td>4</td>\n",
       "      <td>2</td>\n",
       "      <td>10000000.0</td>\n",
       "      <td>100.0</td>\n",
       "      <td>2018-06-19</td>\n",
       "      <td>2</td>\n",
       "      <td>3.03</td>\n",
       "      <td>14</td>\n",
       "      <td>32.0</td>\n",
       "      <td>13</td>\n",
       "      <td>False</td>\n",
       "      <td>...</td>\n",
       "      <td>1.0</td>\n",
       "      <td>48.0</td>\n",
       "      <td>121</td>\n",
       "      <td>100000.0</td>\n",
       "      <td>1</td>\n",
       "      <td>6</td>\n",
       "      <td>2018</td>\n",
       "      <td>Другой</td>\n",
       "      <td>0.32</td>\n",
       "      <td>0.41</td>\n",
       "    </tr>\n",
       "    <tr>\n",
       "      <td>5</td>\n",
       "      <td>10</td>\n",
       "      <td>2890000.0</td>\n",
       "      <td>30.4</td>\n",
       "      <td>2018-09-10</td>\n",
       "      <td>1</td>\n",
       "      <td>2.65</td>\n",
       "      <td>12</td>\n",
       "      <td>14.4</td>\n",
       "      <td>5</td>\n",
       "      <td>False</td>\n",
       "      <td>...</td>\n",
       "      <td>NaN</td>\n",
       "      <td>NaN</td>\n",
       "      <td>55</td>\n",
       "      <td>95065.8</td>\n",
       "      <td>0</td>\n",
       "      <td>9</td>\n",
       "      <td>2018</td>\n",
       "      <td>Другой</td>\n",
       "      <td>0.47</td>\n",
       "      <td>0.30</td>\n",
       "    </tr>\n",
       "    <tr>\n",
       "      <td>6</td>\n",
       "      <td>6</td>\n",
       "      <td>3700000.0</td>\n",
       "      <td>37.3</td>\n",
       "      <td>2017-11-02</td>\n",
       "      <td>1</td>\n",
       "      <td>2.66</td>\n",
       "      <td>26</td>\n",
       "      <td>10.6</td>\n",
       "      <td>6</td>\n",
       "      <td>False</td>\n",
       "      <td>...</td>\n",
       "      <td>0.0</td>\n",
       "      <td>NaN</td>\n",
       "      <td>155</td>\n",
       "      <td>99195.7</td>\n",
       "      <td>3</td>\n",
       "      <td>11</td>\n",
       "      <td>2017</td>\n",
       "      <td>Другой</td>\n",
       "      <td>0.28</td>\n",
       "      <td>0.39</td>\n",
       "    </tr>\n",
       "    <tr>\n",
       "      <td>7</td>\n",
       "      <td>5</td>\n",
       "      <td>7915000.0</td>\n",
       "      <td>71.6</td>\n",
       "      <td>2019-04-18</td>\n",
       "      <td>2</td>\n",
       "      <td>2.75</td>\n",
       "      <td>24</td>\n",
       "      <td>NaN</td>\n",
       "      <td>22</td>\n",
       "      <td>False</td>\n",
       "      <td>...</td>\n",
       "      <td>0.0</td>\n",
       "      <td>NaN</td>\n",
       "      <td>95</td>\n",
       "      <td>110544.7</td>\n",
       "      <td>3</td>\n",
       "      <td>4</td>\n",
       "      <td>2019</td>\n",
       "      <td>Другой</td>\n",
       "      <td>NaN</td>\n",
       "      <td>0.26</td>\n",
       "    </tr>\n",
       "  </tbody>\n",
       "</table>\n",
       "<p>5 rows × 29 columns</p>\n",
       "</div>"
      ],
      "text/plain": [
       "   total_images  last_price  total_area first_day_exposition  rooms  \\\n",
       "1             7   3350000.0        40.4           2018-12-04      1   \n",
       "4             2  10000000.0       100.0           2018-06-19      2   \n",
       "5            10   2890000.0        30.4           2018-09-10      1   \n",
       "6             6   3700000.0        37.3           2017-11-02      1   \n",
       "7             5   7915000.0        71.6           2019-04-18      2   \n",
       "\n",
       "   ceiling_height  floors_total  living_area  floor  is_apartment  ...  \\\n",
       "1            2.75            11         18.6      1         False  ...   \n",
       "4            3.03            14         32.0     13         False  ...   \n",
       "5            2.65            12         14.4      5         False  ...   \n",
       "6            2.66            26         10.6      6         False  ...   \n",
       "7            2.75            24          NaN     22         False  ...   \n",
       "\n",
       "   ponds_around3000  ponds_nearest  days_exposition  price_per_m2 weekday  \\\n",
       "1               0.0            NaN               81       82920.8       1   \n",
       "4               1.0           48.0              121      100000.0       1   \n",
       "5               NaN            NaN               55       95065.8       0   \n",
       "6               0.0            NaN              155       99195.7       3   \n",
       "7               0.0            NaN               95      110544.7       3   \n",
       "\n",
       "   month  year  floor_group  living_area_part  kitchen_area_part  \n",
       "1     12  2018       Первый              0.46               0.27  \n",
       "4      6  2018       Другой              0.32               0.41  \n",
       "5      9  2018       Другой              0.47               0.30  \n",
       "6     11  2017       Другой              0.28               0.39  \n",
       "7      4  2019       Другой               NaN               0.26  \n",
       "\n",
       "[5 rows x 29 columns]"
      ]
     },
     "metadata": {},
     "output_type": "display_data"
    }
   ],
   "source": [
    "filter_realty_ya = realty_ya.query(\n",
    "'(12 <= total_area <= 115)\\\n",
    "and (430000 <= last_price <= 12000000)\\\n",
    "and (0 <= rooms <= 6)\\\n",
    "and (2.25 <= ceiling_height <= 3.1)\\\n",
    "and (1 <= days_exposition <= 430)'\n",
    ")\n",
    "\n",
    "# выведем первые 5 строк отфильтрованной таблицы\n",
    "display(filter_realty_ya.head())"
   ]
  },
  {
   "cell_type": "markdown",
   "metadata": {},
   "source": [
    "Вычислим долю строк с редкими и аномальными значениями в выборке после обработки данных."
   ]
  },
  {
   "cell_type": "code",
   "execution_count": 31,
   "metadata": {},
   "outputs": [
    {
     "name": "stdout",
     "output_type": "stream",
     "text": [
      "Доля аномальных значений в архиве объявлений сервиса Яндекс.Недвижимость составила: 19.9%\n"
     ]
    }
   ],
   "source": [
    "filtered_data_fraction = 1 - (len(filter_realty_ya) / len(realty_ya))\n",
    "print('Доля аномальных значений в архиве объявлений сервиса Яндекс.Недвижимость составила: {:.1%}'.format(filtered_data_fraction))"
   ]
  },
  {
   "cell_type": "markdown",
   "metadata": {},
   "source": [
    "#### Вывод\n",
    "На основе изученных на предыдущем этапе параметров объектов недвижимости Санкт-Петербурга и области была удалена 1/5 часть выбивающихся строк архива объявлений. Данные, очищенные от редких и аномальных значений, позволяют корректно оценить факторы, влияющие на стоимость квартир."
   ]
  },
  {
   "cell_type": "markdown",
   "metadata": {},
   "source": [
    "#### 4.3. Факторы, влияющие на стоимость квартиры"
   ]
  },
  {
   "cell_type": "markdown",
   "metadata": {},
   "source": [
    "Создадим функцию расчета коэффициента корреляции цены квартиры c различными параметрами."
   ]
  },
  {
   "cell_type": "code",
   "execution_count": 32,
   "metadata": {},
   "outputs": [],
   "source": [
    "def correlation(parameter):\n",
    "    corr = filter_realty_ya['last_price'].corr(filter_realty_ya[parameter])\n",
    "    print('Коэффициент корреляции составляет: {:.2f}'.format(corr))"
   ]
  },
  {
   "cell_type": "markdown",
   "metadata": {},
   "source": [
    "###### 4.3.1. Зависимость цены от общей площади квартир."
   ]
  },
  {
   "cell_type": "code",
   "execution_count": 33,
   "metadata": {},
   "outputs": [
    {
     "data": {
      "image/png": "[encoded data removed]",
      "text/plain": [
       "<Figure size 432x432 with 3 Axes>"
      ]
     },
     "metadata": {
      "needs_background": "light"
     },
     "output_type": "display_data"
    },
    {
     "name": "stdout",
     "output_type": "stream",
     "text": [
      "Коэффициент корреляции составляет: 0.69\n"
     ]
    }
   ],
   "source": [
    "# построим гексабиновую диаграмму зависимости цены от общей площади квартир\n",
    "sns.jointplot(\n",
    "    x='total_area',\n",
    "    y='last_price',\n",
    "    data=filter_realty_ya,\n",
    "    kind='hex'\n",
    ")\n",
    "\n",
    "plt.show()\n",
    "\n",
    "# вычислим коэффициентр корреляции\n",
    "correlation('total_area')"
   ]
  },
  {
   "cell_type": "markdown",
   "metadata": {},
   "source": [
    "###### 4.3.2. Зависимость цены от удаленности от центра"
   ]
  },
  {
   "cell_type": "code",
   "execution_count": 34,
   "metadata": {},
   "outputs": [
    {
     "name": "stdout",
     "output_type": "stream",
     "text": [
      "Коэффициент корреляции составляет: -0.32\n"
     ]
    },
    {
     "data": {
      "image/png": "[encoded data removed]",
      "text/plain": [
       "<Figure size 432x288 with 1 Axes>"
      ]
     },
     "metadata": {
      "needs_background": "light"
     },
     "output_type": "display_data"
    }
   ],
   "source": [
    "# построим диаграмму рассеяния зависимости стоимости недвижимости от удаленности от центра\n",
    "sns.scatterplot(\n",
    "    x='cityCenters_nearest',\n",
    "    y='last_price',\n",
    "    alpha=.05, data=filter_realty_ya    \n",
    "    )\n",
    "\n",
    "sns.despine()\n",
    "\n",
    "# вычислим коэффициентр корреляции\n",
    "correlation('cityCenters_nearest')"
   ]
  },
  {
   "cell_type": "markdown",
   "metadata": {},
   "source": [
    "###### 4.3.3. Зависимость цены от числа комнат"
   ]
  },
  {
   "cell_type": "code",
   "execution_count": 35,
   "metadata": {},
   "outputs": [
    {
     "name": "stdout",
     "output_type": "stream",
     "text": [
      "Коэффициент корреляции составляет: 0.42\n"
     ]
    },
    {
     "data": {
      "image/png": "[encoded data removed]",
      "text/plain": [
       "<Figure size 432x288 with 1 Axes>"
      ]
     },
     "metadata": {
      "needs_background": "light"
     },
     "output_type": "display_data"
    }
   ],
   "source": [
    "# для определения зависимости цены от числа комнат построим категориальный график\n",
    "sns.boxplot(x=\"rooms\", y=\"last_price\", data=filter_realty_ya)\n",
    "\n",
    "sns.despine()\n",
    "\n",
    "# вычислим коэффициентр корреляции\n",
    "correlation('rooms')"
   ]
  },
  {
   "cell_type": "markdown",
   "metadata": {},
   "source": [
    "###### 4.3.4. Зависимость цены от этажа квартиры"
   ]
  },
  {
   "cell_type": "code",
   "execution_count": 36,
   "metadata": {},
   "outputs": [
    {
     "data": {
      "image/png": "[encoded data removed]",
      "text/plain": [
       "<Figure size 360x360 with 1 Axes>"
      ]
     },
     "metadata": {
      "needs_background": "light"
     },
     "output_type": "display_data"
    }
   ],
   "source": [
    "sns.catplot(x=\"floor_group\", y=\"last_price\", data=filter_realty_ya)\n",
    "\n",
    "sns.despine()"
   ]
  },
  {
   "cell_type": "markdown",
   "metadata": {},
   "source": [
    "###### 4.3.5. Зависимость цены от даты размещения: дня недели, месяца и года"
   ]
  },
  {
   "cell_type": "code",
   "execution_count": 37,
   "metadata": {},
   "outputs": [
    {
     "name": "stdout",
     "output_type": "stream",
     "text": [
      "Коэффициент корреляции составляет: -0.01\n",
      "Коэффициент корреляции составляет: 0.00\n",
      "Коэффициент корреляции составляет: 0.03\n"
     ]
    },
    {
     "data": {
      "image/png": "[encoded data removed]",
      "text/plain": [
       "<Figure size 360x360 with 1 Axes>"
      ]
     },
     "metadata": {
      "needs_background": "light"
     },
     "output_type": "display_data"
    },
    {
     "data": {
      "image/png": "[encoded data removed]",
      "text/plain": [
       "<Figure size 360x360 with 1 Axes>"
      ]
     },
     "metadata": {
      "needs_background": "light"
     },
     "output_type": "display_data"
    },
    {
     "data": {
      "image/png": "[encoded data removed]",
      "text/plain": [
       "<Figure size 360x360 with 1 Axes>"
      ]
     },
     "metadata": {
      "needs_background": "light"
     },
     "output_type": "display_data"
    }
   ],
   "source": [
    "# с помощью цикла построим категориальные графики зависимости цены от дня недели, месяца и года \n",
    "date = ['weekday', 'month', 'year']\n",
    "for val in date:\n",
    "    sns.catplot(x=val, y=\"last_price\", kind=\"box\", data=filter_realty_ya)\n",
    "    # вычислим коэффициентр корреляции для каждого параметра\n",
    "    correlation(val)\n",
    "    \n",
    "    \n",
    "sns.despine()"
   ]
  },
  {
   "cell_type": "code",
   "execution_count": 38,
   "metadata": {},
   "outputs": [
    {
     "data": {
      "text/plain": [
       "2018    7596\n",
       "2017    6773\n",
       "2019    2493\n",
       "2016    1716\n",
       "2015     313\n",
       "2014       7\n",
       "Name: year, dtype: int64"
      ]
     },
     "metadata": {},
     "output_type": "display_data"
    }
   ],
   "source": [
    "# посмотрим количество уникальных значений для корректной интерпретации\n",
    "# влияния года публикации на стоимость квартиры\n",
    "display(filter_realty_ya['year'].value_counts())"
   ]
  },
  {
   "cell_type": "markdown",
   "metadata": {},
   "source": [
    "#### Вывод\n",
    "1. Логично, что наибольший вклад в стоимость квартиры вносит её площадь. Наблюдается прямопропорциональная зависимость между площадью квартиры и ее стоимостью. Коэффициент корреляции составляет **0.69**.\n",
    "2. С увеличением удаленности от центра стоимость квартиры снижается, при этом коэффициент корреляции равен **-0.32**.\n",
    "3. Стоимость квартиры также определяется числом комнат: наиболее доступны в цене студии и однокомнатные квартиры, и с увеличением количества комнат цена недвижимости повышается. Коэффициент корреляции составляет **0.42**.\n",
    "4. Как правило, квартиры на первом или последнем этаже продаются по более низкой цене, чем квартиры на других этажах. Это вызвано сниженным спросом на квартиры, располагающиеся на крайних этажах.\n",
    "5. День недели и месяц публикации объявления не оказывают существенного влияния на стоимость квартиры. Средняя цена квартиры в продаже лишь незначительно снижается в летние месяцы и в январе, что связано с сезонным спадом спроса в период отпусков и новогодних праздников.\n",
    "6. Необходимо отметить, что к 2014 году относится крайне малая доля объявлений, всего лишь 7 значений. Видимо, результаты относятся к концу 2014 года. Для более точного представления и выявления закономерности требуется полная выборка с данными для всего года. На основе приведенной диаграммы зависимости цены квартиры от года публикации объявления можно предположить, что после 2014 года резко снизилась средняя стоимость квартиры. Это связано с обострением геополитической обстановки и резким ухудшением макроэкономической ситуации в стране. В связи с резкими колебаниями курса валют граждане вкладывались в недвижимость с целью сохранить сбережения, спрос на квартиры повысился, что привело к повышению средней стоимости недвижимости. В период с 2015 по 2017 года наблюдался период рецессии экономики, спрос значительно снизился не только на покупку, но и на продажу недвижимости. Кроме того покупательская способность граждан была на низком уровне и стоимость квартир устойчиво снижалась вплоть до 2017 года. После 2017 года наметилось некоторое восстановление экономики, что поспособствовало увеличению спроса на квартиры и, следовательно, повышению стоимости жилья. При этом к 2014 году относится незначительная доля выборки, всего лишь 7 значений. "
   ]
  },
  {
   "cell_type": "markdown",
   "metadata": {},
   "source": [
    "###### 4.4. Топ 10 населённых пунктов  по числу объявлений"
   ]
  },
  {
   "cell_type": "code",
   "execution_count": 39,
   "metadata": {
    "scrolled": true
   },
   "outputs": [
    {
     "data": {
      "text/html": [
       "<div>\n",
       "<style scoped>\n",
       "    .dataframe tbody tr th:only-of-type {\n",
       "        vertical-align: middle;\n",
       "    }\n",
       "\n",
       "    .dataframe tbody tr th {\n",
       "        vertical-align: top;\n",
       "    }\n",
       "\n",
       "    .dataframe thead th {\n",
       "        text-align: right;\n",
       "    }\n",
       "</style>\n",
       "<table border=\"1\" class=\"dataframe\">\n",
       "  <thead>\n",
       "    <tr style=\"text-align: right;\">\n",
       "      <th></th>\n",
       "      <th>median</th>\n",
       "      <th>count</th>\n",
       "    </tr>\n",
       "    <tr>\n",
       "      <th>locality_name</th>\n",
       "      <th></th>\n",
       "      <th></th>\n",
       "    </tr>\n",
       "  </thead>\n",
       "  <tbody>\n",
       "    <tr>\n",
       "      <td>Санкт-Петербург</td>\n",
       "      <td>5000000.0</td>\n",
       "      <td>11876</td>\n",
       "    </tr>\n",
       "    <tr>\n",
       "      <td>посёлок Мурино</td>\n",
       "      <td>3400000.0</td>\n",
       "      <td>478</td>\n",
       "    </tr>\n",
       "    <tr>\n",
       "      <td>посёлок Шушары</td>\n",
       "      <td>3950000.0</td>\n",
       "      <td>403</td>\n",
       "    </tr>\n",
       "    <tr>\n",
       "      <td>Всеволожск</td>\n",
       "      <td>3465000.0</td>\n",
       "      <td>348</td>\n",
       "    </tr>\n",
       "    <tr>\n",
       "      <td>Колпино</td>\n",
       "      <td>3585000.0</td>\n",
       "      <td>306</td>\n",
       "    </tr>\n",
       "    <tr>\n",
       "      <td>посёлок Парголово</td>\n",
       "      <td>4130000.0</td>\n",
       "      <td>303</td>\n",
       "    </tr>\n",
       "    <tr>\n",
       "      <td>Пушкин</td>\n",
       "      <td>4900000.0</td>\n",
       "      <td>296</td>\n",
       "    </tr>\n",
       "    <tr>\n",
       "      <td>Гатчина</td>\n",
       "      <td>3050000.0</td>\n",
       "      <td>269</td>\n",
       "    </tr>\n",
       "    <tr>\n",
       "      <td>деревня Кудрово</td>\n",
       "      <td>3800000.0</td>\n",
       "      <td>262</td>\n",
       "    </tr>\n",
       "    <tr>\n",
       "      <td>Выборг</td>\n",
       "      <td>2750000.0</td>\n",
       "      <td>196</td>\n",
       "    </tr>\n",
       "  </tbody>\n",
       "</table>\n",
       "</div>"
      ],
      "text/plain": [
       "                      median  count\n",
       "locality_name                      \n",
       "Санкт-Петербург    5000000.0  11876\n",
       "посёлок Мурино     3400000.0    478\n",
       "посёлок Шушары     3950000.0    403\n",
       "Всеволожск         3465000.0    348\n",
       "Колпино            3585000.0    306\n",
       "посёлок Парголово  4130000.0    303\n",
       "Пушкин             4900000.0    296\n",
       "Гатчина            3050000.0    269\n",
       "деревня Кудрово    3800000.0    262\n",
       "Выборг             2750000.0    196"
      ]
     },
     "metadata": {},
     "output_type": "display_data"
    }
   ],
   "source": [
    "# рассчитаем среднюю стоимость квартиры и число объявлений для Санкт-Петербурга и соседних населенных пунктов\n",
    "mean_price_m2 = filter_realty_ya.pivot_table(index='locality_name', values='last_price', aggfunc=['median', 'count'])\n",
    "mean_price_m2.columns = ['median', 'count']\n",
    "display(mean_price_m2.sort_values('count', ascending = False).head(10))"
   ]
  },
  {
   "cell_type": "markdown",
   "metadata": {},
   "source": [
    "#### Вывод\n",
    "Логично, что наибольшую долю предложения на рынке недвижимости Санкт-Петербурга и области и с самой высокой стоимостью жилья занимает Санкт-Петербург.\n",
    "\n",
    "Практически не отличается по стоимости квартир от северной столицы Пушкин, что связано с близостью к Санкт-Петербургу, транспортной доступностью и наличием музеев-заповелников и дворцово-парковых ансамблей.\n",
    "\n",
    "Высокая доля предложения в районах, соседствующих с Санкт-Петербургом (районы Мурино, Шушары, Парголово, Кудрово), объясняется активной застройкой данной местности. Стоимость жилья ниже на ~20-30% ниже по сравнению с Санкт-Петербургом.\n",
    "\n",
    "По мере удаления от Санкт-Петербурга стоимость жилья снижается и минимальна для Выборга."
   ]
  },
  {
   "cell_type": "markdown",
   "metadata": {},
   "source": [
    "#### 4.5. Выделение центра Санкт-Петербурга"
   ]
  },
  {
   "cell_type": "code",
   "execution_count": 40,
   "metadata": {},
   "outputs": [
    {
     "name": "stderr",
     "output_type": "stream",
     "text": [
      "/opt/conda/lib/python3.7/site-packages/ipykernel_launcher.py:5: SettingWithCopyWarning: \n",
      "A value is trying to be set on a copy of a slice from a DataFrame.\n",
      "Try using .loc[row_indexer,col_indexer] = value instead\n",
      "\n",
      "See the caveats in the documentation: http://pandas.pydata.org/pandas-docs/stable/user_guide/indexing.html#returning-a-view-versus-a-copy\n",
      "  \"\"\"\n"
     ]
    },
    {
     "data": {
      "text/html": [
       "<div>\n",
       "<style scoped>\n",
       "    .dataframe tbody tr th:only-of-type {\n",
       "        vertical-align: middle;\n",
       "    }\n",
       "\n",
       "    .dataframe tbody tr th {\n",
       "        vertical-align: top;\n",
       "    }\n",
       "\n",
       "    .dataframe thead th {\n",
       "        text-align: right;\n",
       "    }\n",
       "</style>\n",
       "<table border=\"1\" class=\"dataframe\">\n",
       "  <thead>\n",
       "    <tr style=\"text-align: right;\">\n",
       "      <th></th>\n",
       "      <th>last_price</th>\n",
       "    </tr>\n",
       "    <tr>\n",
       "      <th>center_distance_km</th>\n",
       "      <th></th>\n",
       "    </tr>\n",
       "  </thead>\n",
       "  <tbody>\n",
       "    <tr>\n",
       "      <td>0</td>\n",
       "      <td>7835000.0</td>\n",
       "    </tr>\n",
       "    <tr>\n",
       "      <td>1</td>\n",
       "      <td>8300000.0</td>\n",
       "    </tr>\n",
       "    <tr>\n",
       "      <td>2</td>\n",
       "      <td>7550000.0</td>\n",
       "    </tr>\n",
       "    <tr>\n",
       "      <td>3</td>\n",
       "      <td>7295000.0</td>\n",
       "    </tr>\n",
       "    <tr>\n",
       "      <td>4</td>\n",
       "      <td>7200000.0</td>\n",
       "    </tr>\n",
       "    <tr>\n",
       "      <td>5</td>\n",
       "      <td>7050000.0</td>\n",
       "    </tr>\n",
       "    <tr>\n",
       "      <td>6</td>\n",
       "      <td>6400000.0</td>\n",
       "    </tr>\n",
       "    <tr>\n",
       "      <td>7</td>\n",
       "      <td>6395000.0</td>\n",
       "    </tr>\n",
       "    <tr>\n",
       "      <td>8</td>\n",
       "      <td>5700000.0</td>\n",
       "    </tr>\n",
       "    <tr>\n",
       "      <td>9</td>\n",
       "      <td>4799500.0</td>\n",
       "    </tr>\n",
       "  </tbody>\n",
       "</table>\n",
       "</div>"
      ],
      "text/plain": [
       "                    last_price\n",
       "center_distance_km            \n",
       "0                    7835000.0\n",
       "1                    8300000.0\n",
       "2                    7550000.0\n",
       "3                    7295000.0\n",
       "4                    7200000.0\n",
       "5                    7050000.0\n",
       "6                    6400000.0\n",
       "7                    6395000.0\n",
       "8                    5700000.0\n",
       "9                    4799500.0"
      ]
     },
     "metadata": {},
     "output_type": "display_data"
    }
   ],
   "source": [
    "# отфильтруем массив данных и оставим объявления, относящиеся к Санкт-Петербургу\n",
    "spb_realty = filter_realty_ya.query('locality_name == \"Санкт-Петербург\"')\n",
    "\n",
    "# создадим столбец с расстоянием до центра в километрах и приведем данные к целочисленному типу\n",
    "spb_realty['center_distance_km'] =  (spb_realty['cityCenters_nearest'] / 1000).astype('int')\n",
    "\n",
    "# рассчитаем среднюю стоимость для каждого километра\n",
    "spb_center_nearest = spb_realty.pivot_table(index = 'center_distance_km', values = 'last_price', aggfunc = 'median')\n",
    "\n",
    "display(spb_center_nearest.head(10))"
   ]
  },
  {
   "cell_type": "markdown",
   "metadata": {},
   "source": [
    "Построим столбчатую диаграмму зависимости цены квартиры от удаленности от центра."
   ]
  },
  {
   "cell_type": "code",
   "execution_count": 41,
   "metadata": {},
   "outputs": [
    {
     "data": {
      "image/png": "[encoded data removed]",
      "text/plain": [
       "<Figure size 432x288 with 1 Axes>"
      ]
     },
     "metadata": {
      "needs_background": "light"
     },
     "output_type": "display_data"
    }
   ],
   "source": [
    "spb_center_nearest.plot(y='last_price', kind='bar')\n",
    "\n",
    "plt.show()"
   ]
  },
  {
   "cell_type": "markdown",
   "metadata": {},
   "source": [
    "Наблюдается скачкообразное снижение стоимости жилья при увеличении расстояния от центра от 8 к 9 км. Сегментом квартир в центре Санкт-Петербурга примем расположение в радиусе 8 км от центра. Отфильтруем данные по соответствующему условию."
   ]
  },
  {
   "cell_type": "code",
   "execution_count": 42,
   "metadata": {},
   "outputs": [
    {
     "data": {
      "text/html": [
       "<div>\n",
       "<style scoped>\n",
       "    .dataframe tbody tr th:only-of-type {\n",
       "        vertical-align: middle;\n",
       "    }\n",
       "\n",
       "    .dataframe tbody tr th {\n",
       "        vertical-align: top;\n",
       "    }\n",
       "\n",
       "    .dataframe thead th {\n",
       "        text-align: right;\n",
       "    }\n",
       "</style>\n",
       "<table border=\"1\" class=\"dataframe\">\n",
       "  <thead>\n",
       "    <tr style=\"text-align: right;\">\n",
       "      <th></th>\n",
       "      <th>total_images</th>\n",
       "      <th>last_price</th>\n",
       "      <th>total_area</th>\n",
       "      <th>first_day_exposition</th>\n",
       "      <th>rooms</th>\n",
       "      <th>ceiling_height</th>\n",
       "      <th>floors_total</th>\n",
       "      <th>living_area</th>\n",
       "      <th>floor</th>\n",
       "      <th>is_apartment</th>\n",
       "      <th>...</th>\n",
       "      <th>ponds_nearest</th>\n",
       "      <th>days_exposition</th>\n",
       "      <th>price_per_m2</th>\n",
       "      <th>weekday</th>\n",
       "      <th>month</th>\n",
       "      <th>year</th>\n",
       "      <th>floor_group</th>\n",
       "      <th>living_area_part</th>\n",
       "      <th>kitchen_area_part</th>\n",
       "      <th>center_distance_km</th>\n",
       "    </tr>\n",
       "  </thead>\n",
       "  <tbody>\n",
       "    <tr>\n",
       "      <td>4</td>\n",
       "      <td>2</td>\n",
       "      <td>10000000.0</td>\n",
       "      <td>100.0</td>\n",
       "      <td>2018-06-19</td>\n",
       "      <td>2</td>\n",
       "      <td>3.03</td>\n",
       "      <td>14</td>\n",
       "      <td>32.0</td>\n",
       "      <td>13</td>\n",
       "      <td>False</td>\n",
       "      <td>...</td>\n",
       "      <td>48.0</td>\n",
       "      <td>121</td>\n",
       "      <td>100000.0</td>\n",
       "      <td>1</td>\n",
       "      <td>6</td>\n",
       "      <td>2018</td>\n",
       "      <td>Другой</td>\n",
       "      <td>0.32</td>\n",
       "      <td>0.41</td>\n",
       "      <td>8</td>\n",
       "    </tr>\n",
       "    <tr>\n",
       "      <td>24</td>\n",
       "      <td>8</td>\n",
       "      <td>6500000.0</td>\n",
       "      <td>97.2</td>\n",
       "      <td>2015-10-31</td>\n",
       "      <td>2</td>\n",
       "      <td>2.80</td>\n",
       "      <td>3</td>\n",
       "      <td>46.5</td>\n",
       "      <td>1</td>\n",
       "      <td>False</td>\n",
       "      <td>...</td>\n",
       "      <td>124.0</td>\n",
       "      <td>265</td>\n",
       "      <td>66872.4</td>\n",
       "      <td>5</td>\n",
       "      <td>10</td>\n",
       "      <td>2015</td>\n",
       "      <td>Первый</td>\n",
       "      <td>0.48</td>\n",
       "      <td>0.20</td>\n",
       "      <td>2</td>\n",
       "    </tr>\n",
       "    <tr>\n",
       "      <td>70</td>\n",
       "      <td>9</td>\n",
       "      <td>3400000.0</td>\n",
       "      <td>30.0</td>\n",
       "      <td>2018-09-05</td>\n",
       "      <td>1</td>\n",
       "      <td>2.55</td>\n",
       "      <td>5</td>\n",
       "      <td>16.0</td>\n",
       "      <td>1</td>\n",
       "      <td>False</td>\n",
       "      <td>...</td>\n",
       "      <td>NaN</td>\n",
       "      <td>14</td>\n",
       "      <td>113333.3</td>\n",
       "      <td>2</td>\n",
       "      <td>9</td>\n",
       "      <td>2018</td>\n",
       "      <td>Первый</td>\n",
       "      <td>0.53</td>\n",
       "      <td>0.23</td>\n",
       "      <td>8</td>\n",
       "    </tr>\n",
       "    <tr>\n",
       "      <td>94</td>\n",
       "      <td>3</td>\n",
       "      <td>3500000.0</td>\n",
       "      <td>29.5</td>\n",
       "      <td>2019-04-26</td>\n",
       "      <td>1</td>\n",
       "      <td>2.50</td>\n",
       "      <td>5</td>\n",
       "      <td>15.6</td>\n",
       "      <td>2</td>\n",
       "      <td>False</td>\n",
       "      <td>...</td>\n",
       "      <td>NaN</td>\n",
       "      <td>4</td>\n",
       "      <td>118644.1</td>\n",
       "      <td>4</td>\n",
       "      <td>4</td>\n",
       "      <td>2019</td>\n",
       "      <td>Другой</td>\n",
       "      <td>0.53</td>\n",
       "      <td>0.19</td>\n",
       "      <td>7</td>\n",
       "    </tr>\n",
       "    <tr>\n",
       "      <td>99</td>\n",
       "      <td>32</td>\n",
       "      <td>9600000.0</td>\n",
       "      <td>90.0</td>\n",
       "      <td>2017-09-26</td>\n",
       "      <td>4</td>\n",
       "      <td>2.55</td>\n",
       "      <td>5</td>\n",
       "      <td>67.0</td>\n",
       "      <td>2</td>\n",
       "      <td>False</td>\n",
       "      <td>...</td>\n",
       "      <td>NaN</td>\n",
       "      <td>104</td>\n",
       "      <td>106666.7</td>\n",
       "      <td>1</td>\n",
       "      <td>9</td>\n",
       "      <td>2017</td>\n",
       "      <td>Другой</td>\n",
       "      <td>0.74</td>\n",
       "      <td>0.09</td>\n",
       "      <td>2</td>\n",
       "    </tr>\n",
       "    <tr>\n",
       "      <td>...</td>\n",
       "      <td>...</td>\n",
       "      <td>...</td>\n",
       "      <td>...</td>\n",
       "      <td>...</td>\n",
       "      <td>...</td>\n",
       "      <td>...</td>\n",
       "      <td>...</td>\n",
       "      <td>...</td>\n",
       "      <td>...</td>\n",
       "      <td>...</td>\n",
       "      <td>...</td>\n",
       "      <td>...</td>\n",
       "      <td>...</td>\n",
       "      <td>...</td>\n",
       "      <td>...</td>\n",
       "      <td>...</td>\n",
       "      <td>...</td>\n",
       "      <td>...</td>\n",
       "      <td>...</td>\n",
       "      <td>...</td>\n",
       "      <td>...</td>\n",
       "    </tr>\n",
       "    <tr>\n",
       "      <td>23632</td>\n",
       "      <td>20</td>\n",
       "      <td>5000000.0</td>\n",
       "      <td>38.0</td>\n",
       "      <td>2018-06-23</td>\n",
       "      <td>1</td>\n",
       "      <td>2.55</td>\n",
       "      <td>16</td>\n",
       "      <td>NaN</td>\n",
       "      <td>15</td>\n",
       "      <td>False</td>\n",
       "      <td>...</td>\n",
       "      <td>230.0</td>\n",
       "      <td>113</td>\n",
       "      <td>131578.9</td>\n",
       "      <td>5</td>\n",
       "      <td>6</td>\n",
       "      <td>2018</td>\n",
       "      <td>Другой</td>\n",
       "      <td>NaN</td>\n",
       "      <td>NaN</td>\n",
       "      <td>7</td>\n",
       "    </tr>\n",
       "    <tr>\n",
       "      <td>23644</td>\n",
       "      <td>7</td>\n",
       "      <td>4990000.0</td>\n",
       "      <td>62.5</td>\n",
       "      <td>2018-04-26</td>\n",
       "      <td>2</td>\n",
       "      <td>2.70</td>\n",
       "      <td>4</td>\n",
       "      <td>32.3</td>\n",
       "      <td>4</td>\n",
       "      <td>False</td>\n",
       "      <td>...</td>\n",
       "      <td>171.0</td>\n",
       "      <td>166</td>\n",
       "      <td>79840.0</td>\n",
       "      <td>3</td>\n",
       "      <td>4</td>\n",
       "      <td>2018</td>\n",
       "      <td>Последний</td>\n",
       "      <td>0.52</td>\n",
       "      <td>0.19</td>\n",
       "      <td>4</td>\n",
       "    </tr>\n",
       "    <tr>\n",
       "      <td>23665</td>\n",
       "      <td>11</td>\n",
       "      <td>4250000.0</td>\n",
       "      <td>47.0</td>\n",
       "      <td>2016-05-20</td>\n",
       "      <td>1</td>\n",
       "      <td>3.00</td>\n",
       "      <td>6</td>\n",
       "      <td>18.2</td>\n",
       "      <td>1</td>\n",
       "      <td>False</td>\n",
       "      <td>...</td>\n",
       "      <td>519.0</td>\n",
       "      <td>131</td>\n",
       "      <td>90425.5</td>\n",
       "      <td>4</td>\n",
       "      <td>5</td>\n",
       "      <td>2016</td>\n",
       "      <td>Первый</td>\n",
       "      <td>0.39</td>\n",
       "      <td>0.31</td>\n",
       "      <td>4</td>\n",
       "    </tr>\n",
       "    <tr>\n",
       "      <td>23681</td>\n",
       "      <td>13</td>\n",
       "      <td>5250000.0</td>\n",
       "      <td>43.0</td>\n",
       "      <td>2018-05-11</td>\n",
       "      <td>2</td>\n",
       "      <td>2.50</td>\n",
       "      <td>5</td>\n",
       "      <td>29.0</td>\n",
       "      <td>2</td>\n",
       "      <td>False</td>\n",
       "      <td>...</td>\n",
       "      <td>660.0</td>\n",
       "      <td>80</td>\n",
       "      <td>122093.0</td>\n",
       "      <td>4</td>\n",
       "      <td>5</td>\n",
       "      <td>2018</td>\n",
       "      <td>Другой</td>\n",
       "      <td>0.67</td>\n",
       "      <td>0.14</td>\n",
       "      <td>7</td>\n",
       "    </tr>\n",
       "    <tr>\n",
       "      <td>23690</td>\n",
       "      <td>3</td>\n",
       "      <td>5500000.0</td>\n",
       "      <td>52.0</td>\n",
       "      <td>2018-07-19</td>\n",
       "      <td>2</td>\n",
       "      <td>2.55</td>\n",
       "      <td>5</td>\n",
       "      <td>31.0</td>\n",
       "      <td>2</td>\n",
       "      <td>False</td>\n",
       "      <td>...</td>\n",
       "      <td>NaN</td>\n",
       "      <td>15</td>\n",
       "      <td>105769.2</td>\n",
       "      <td>3</td>\n",
       "      <td>7</td>\n",
       "      <td>2018</td>\n",
       "      <td>Другой</td>\n",
       "      <td>0.60</td>\n",
       "      <td>0.12</td>\n",
       "      <td>6</td>\n",
       "    </tr>\n",
       "  </tbody>\n",
       "</table>\n",
       "<p>2108 rows × 30 columns</p>\n",
       "</div>"
      ],
      "text/plain": [
       "       total_images  last_price  total_area first_day_exposition  rooms  \\\n",
       "4                 2  10000000.0       100.0           2018-06-19      2   \n",
       "24                8   6500000.0        97.2           2015-10-31      2   \n",
       "70                9   3400000.0        30.0           2018-09-05      1   \n",
       "94                3   3500000.0        29.5           2019-04-26      1   \n",
       "99               32   9600000.0        90.0           2017-09-26      4   \n",
       "...             ...         ...         ...                  ...    ...   \n",
       "23632            20   5000000.0        38.0           2018-06-23      1   \n",
       "23644             7   4990000.0        62.5           2018-04-26      2   \n",
       "23665            11   4250000.0        47.0           2016-05-20      1   \n",
       "23681            13   5250000.0        43.0           2018-05-11      2   \n",
       "23690             3   5500000.0        52.0           2018-07-19      2   \n",
       "\n",
       "       ceiling_height  floors_total  living_area  floor  is_apartment  ...  \\\n",
       "4                3.03            14         32.0     13         False  ...   \n",
       "24               2.80             3         46.5      1         False  ...   \n",
       "70               2.55             5         16.0      1         False  ...   \n",
       "94               2.50             5         15.6      2         False  ...   \n",
       "99               2.55             5         67.0      2         False  ...   \n",
       "...               ...           ...          ...    ...           ...  ...   \n",
       "23632            2.55            16          NaN     15         False  ...   \n",
       "23644            2.70             4         32.3      4         False  ...   \n",
       "23665            3.00             6         18.2      1         False  ...   \n",
       "23681            2.50             5         29.0      2         False  ...   \n",
       "23690            2.55             5         31.0      2         False  ...   \n",
       "\n",
       "       ponds_nearest  days_exposition  price_per_m2  weekday month  year  \\\n",
       "4               48.0              121      100000.0        1     6  2018   \n",
       "24             124.0              265       66872.4        5    10  2015   \n",
       "70               NaN               14      113333.3        2     9  2018   \n",
       "94               NaN                4      118644.1        4     4  2019   \n",
       "99               NaN              104      106666.7        1     9  2017   \n",
       "...              ...              ...           ...      ...   ...   ...   \n",
       "23632          230.0              113      131578.9        5     6  2018   \n",
       "23644          171.0              166       79840.0        3     4  2018   \n",
       "23665          519.0              131       90425.5        4     5  2016   \n",
       "23681          660.0               80      122093.0        4     5  2018   \n",
       "23690            NaN               15      105769.2        3     7  2018   \n",
       "\n",
       "       floor_group  living_area_part  kitchen_area_part  center_distance_km  \n",
       "4           Другой              0.32               0.41                   8  \n",
       "24          Первый              0.48               0.20                   2  \n",
       "70          Первый              0.53               0.23                   8  \n",
       "94          Другой              0.53               0.19                   7  \n",
       "99          Другой              0.74               0.09                   2  \n",
       "...            ...               ...                ...                 ...  \n",
       "23632       Другой               NaN                NaN                   7  \n",
       "23644    Последний              0.52               0.19                   4  \n",
       "23665       Первый              0.39               0.31                   4  \n",
       "23681       Другой              0.67               0.14                   7  \n",
       "23690       Другой              0.60               0.12                   6  \n",
       "\n",
       "[2108 rows x 30 columns]"
      ]
     },
     "metadata": {},
     "output_type": "display_data"
    }
   ],
   "source": [
    "spb_center = spb_realty.query('center_distance_km <= 8')\n",
    "\n",
    "display(spb_center)"
   ]
  },
  {
   "cell_type": "markdown",
   "metadata": {},
   "source": [
    "#### Исследуем следующие параметры объектов недвижимости в центре Санкт-Петербурга:\n",
    "```\n",
    "площадь\n",
    "цена\n",
    "число комнат\n",
    "высота потолков\n",
    "```\n",
    "Изучим распределение данных, построим и изучим диаграммы размаха каждого параметра в архиве объявлений."
   ]
  },
  {
   "cell_type": "markdown",
   "metadata": {},
   "source": [
    "###### 4.5.1. Площадь квартиры в центре Санкт-Петербурга"
   ]
  },
  {
   "cell_type": "code",
   "execution_count": 43,
   "metadata": {},
   "outputs": [
    {
     "data": {
      "image/png": "[encoded data removed]",
      "text/plain": [
       "<Figure size 432x288 with 1 Axes>"
      ]
     },
     "metadata": {
      "needs_background": "light"
     },
     "output_type": "display_data"
    },
    {
     "data": {
      "text/plain": [
       "count    18898.000000\n",
       "mean        51.914462\n",
       "std         17.315120\n",
       "min         12.000000\n",
       "25%         38.500000\n",
       "50%         48.000000\n",
       "75%         62.000000\n",
       "max        115.000000\n",
       "Name: total_area, dtype: float64"
      ]
     },
     "metadata": {},
     "output_type": "display_data"
    },
    {
     "data": {
      "text/plain": [
       "count    2108.000000\n",
       "mean       60.413145\n",
       "std        20.378007\n",
       "min        12.000000\n",
       "25%        44.200000\n",
       "50%        58.050000\n",
       "75%        74.900000\n",
       "max       115.000000\n",
       "Name: total_area, dtype: float64"
      ]
     },
     "metadata": {},
     "output_type": "display_data"
    }
   ],
   "source": [
    "spb_center.boxplot('total_area')\n",
    "plt.ylim(0, 120)\n",
    "plt.show()\n",
    "\n",
    "# выведем данные для Санкт-Петербурга и соседних населенных пунктов \n",
    "display(filter_realty_ya['total_area'].describe())\n",
    "\n",
    "# выведем данные для центра Санкт-Петербурга\n",
    "display(spb_center['total_area'].describe())"
   ]
  },
  {
   "cell_type": "markdown",
   "metadata": {},
   "source": [
    "Для объявлений в центре Санкт-Петербурга по сравнению со всей областью наблюдается повышение средней площади квартир примерно на 10 м². Основное количество значений площади квартир находится в интервале 45-75 кв.м. Наблюдается двукратная разница в максимальной и минимальной площади квартир.\n"
   ]
  },
  {
   "cell_type": "markdown",
   "metadata": {},
   "source": [
    "###### 4.5.2. Цена продажи квартиры на момент снятия публикации в центре Санкт-Петербурга"
   ]
  },
  {
   "cell_type": "code",
   "execution_count": 44,
   "metadata": {},
   "outputs": [
    {
     "data": {
      "image/png": "[encoded data removed]",
      "text/plain": [
       "<Figure size 432x288 with 1 Axes>"
      ]
     },
     "metadata": {
      "needs_background": "light"
     },
     "output_type": "display_data"
    },
    {
     "data": {
      "text/plain": [
       "count    1.889800e+04\n",
       "mean     4.725348e+06\n",
       "std      2.152230e+06\n",
       "min      4.300000e+05\n",
       "25%      3.290000e+06\n",
       "50%      4.300000e+06\n",
       "75%      5.800000e+06\n",
       "max      1.200000e+07\n",
       "Name: last_price, dtype: float64"
      ]
     },
     "metadata": {},
     "output_type": "display_data"
    },
    {
     "data": {
      "text/plain": [
       "count    2.108000e+03\n",
       "mean     6.946559e+06\n",
       "std      2.297333e+06\n",
       "min      1.600000e+06\n",
       "25%      5.150000e+06\n",
       "50%      6.737800e+06\n",
       "75%      8.500000e+06\n",
       "max      1.200000e+07\n",
       "Name: last_price, dtype: float64"
      ]
     },
     "metadata": {},
     "output_type": "display_data"
    }
   ],
   "source": [
    "sns.boxplot(spb_center['last_price'])\n",
    "plt.show()\n",
    "\n",
    "# выведем данные для Санкт-Петербурга и соседних населенных пунктов \n",
    "display(filter_realty_ya['last_price'].describe())\n",
    "\n",
    "# выведем данные для центра Санкт-Петербурга\n",
    "display(spb_center['last_price'].describe())"
   ]
  },
  {
   "cell_type": "markdown",
   "metadata": {},
   "source": [
    "Основное предложение на рынке недвижимости центра Санкт-Петербурга составляют квартиры стоимостью 5-8.5 млн.р., что примерно на 2.5 млн. превышает стоимость квартир для всей выборки. При этом в архиве объявлений разброс стоимости квартир значительный, максимальная цена составляет 12 млн.руб. и отличается от минимальной на порядок."
   ]
  },
  {
   "cell_type": "markdown",
   "metadata": {},
   "source": [
    "###### 4.5.3. Распределение объявлений по числу комнат квартир в центре Санкт-Петербурга"
   ]
  },
  {
   "cell_type": "code",
   "execution_count": 45,
   "metadata": {},
   "outputs": [
    {
     "data": {
      "image/png": "[encoded data removed]",
      "text/plain": [
       "<Figure size 432x288 with 1 Axes>"
      ]
     },
     "metadata": {
      "needs_background": "light"
     },
     "output_type": "display_data"
    },
    {
     "data": {
      "text/plain": [
       "count    18898.000000\n",
       "mean         1.887607\n",
       "std          0.879081\n",
       "min          0.000000\n",
       "25%          1.000000\n",
       "50%          2.000000\n",
       "75%          3.000000\n",
       "max          6.000000\n",
       "Name: rooms, dtype: float64"
      ]
     },
     "metadata": {},
     "output_type": "display_data"
    },
    {
     "data": {
      "text/plain": [
       "count    2108.000000\n",
       "mean        2.132353\n",
       "std         0.923272\n",
       "min         0.000000\n",
       "25%         1.000000\n",
       "50%         2.000000\n",
       "75%         3.000000\n",
       "max         6.000000\n",
       "Name: rooms, dtype: float64"
      ]
     },
     "metadata": {},
     "output_type": "display_data"
    }
   ],
   "source": [
    "sns.boxplot(spb_center['rooms'])\n",
    "plt.show()\n",
    "\n",
    "\n",
    "# выведем данные для Санкт-Петербурга и соседних населенных пунктов \n",
    "display(filter_realty_ya['rooms'].describe())\n",
    "\n",
    "# выведем данные для центра Санкт-Петербурга\n",
    "display(spb_center['rooms'].describe())"
   ]
  },
  {
   "cell_type": "markdown",
   "metadata": {},
   "source": [
    "Для центра Санкт-Петербурга наблюдается схожая картина как и для всего числа объявлений. Большая часть объявлений о продаже приходится на одно-, двух- и трехкомнатные квартиры, что выглядит правдоподобно."
   ]
  },
  {
   "cell_type": "markdown",
   "metadata": {},
   "source": [
    "###### 4.5.4. Распределение предложений продажи квартир в центре Санкт-Петербурга по высоте потолков"
   ]
  },
  {
   "cell_type": "code",
   "execution_count": 46,
   "metadata": {},
   "outputs": [
    {
     "data": {
      "image/png": "[encoded data removed]",
      "text/plain": [
       "<Figure size 432x288 with 1 Axes>"
      ]
     },
     "metadata": {
      "needs_background": "light"
     },
     "output_type": "display_data"
    },
    {
     "data": {
      "text/plain": [
       "count    18898.000000\n",
       "mean         2.657061\n",
       "std          0.143825\n",
       "min          2.250000\n",
       "25%          2.550000\n",
       "50%          2.600000\n",
       "75%          2.750000\n",
       "max          3.100000\n",
       "Name: ceiling_height, dtype: float64"
      ]
     },
     "metadata": {},
     "output_type": "display_data"
    },
    {
     "data": {
      "text/plain": [
       "count    2108.000000\n",
       "mean        2.769554\n",
       "std         0.195426\n",
       "min         2.400000\n",
       "25%         2.550000\n",
       "50%         2.750000\n",
       "75%         3.000000\n",
       "max         3.100000\n",
       "Name: ceiling_height, dtype: float64"
      ]
     },
     "metadata": {},
     "output_type": "display_data"
    }
   ],
   "source": [
    "sns.boxplot(spb_center['ceiling_height'])\n",
    "plt.show()\n",
    "\n",
    "\n",
    "# выведем данные для Санкт-Петербурга и соседних населенных пунктов \n",
    "display(filter_realty_ya['ceiling_height'].describe())\n",
    "\n",
    "# выведем данные для центра Санкт-Петербурга\n",
    "display(spb_center['ceiling_height'].describe())"
   ]
  },
  {
   "cell_type": "markdown",
   "metadata": {},
   "source": [
    "Для квартир в центре Санкт-Петербурга характерны более высокие потолки по сравнению с другими районами, медиана составляет **2.75 м**. Это объясняется старым фондом жилых помещений, располагающихся в исторической части города, для которых характерны высокие потолки."
   ]
  },
  {
   "cell_type": "markdown",
   "metadata": {},
   "source": [
    "#### 4.6. Факторы, влияющие на стоимость квартиры в центре Санкт-Петербурга\n",
    "\n",
    "Исследуем зависимость стоимости квартир в центре Санкт-Петербурга от:\n",
    "- числа комнат;\n",
    "- этажа;\n",
    "- удалённости от центра;\n",
    "- даты размещения объявления.\n",
    "\n",
    "Создадим функцию расчета коэффициента корреляции цены квартиры в центре Санкт-Петербурга c различными параметрами."
   ]
  },
  {
   "cell_type": "code",
   "execution_count": 47,
   "metadata": {},
   "outputs": [],
   "source": [
    "def correlation_spb(parameter):\n",
    "    corr = spb_center['last_price'].corr(spb_center[parameter])\n",
    "    print('Коэффициент корреляции составляет: {:.2f}'.format(corr))"
   ]
  },
  {
   "cell_type": "markdown",
   "metadata": {},
   "source": [
    "Для определения зависимости стоимости квартир в центре Санкт-Петербурга от числа комнат, этажа, удалённости от центра и даты размещения построим категориальные графики для каждого параметра."
   ]
  },
  {
   "cell_type": "markdown",
   "metadata": {},
   "source": [
    "###### 4.6.1. Зависимость цены квартиры в центра Санкт-Петербурга от числа комнат"
   ]
  },
  {
   "cell_type": "code",
   "execution_count": 48,
   "metadata": {},
   "outputs": [
    {
     "name": "stdout",
     "output_type": "stream",
     "text": [
      "Коэффициент корреляции составляет: 0.47\n"
     ]
    },
    {
     "data": {
      "image/png": "[encoded data removed]",
      "text/plain": [
       "<Figure size 432x288 with 1 Axes>"
      ]
     },
     "metadata": {
      "needs_background": "light"
     },
     "output_type": "display_data"
    }
   ],
   "source": [
    "sns.boxplot(x=\"rooms\", y=\"last_price\", data=spb_center)\n",
    "\n",
    "sns.despine()\n",
    "\n",
    "# вычислим коэффициент корреляции для центра Санкт-Петербурга\n",
    "correlation_spb('rooms')"
   ]
  },
  {
   "cell_type": "markdown",
   "metadata": {},
   "source": [
    "###### 4.6.2. Зависимость цены квартиры в центре Санкт-Петербурга от этажа"
   ]
  },
  {
   "cell_type": "code",
   "execution_count": 49,
   "metadata": {},
   "outputs": [
    {
     "data": {
      "image/png": "[encoded data removed]",
      "text/plain": [
       "<Figure size 360x360 with 1 Axes>"
      ]
     },
     "metadata": {
      "needs_background": "light"
     },
     "output_type": "display_data"
    }
   ],
   "source": [
    "sns.catplot(x=\"floor_group\", y=\"last_price\", data=spb_center)\n",
    "\n",
    "sns.despine()"
   ]
  },
  {
   "cell_type": "markdown",
   "metadata": {},
   "source": [
    "###### 4.6.3. Зависимость цены квартире в центре Санкт-Петербурге от удаленности от центра"
   ]
  },
  {
   "cell_type": "code",
   "execution_count": 50,
   "metadata": {},
   "outputs": [
    {
     "name": "stdout",
     "output_type": "stream",
     "text": [
      "Коэффициент корреляции составляет: -0.20\n"
     ]
    },
    {
     "data": {
      "image/png": "[encoded data removed]",
      "text/plain": [
       "<Figure size 360x360 with 1 Axes>"
      ]
     },
     "metadata": {
      "needs_background": "light"
     },
     "output_type": "display_data"
    }
   ],
   "source": [
    "sns.catplot(x=\"center_distance_km\", y=\"last_price\", kind = 'box', data=spb_center)\n",
    "\n",
    "sns.despine()\n",
    "\n",
    "# вычислим коэффициент корреляции для Санкт-Петербурга\n",
    "correlation_spb('center_distance_km')"
   ]
  },
  {
   "cell_type": "markdown",
   "metadata": {},
   "source": [
    "###### 4.6.4.  Зависимость цены квартиры в центра Санкт-Петербурга от даты размещения: дня недели, месяца и года."
   ]
  },
  {
   "cell_type": "code",
   "execution_count": 51,
   "metadata": {},
   "outputs": [
    {
     "name": "stdout",
     "output_type": "stream",
     "text": [
      "Коэффициент корреляции составляет: 0.02\n",
      "Коэффициент корреляции составляет: -0.02\n",
      "Коэффициент корреляции составляет: 0.03\n"
     ]
    },
    {
     "data": {
      "image/png": "[encoded data removed]",
      "text/plain": [
       "<Figure size 360x360 with 1 Axes>"
      ]
     },
     "metadata": {
      "needs_background": "light"
     },
     "output_type": "display_data"
    },
    {
     "data": {
      "image/png": "[encoded data removed]",
      "text/plain": [
       "<Figure size 360x360 with 1 Axes>"
      ]
     },
     "metadata": {
      "needs_background": "light"
     },
     "output_type": "display_data"
    },
    {
     "data": {
      "image/png": "[encoded data removed]",
      "text/plain": [
       "<Figure size 360x360 with 1 Axes>"
      ]
     },
     "metadata": {
      "needs_background": "light"
     },
     "output_type": "display_data"
    }
   ],
   "source": [
    "date = ['weekday', 'month', 'year']\n",
    "for val in date:\n",
    "    sns.catplot(x=val, y=\"last_price\", kind=\"box\", data=spb_center)\n",
    "    # вычислим коэффициент корреляции\n",
    "    correlation_spb(val)\n",
    "    \n",
    "sns.despine()"
   ]
  },
  {
   "cell_type": "markdown",
   "metadata": {},
   "source": [
    "#### Вывод\n",
    "1. Для квартир в центре Санкт-Петербурга прямопропорциональная зависимость стоимости от числа комнат выражена сильнее, коэффициент корреляции составляет 0.47, в то время как для Санкт-Петербурга и области равен 0.42. \n",
    "2. По сравнению с рынком недвижимости всех районов Санкт-Петербурга и соседних населённых пунктов, стоимость квартиры в центре Санкт-Петербурга на последнем этаже оценивается выше. Такое явление можно связать с отличными видовыми характеристиками верхних этажей.\n",
    "3. Поскольку рассматриваются квартиры в центре Санкт-Петербурга, взаимосвязь стоимости квартиры от удаленности от центра слабее, что вполне логично. Коэффициент корреляции для квартир в центре Санкт-Петербурга и для квартир всех районов города и области составляет -0.20 и -0.32, соответственно. \n",
    "4. Так же как и для всей выборки средняя цена квартиры в центре Санкт-Петербурга незначительно снижается в летние месяцы и в январе, что вызвано сезонным спадом спроса в период отпусков и новогодних праздников. При этом в марте наблюдается повышение стоимости квартиры, что может быть связано с оживлением спроса на недвижимсоть после долгих новогодних праздников. Интересно отметить, что в объявлениях о продаже, опубликованных в воскресенье, средняя стоимость квартиры была выше по сравнению с остальными днями.\n",
    "5. Отмеченный для квартир Санкт-Петербурге и соседних населенных пунктов резкий спад стоимости квартиры при переходе от 2014 года к 2015 году для квартир в центре Санкт-Петербурга проследить не удалось, так как отсутствуют данные за 2014 год. В интервале 2015-2019 гг. наблюдается незначительное повышение стоимости жилья, вероятно связанное с инфляцией."
   ]
  },
  {
   "cell_type": "markdown",
   "metadata": {},
   "source": [
    "## 5. Общий вывод"
   ]
  },
  {
   "cell_type": "markdown",
   "metadata": {},
   "source": [
    "Исследованы данные сервиса Яндекс.Недвижимость — архив объявлений о продаже квартир в Санкт-Петербурге и соседних населённых пунктах за 2014-2019 гг. Основное предложение на рынке недвижимости Санкт-Петербурга и соседних населенных пунктов составляют квартиры стоимостью 3.5-7 млн.р. Для центра Санкт-Петербурга стоимость квартиры примерно на 2.5 млн.р. выше.\n",
    "\n",
    "Определено, что чаще всего квартиры продаются в районе 3 месяцев (~95-100 дней). Аномально выглядят объявления со сроком размещения более 400 дней, то есть более одного года. \n",
    "\n",
    "Установлено, что на рыночную стоимость объектов недвижимости в данном регионе влияют следующие параметры:\n",
    "1. **Общая площадь квартиры.** Из всех параметров площадь квартиры вносит наибольший вклад в стоимость квартиры, коэффициент корреляции составляет 0.69. Основную долю предложения составляют квартиры с площадью в интервале 40-75 м². Для объявлений в центре Санкт-Петербурга средняя площадь квартир примерно на 10 м² выше по сравнению со всеми районами. Объявления квартир с площадью более 115 м² являются редкими или аномальными.\n",
    "2. **Расстояние до центра города.** Выделен сегмент квартир в центре Санкт-Петербурга в радиусе 8 км от центра. С увеличением удаленности от центра стоимость квартиры снижается, при этом коэффициент корреляции равен -0.32. Для квартир в центре Санкт-Петербурга взаимосвязь стоимости квартиры от удаленности от центра слабее.\n",
    "3. **Число комнат.** Однокомнатные и двухкомнатные квартиры наиболее популярны на рынке жилья. Наблюдается низкое предложение студий, объявлений о продаже квартир с более чем 6 комнат практически нет. Наиболее доступны в цене студии и однокомнатные квартиры, и с увеличением количества комнат цена недвижимости повышается. Для квартир в центре Санкт-Петербурга зависимость стоимости от числа комнат выражена сильнее, коэффициент корреляции составляет 0.47, в то время как для Санкт-Петербурга и области равен 0.42.\n",
    "4. **Высота потолков.** Наиболее часто встречаются квартиры с высотой потолков ~ 2.5 и 2.75 м. Редкими и выбивающимися значениями можно считать объявления с высотой потолков более 3.1 м. Следует обратить внимание на объявления квартир с аномально низкими потолками, < 2.5 м. Для некоторых квартир высота потолков достигаем 1-2 м., что противоречит узаконенным строительным нормам и правилам.\n",
    "5. **Этаж квартиры.** Как правило, квартиры на первом или последнем этаже продаются по более низкой цене, чем квартиры на других этажах. Однако стоимость квартиры в центре Санкт-Петербурга на последнем этаже оценивается выше.\n",
    "6. **Дата размещения.** День недели и месяц публикации объявления не оказывают существенного влияния на стоимость квартиры. Средняя цена квартиры в продаже лишь незначительно снижается в летние месяцы и в январе, что связано с сезонным спадом спроса. При этом стоимость недвижимости может существенно колебаться в зависимости от года, что может быть связано с макроэкономической ситуацией в стране."
   ]
  }
 ],
 "metadata": {
  "kernelspec": {
   "display_name": "Python 3",
   "language": "python",
   "name": "python3"
  },
  "language_info": {
   "codemirror_mode": {
    "name": "ipython",
    "version": 3
   },
   "file_extension": ".py",
   "mimetype": "text/x-python",
   "name": "python",
   "nbconvert_exporter": "python",
   "pygments_lexer": "ipython3",
   "version": "3.7.4"
  },
  "toc": {
   "base_numbering": 1,
   "nav_menu": {},
   "number_sections": true,
   "sideBar": true,
   "skip_h1_title": true,
   "title_cell": "Table of Contents",
   "title_sidebar": "Contents",
   "toc_cell": false,
   "toc_position": {},
   "toc_section_display": true,
   "toc_window_display": false
  }
 },
 "nbformat": 4,
 "nbformat_minor": 2
}
